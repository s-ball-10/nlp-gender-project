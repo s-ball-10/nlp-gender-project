{
  "cells": [
    {
      "cell_type": "markdown",
      "metadata": {
        "id": "CUMqgQgKj4Rh"
      },
      "source": [
        "# Installing packages"
      ]
    },
    {
      "cell_type": "code",
      "execution_count": null,
      "metadata": {
        "colab": {
          "base_uri": "https://localhost:8080/"
        },
        "id": "L-8uir7VzfeJ",
        "outputId": "09253b14-137f-42bb-8f70-629b1bc57323"
      },
      "outputs": [
        {
          "name": "stdout",
          "output_type": "stream",
          "text": [
            "Mounted at /content/drive\n"
          ]
        }
      ],
      "source": [
        "from google.colab import drive\n",
        "drive.mount('/content/drive', force_remount=True)\n",
        "filePath= '/content/drive/MyDrive/' # change this"
      ]
    },
    {
      "cell_type": "code",
      "execution_count": null,
      "metadata": {
        "id": "eyJvKNFU0sqy"
      },
      "outputs": [],
      "source": [
        "import gzip\n",
        "import json\n",
        "import pandas as pd\n",
        "import random\n",
        "import numpy as np\n",
        "import torch\n",
        "import warnings\n",
        "import re\n",
        "import itertools\n",
        "import operator\n",
        "import pickle\n",
        "import csv\n",
        "import matplotlib.pyplot as plt\n",
        "\n",
        "from collections import defaultdict, Counter\n",
        "from tqdm.notebook import tqdm\n",
        "from nltk.util import bigrams\n",
        "from html import unescape\n",
        "from string import punctuation\n",
        "from sklearn.feature_extraction import _stop_words\n",
        "from sklearn.metrics import classification_report, f1_score, confusion_matrix\n",
        "from sklearn.metrics import accuracy_score\n",
        "from sklearn.model_selection import GroupShuffleSplit\n",
        "from sklearn.manifold import TSNE\n",
        "from sklearn.utils import resample\n",
        "from sklearn.model_selection import train_test_split\n",
        "\n",
        "from torch import nn, optim\n",
        "from torch.nn import functional as F\n",
        "from torch.utils.data import Dataset, DataLoader\n",
        "\n",
        "warnings.filterwarnings(\"ignore\", category=FutureWarning)"
      ]
    },
    {
      "cell_type": "code",
      "execution_count": null,
      "metadata": {
        "colab": {
          "base_uri": "https://localhost:8080/"
        },
        "id": "1nqvveNDHyFE",
        "outputId": "b9eeb0b4-a3d5-4972-9b37-941f3929bef4"
      },
      "outputs": [
        {
          "name": "stdout",
          "output_type": "stream",
          "text": [
            "Requirement already satisfied: feather-format in /usr/local/lib/python3.7/dist-packages (0.4.1)\n",
            "Requirement already satisfied: pyarrow>=0.4.0 in /usr/local/lib/python3.7/dist-packages (from feather-format) (6.0.1)\n",
            "Requirement already satisfied: numpy>=1.16.6 in /usr/local/lib/python3.7/dist-packages (from pyarrow>=0.4.0->feather-format) (1.21.6)\n"
          ]
        }
      ],
      "source": [
        "!pip install feather-format\n",
        "import feather"
      ]
    },
    {
      "cell_type": "code",
      "execution_count": null,
      "metadata": {
        "colab": {
          "base_uri": "https://localhost:8080/"
        },
        "id": "Jw9Df5BXO4u3",
        "outputId": "e9a553a3-500c-4afc-83a2-6eb435898db9"
      },
      "outputs": [
        {
          "name": "stdout",
          "output_type": "stream",
          "text": [
            "Collecting gender-guesser\n",
            "  Downloading gender_guesser-0.4.0-py2.py3-none-any.whl (379 kB)\n",
            "\u001b[K     |████████████████████████████████| 379 kB 5.3 MB/s eta 0:00:01\n",
            "\u001b[?25hInstalling collected packages: gender-guesser\n",
            "Successfully installed gender-guesser-0.4.0\n"
          ]
        }
      ],
      "source": [
        "! pip install gender-guesser\n",
        "import gender_guesser.detector as gender"
      ]
    },
    {
      "cell_type": "code",
      "execution_count": null,
      "metadata": {
        "colab": {
          "base_uri": "https://localhost:8080/"
        },
        "id": "3k40u5Y2d688",
        "outputId": "c40dad3d-0b65-43f6-d81a-0f894b743994"
      },
      "outputs": [
        {
          "name": "stdout",
          "output_type": "stream",
          "text": [
            "Collecting pickle5\n",
            "  Downloading pickle5-0.0.12-cp37-cp37m-manylinux_2_5_x86_64.manylinux1_x86_64.whl (256 kB)\n",
            "\u001b[K     |████████████████████████████████| 256 kB 5.3 MB/s eta 0:00:01\n",
            "\u001b[?25hInstalling collected packages: pickle5\n",
            "Successfully installed pickle5-0.0.12\n"
          ]
        }
      ],
      "source": [
        "!pip3 install pickle5\n",
        "import pickle5 as pickle"
      ]
    },
    {
      "cell_type": "markdown",
      "metadata": {
        "id": "BOH8c-voD1Fw"
      },
      "source": [
        "# Loading the Amazon book dataset\n",
        "This section loads the meta book dataset and extracts the reviews for the selected books. The following steps were taken:\n",
        "- Load meta data for books\n",
        "- Extract the books for the categories of interest: *classic, romance* and *science fiction*\n",
        "- Remove book duplicates and children books from the meta dataset\n",
        "- Load the reviews that correspond to the selected books and store them in a separate file\n"
      ]
    },
    {
      "cell_type": "code",
      "execution_count": null,
      "metadata": {
        "id": "5_j2FjIqD1Fw"
      },
      "outputs": [],
      "source": [
        "# Loading the books meta dataset\n",
        "meta_data = []\n",
        "with open('meta_Books.json', 'r') as f:\n",
        "    for l in f:\n",
        "        obj = json.loads(l)\n",
        "        meta_data.append(obj)"
      ]
    },
    {
      "cell_type": "code",
      "execution_count": null,
      "metadata": {
        "id": "IT_ogzziD1Fx",
        "outputId": "56a46898-a474-4fcb-d828-ffac6508fd79"
      },
      "outputs": [
        {
          "data": {
            "text/plain": [
              "2934949"
            ]
          },
          "execution_count": 13,
          "metadata": {},
          "output_type": "execute_result"
        }
      ],
      "source": [
        "len(meta_data)"
      ]
    },
    {
      "cell_type": "code",
      "execution_count": null,
      "metadata": {
        "id": "CuowbmWfD1Fx",
        "outputId": "df1f4062-4822-43fc-aaf5-756e73c463bc"
      },
      "outputs": [
        {
          "data": {
            "text/plain": [
              "{'category': ['Books',\n",
              "  'New, Used & Rental Textbooks',\n",
              "  'Medicine & Health Sciences'],\n",
              " 'tech1': '',\n",
              " 'description': [],\n",
              " 'fit': '',\n",
              " 'title': 'Mksap 16 Audio Companion: Medical Knowledge Self-Assessment Program',\n",
              " 'also_buy': [],\n",
              " 'tech2': '',\n",
              " 'brand': 'Acp',\n",
              " 'feature': [],\n",
              " 'rank': '1,702,625 in Books (',\n",
              " 'also_view': ['B01MUCYEV7', 'B01KUGTY6O'],\n",
              " 'main_cat': 'Books',\n",
              " 'similar_item': '',\n",
              " 'date': '',\n",
              " 'price': '',\n",
              " 'asin': '000047715X',\n",
              " 'imageURL': [],\n",
              " 'imageURLHighRes': []}"
            ]
          },
          "execution_count": 14,
          "metadata": {},
          "output_type": "execute_result"
        }
      ],
      "source": [
        "meta_data[1]"
      ]
    },
    {
      "cell_type": "code",
      "execution_count": null,
      "metadata": {
        "id": "Xj4u_ZvOD1Fy"
      },
      "outputs": [],
      "source": [
        "# Extracting relevant categories\n",
        "relevant_categories = [\"Romance\", \"Romantic Suspense\", \"Romantic Commedy\",\n",
        "                       \"Science Fiction\", \"Science Fiction &amp; Dystopian\",\n",
        "                       \"Classics\"]\n",
        "\n",
        "relevant_data = dict()\n",
        "\n",
        "for cat in relevant_categories:\n",
        "    for i,item in enumerate(meta_data):\n",
        "        if cat in meta_data[i]['category']:\n",
        "                relevant_data[i]= item"
      ]
    },
    {
      "cell_type": "code",
      "execution_count": null,
      "metadata": {
        "id": "YUJEhJ4ND1Fy"
      },
      "outputs": [],
      "source": [
        "# Store relevant books as dataframe\n",
        "df_all = pd.DataFrame.from_dict(relevant_data, orient=\"index\")"
      ]
    },
    {
      "cell_type": "code",
      "execution_count": null,
      "metadata": {
        "id": "yxXqGBlrD1Fy",
        "outputId": "f2dafcf5-c44d-44c9-a5f7-e758a6a8ecea"
      },
      "outputs": [
        {
          "data": {
            "text/plain": [
              "91986"
            ]
          },
          "execution_count": 23,
          "metadata": {},
          "output_type": "execute_result"
        }
      ],
      "source": [
        "len(df_all)"
      ]
    },
    {
      "cell_type": "code",
      "execution_count": null,
      "metadata": {
        "id": "PVrPOt9WD1Fz"
      },
      "outputs": [],
      "source": [
        "# Remove book duplicates\n",
        "df_all_pure=df_all.drop_duplicates(subset = 'asin', ignore_index=True)"
      ]
    },
    {
      "cell_type": "code",
      "execution_count": null,
      "metadata": {
        "id": "jH1lLpB1D1Fz",
        "outputId": "b687e1c3-14c1-4754-d451-cfbbe9490410"
      },
      "outputs": [
        {
          "data": {
            "text/plain": [
              "91941"
            ]
          },
          "execution_count": 25,
          "metadata": {},
          "output_type": "execute_result"
        }
      ],
      "source": [
        "len(df_all_pure)"
      ]
    },
    {
      "cell_type": "code",
      "execution_count": null,
      "metadata": {
        "id": "pcNxSeNsD1F0",
        "outputId": "2e6dcbc4-09a8-4de2-dc1d-05545fade7df"
      },
      "outputs": [
        {
          "data": {
            "text/html": [
              "<div>\n",
              "<style scoped>\n",
              "    .dataframe tbody tr th:only-of-type {\n",
              "        vertical-align: middle;\n",
              "    }\n",
              "\n",
              "    .dataframe tbody tr th {\n",
              "        vertical-align: top;\n",
              "    }\n",
              "\n",
              "    .dataframe thead th {\n",
              "        text-align: right;\n",
              "    }\n",
              "</style>\n",
              "<table border=\"1\" class=\"dataframe\">\n",
              "  <thead>\n",
              "    <tr style=\"text-align: right;\">\n",
              "      <th></th>\n",
              "      <th>category</th>\n",
              "      <th>tech1</th>\n",
              "      <th>description</th>\n",
              "      <th>fit</th>\n",
              "      <th>title</th>\n",
              "      <th>also_buy</th>\n",
              "      <th>tech2</th>\n",
              "      <th>brand</th>\n",
              "      <th>feature</th>\n",
              "      <th>rank</th>\n",
              "      <th>also_view</th>\n",
              "      <th>main_cat</th>\n",
              "      <th>similar_item</th>\n",
              "      <th>date</th>\n",
              "      <th>price</th>\n",
              "      <th>asin</th>\n",
              "      <th>imageURL</th>\n",
              "      <th>imageURLHighRes</th>\n",
              "      <th>details</th>\n",
              "    </tr>\n",
              "  </thead>\n",
              "  <tbody>\n",
              "    <tr>\n",
              "      <th>0</th>\n",
              "      <td>[Books, Romance, Historical]</td>\n",
              "      <td></td>\n",
              "      <td>[]</td>\n",
              "      <td></td>\n",
              "      <td>Kirkland Revels</td>\n",
              "      <td>[0385006098, 0385065884, 0385082762, 038512281...</td>\n",
              "      <td></td>\n",
              "      <td>Visit Amazon's Victoria Holt Page</td>\n",
              "      <td>[]</td>\n",
              "      <td>2,210,538 in Books (</td>\n",
              "      <td>[0449452522, 0385082762]</td>\n",
              "      <td>Books</td>\n",
              "      <td></td>\n",
              "      <td></td>\n",
              "      <td>$11.99</td>\n",
              "      <td>0002214032</td>\n",
              "      <td>[]</td>\n",
              "      <td>[]</td>\n",
              "      <td>NaN</td>\n",
              "    </tr>\n",
              "    <tr>\n",
              "      <th>1</th>\n",
              "      <td>[Books, Romance, Historical]</td>\n",
              "      <td></td>\n",
              "      <td>[hardbound]</td>\n",
              "      <td></td>\n",
              "      <td>The Lynmara Legacy</td>\n",
              "      <td>[0006161340, 0380651513, 0002216639, 038513468...</td>\n",
              "      <td></td>\n",
              "      <td>Visit Amazon's Catherine Gaskin Page</td>\n",
              "      <td>[]</td>\n",
              "      <td>4,606,839 in Books (</td>\n",
              "      <td>[0002216639]</td>\n",
              "      <td>Books</td>\n",
              "      <td></td>\n",
              "      <td></td>\n",
              "      <td>$6.66</td>\n",
              "      <td>0002214962</td>\n",
              "      <td>[]</td>\n",
              "      <td>[]</td>\n",
              "      <td>NaN</td>\n",
              "    </tr>\n",
              "    <tr>\n",
              "      <th>2</th>\n",
              "      <td>[Books, Romance]</td>\n",
              "      <td></td>\n",
              "      <td>[]</td>\n",
              "      <td></td>\n",
              "      <td>Smouldering Fire</td>\n",
              "      <td>[0006135196, 0030426162, 0030665558, 140227082...</td>\n",
              "      <td></td>\n",
              "      <td>Visit Amazon's D. E. Stevenson Page</td>\n",
              "      <td>[]</td>\n",
              "      <td>8,260,431 in Books (</td>\n",
              "      <td>[1492607398, 1912574519, 1912574535, 191257457...</td>\n",
              "      <td>Books</td>\n",
              "      <td></td>\n",
              "      <td></td>\n",
              "      <td>$87.75</td>\n",
              "      <td>0002217600</td>\n",
              "      <td>[]</td>\n",
              "      <td>[]</td>\n",
              "      <td>NaN</td>\n",
              "    </tr>\n",
              "    <tr>\n",
              "      <th>3</th>\n",
              "      <td>[Books, Romance, Historical]</td>\n",
              "      <td></td>\n",
              "      <td>[]</td>\n",
              "      <td></td>\n",
              "      <td>The Property of a Gentleman</td>\n",
              "      <td>[0006164625, B000BSIFO4, B0007EISXA, 038065151...</td>\n",
              "      <td></td>\n",
              "      <td>Visit Amazon's Catherine Gaskin Page</td>\n",
              "      <td>[]</td>\n",
              "      <td>4,665,082 in Books (</td>\n",
              "      <td>[B002J4F7VC, 0449236900, 0002214962]</td>\n",
              "      <td>Books</td>\n",
              "      <td></td>\n",
              "      <td></td>\n",
              "      <td>$25.53</td>\n",
              "      <td>0002216639</td>\n",
              "      <td>[]</td>\n",
              "      <td>[]</td>\n",
              "      <td>NaN</td>\n",
              "    </tr>\n",
              "    <tr>\n",
              "      <th>4</th>\n",
              "      <td>[Books, Romance, Historical]</td>\n",
              "      <td></td>\n",
              "      <td>[Ginny Tilsit...Lively, attractive, she had be...</td>\n",
              "      <td></td>\n",
              "      <td>The Tilsit Inheritance</td>\n",
              "      <td>[000221203X, 0002212269, 0002216639, 000616593...</td>\n",
              "      <td></td>\n",
              "      <td>Visit Amazon's Catherine Gaskin Page</td>\n",
              "      <td>[]</td>\n",
              "      <td>5,164,872 in Books (</td>\n",
              "      <td>[0385134681, 0006161340, 038070174X, 044923690...</td>\n",
              "      <td>Books</td>\n",
              "      <td></td>\n",
              "      <td></td>\n",
              "      <td>$5.39</td>\n",
              "      <td>0002218100</td>\n",
              "      <td>[]</td>\n",
              "      <td>[]</td>\n",
              "      <td>NaN</td>\n",
              "    </tr>\n",
              "  </tbody>\n",
              "</table>\n",
              "</div>"
            ],
            "text/plain": [
              "                       category tech1  \\\n",
              "0  [Books, Romance, Historical]         \n",
              "1  [Books, Romance, Historical]         \n",
              "2              [Books, Romance]         \n",
              "3  [Books, Romance, Historical]         \n",
              "4  [Books, Romance, Historical]         \n",
              "\n",
              "                                         description fit  \\\n",
              "0                                                 []       \n",
              "1                                        [hardbound]       \n",
              "2                                                 []       \n",
              "3                                                 []       \n",
              "4  [Ginny Tilsit...Lively, attractive, she had be...       \n",
              "\n",
              "                         title  \\\n",
              "0              Kirkland Revels   \n",
              "1           The Lynmara Legacy   \n",
              "2             Smouldering Fire   \n",
              "3  The Property of a Gentleman   \n",
              "4       The Tilsit Inheritance   \n",
              "\n",
              "                                            also_buy tech2  \\\n",
              "0  [0385006098, 0385065884, 0385082762, 038512281...         \n",
              "1  [0006161340, 0380651513, 0002216639, 038513468...         \n",
              "2  [0006135196, 0030426162, 0030665558, 140227082...         \n",
              "3  [0006164625, B000BSIFO4, B0007EISXA, 038065151...         \n",
              "4  [000221203X, 0002212269, 0002216639, 000616593...         \n",
              "\n",
              "                                  brand feature                  rank  \\\n",
              "0     Visit Amazon's Victoria Holt Page      []  2,210,538 in Books (   \n",
              "1  Visit Amazon's Catherine Gaskin Page      []  4,606,839 in Books (   \n",
              "2   Visit Amazon's D. E. Stevenson Page      []  8,260,431 in Books (   \n",
              "3  Visit Amazon's Catherine Gaskin Page      []  4,665,082 in Books (   \n",
              "4  Visit Amazon's Catherine Gaskin Page      []  5,164,872 in Books (   \n",
              "\n",
              "                                           also_view main_cat similar_item  \\\n",
              "0                           [0449452522, 0385082762]    Books                \n",
              "1                                       [0002216639]    Books                \n",
              "2  [1492607398, 1912574519, 1912574535, 191257457...    Books                \n",
              "3               [B002J4F7VC, 0449236900, 0002214962]    Books                \n",
              "4  [0385134681, 0006161340, 038070174X, 044923690...    Books                \n",
              "\n",
              "  date   price        asin imageURL imageURLHighRes details  \n",
              "0       $11.99  0002214032       []              []     NaN  \n",
              "1        $6.66  0002214962       []              []     NaN  \n",
              "2       $87.75  0002217600       []              []     NaN  \n",
              "3       $25.53  0002216639       []              []     NaN  \n",
              "4        $5.39  0002218100       []              []     NaN  "
            ]
          },
          "execution_count": 26,
          "metadata": {},
          "output_type": "execute_result"
        }
      ],
      "source": [
        "df_all_pure.head()"
      ]
    },
    {
      "cell_type": "code",
      "execution_count": null,
      "metadata": {
        "tags": [],
        "id": "1DtfBLA2D1F0"
      },
      "outputs": [],
      "source": [
        "# Exclude children's books\n",
        "df_adults = df_all_pure[~df_all_pure.category.astype(str).str.contains('Children')]\n",
        "\n",
        "# Exclude books of categories which combine romance and science fiction labels ...\n",
        "# ... because they mix women and men typcial categories\n",
        "df_adults = df_adults[~((df_adults['category'].astype(str).str.contains('Romance'))\n",
        "                      & (df_adults['category'].astype(str).str.contains('Science Fiction')))]"
      ]
    },
    {
      "cell_type": "code",
      "execution_count": null,
      "metadata": {
        "id": "fZ8MnU93D1F0",
        "outputId": "34ca2496-19ae-40ad-8911-b10f7ecedcc5"
      },
      "outputs": [
        {
          "data": {
            "text/plain": [
              "90367"
            ]
          },
          "execution_count": 72,
          "metadata": {},
          "output_type": "execute_result"
        }
      ],
      "source": [
        "len(df_adults)"
      ]
    },
    {
      "cell_type": "code",
      "execution_count": null,
      "metadata": {
        "id": "yf8ckVNxD1F1"
      },
      "outputs": [],
      "source": [
        "# Store dataframe\n",
        "df_adults.to_pickle(\"df_adults.pkl\")\n",
        "\n",
        "# Store unique book IDs of selected books\n",
        "unique_products = list(df_adults['asin'])"
      ]
    },
    {
      "cell_type": "code",
      "execution_count": null,
      "metadata": {
        "id": "DiuNlmLYD1F1"
      },
      "outputs": [],
      "source": [
        "# Extracting all reviews of the selected books\n",
        "pattern = re.compile(rb'(?<=asin\\\":\\s\\\")\\d*(?=\\\")')\n",
        "with open('selection_books.json', 'w') as outfile:\n",
        "    with gzip.open(\"Books.json.gz\", \"r\") as my_file:\n",
        "        while True:\n",
        "            line = list(itertools.islice(my_file, 100000))\n",
        "            if line:\n",
        "                for l in line:\n",
        "                    match = re.search(pattern, l)\n",
        "                    if match:\n",
        "                        if str(match[0],'utf-8') in unique_products:\n",
        "                            outfile.write(str(l, 'utf-8'))\n",
        "            else:\n",
        "                break"
      ]
    },
    {
      "cell_type": "markdown",
      "metadata": {
        "id": "DHjf8x9qOZQ4"
      },
      "source": [
        "# Preparing the final reviews dataset\n",
        "This section prepares the final dataset. Steps included are:\n",
        "- Data preprocessing\n",
        "- Defining how to predict the gender based on usernames\n",
        "- Once again narrow down book categories (because otherwise dataset would have been to large)\n",
        "- Applying cleaning functions to reviews and obtain gender predictions\n",
        "- Deleting reviews with less than 10 words\n",
        "- Splitting dataset in training, developement and test set\n"
      ]
    },
    {
      "cell_type": "markdown",
      "metadata": {
        "id": "6MLWWLPCrPmv"
      },
      "source": [
        "## Stop words, embeddings and cleaning functions"
      ]
    },
    {
      "cell_type": "code",
      "execution_count": null,
      "metadata": {
        "colab": {
          "base_uri": "https://localhost:8080/"
        },
        "id": "iyFJ3VugrevS",
        "outputId": "86600853-6b7c-4b7b-854f-c9caac1b62f1"
      },
      "outputs": [
        {
          "data": {
            "text/plain": [
              "321"
            ]
          },
          "execution_count": 16,
          "metadata": {},
          "output_type": "execute_result"
        }
      ],
      "source": [
        "# Loading stop words (previously provided stopwords and sklearn stopwords)\n",
        "stops_1 = list()\n",
        "\n",
        "with open(filePath+'stopwords_formative2.txt', 'r') as fd:\n",
        "    reader = csv.reader(fd)\n",
        "    for row in fd:\n",
        "        stops_1.append(row.replace(\"\\n\",\"\"))\n",
        "\n",
        "stops_2 = list(_stop_words.ENGLISH_STOP_WORDS) + ['t', 's', 'S']\n",
        "len(stops_2)"
      ]
    },
    {
      "cell_type": "code",
      "execution_count": null,
      "metadata": {
        "colab": {
          "base_uri": "https://localhost:8080/"
        },
        "id": "lHXf3gFormz-",
        "outputId": "133b110b-0d20-4420-efc5-a4d1584bdf8e"
      },
      "outputs": [
        {
          "data": {
            "text/plain": [
              "382"
            ]
          },
          "execution_count": 18,
          "metadata": {},
          "output_type": "execute_result"
        }
      ],
      "source": [
        "# Combine both stop lists and extract unique words\n",
        "stops_1.extend(stops_2)\n",
        "\n",
        "stops = set(stops_1)\n",
        "len(stops)"
      ]
    },
    {
      "cell_type": "code",
      "execution_count": null,
      "metadata": {
        "id": "7CxvALhKrrK1"
      },
      "outputs": [],
      "source": [
        "# Load fastText word embeddings\n",
        "with open(filePath+'fasttext_vectors.p', 'rb') as f:\n",
        "    fasttext_vecs = pickle.load(f)"
      ]
    },
    {
      "cell_type": "code",
      "execution_count": null,
      "metadata": {
        "id": "GYR8MBOfP90C"
      },
      "outputs": [],
      "source": [
        "# Tokenise words for being able to count words in original review\n",
        "# (used later for deleting reviews with less than 10 words)\n",
        "def tokenise(text):\n",
        "    text = re.sub(\"[^a-zA-Z0-9]\", ' ', text)\n",
        "    return [w.lower() for w in text.split()]"
      ]
    },
    {
      "cell_type": "code",
      "execution_count": null,
      "metadata": {
        "id": "2nrm_0BOryZ2"
      },
      "outputs": [],
      "source": [
        "# Cleaning function used to prepare review texts for LSTM\n",
        "def cleaning(text):\n",
        "    text = re.sub(\"&nbsp;<a.*?</a>|<a.*?</a>\", 'url', text)\n",
        "    text = text.replace('\\n',' ')\n",
        "    text = text.replace('\\t',' ')\n",
        "    text = re.sub(\"[^a-zA-Z0-9']\", ' ', text)\n",
        "    text = [w.lower() for w in text.strip().split()]\n",
        "    return [w for w in text if w in fasttext_vecs]"
      ]
    },
    {
      "cell_type": "code",
      "execution_count": null,
      "metadata": {
        "id": "NQDAjHaar2yk"
      },
      "outputs": [],
      "source": [
        "# Cleaning function used to prepare review texts for Naive Bayes and descriptive analyses\n",
        "def cleaning_for_descriptives(text):\n",
        "    text = re.sub(\"&nbsp;<a.*?</a>|<a.*?</a>\", 'url', text) # replace urls in review with 'url'\n",
        "    text = text.replace('\\n',' ')\n",
        "    text = text.replace('\\t',' ')\n",
        "    text = re.sub('[^a-zA-Z0-9]', ' ', text)\n",
        "    return [w.lower() for w in text.strip().split() if w.lower() not in stops and w.lower() in fasttext_vecs]"
      ]
    },
    {
      "cell_type": "markdown",
      "metadata": {
        "id": "f0Wv_wcur79v"
      },
      "source": [
        "*Rationale for determining gender*:\n",
        "- If a username consists of less than three name parts, predict gender based on the first part\n",
        "- If a username has three parts or more, extract the first three parts, predict the gender for all parts and determine that if one of the parts is female, the gender is set to female. If there is no female part but a male one, the gender is set to male. This approach is based on the observation that some users abbreviate their first name but use a gender-revealing middle name(s).\n",
        "- All predictions of the gender-guesser which are NOT female or male are set to \"none\""
      ]
    },
    {
      "cell_type": "code",
      "execution_count": null,
      "metadata": {
        "id": "R3KtbFBisIwA"
      },
      "outputs": [],
      "source": [
        "# Determine function with predicts gender based on username\n",
        "\n",
        "# Loading gender guesser\n",
        "d = gender.Detector(case_sensitive=False)\n",
        "\n",
        "def prepare_gender_guesser(names):\n",
        "\n",
        "    # Splittin usernames and lowering letters\n",
        "    name = [n.lower() for n in names.split()]\n",
        "\n",
        "    # Determine gender for usernames with more than or equal to three parts\n",
        "    if len(name) >= 3:\n",
        "        new_name_list = name[:2]\n",
        "        gender_pred = [d.get_gender(i) for i in new_name_list ]\n",
        "        if 'female' in gender_pred:\n",
        "            return 'female'\n",
        "        elif 'male' in gender_pred:\n",
        "            return 'male'\n",
        "        else:\n",
        "            return 'none'\n",
        "\n",
        "    # Determining gender for usernames with less than three parts\n",
        "    elif len(name) < 3 and len(name) > 0:\n",
        "        first_name = d.get_gender(name[0])\n",
        "        if first_name == 'female':\n",
        "            return first_name\n",
        "        elif first_name == 'male':\n",
        "            return first_name\n",
        "        else:\n",
        "            first_name = 'none'\n",
        "            return first_name\n",
        "    else:\n",
        "        first_name = 'none'\n",
        "        return first_name\n",
        "\n"
      ]
    },
    {
      "cell_type": "markdown",
      "metadata": {
        "id": "6WhCklEkD1F5"
      },
      "source": [
        "## Further narrowing down of the book genres and obtaining the final preprocessed dataset"
      ]
    },
    {
      "cell_type": "code",
      "execution_count": null,
      "metadata": {
        "colab": {
          "base_uri": "https://localhost:8080/",
          "height": 637
        },
        "id": "ppQja1S6g_x2",
        "outputId": "ba5fa210-0cda-4814-f93b-31c2615a1377"
      },
      "outputs": [
        {
          "data": {
            "text/html": [
              "\n",
              "  <div id=\"df-256c5c67-4e6d-4506-a0a1-6b976cb73e27\">\n",
              "    <div class=\"colab-df-container\">\n",
              "      <div>\n",
              "<style scoped>\n",
              "    .dataframe tbody tr th:only-of-type {\n",
              "        vertical-align: middle;\n",
              "    }\n",
              "\n",
              "    .dataframe tbody tr th {\n",
              "        vertical-align: top;\n",
              "    }\n",
              "\n",
              "    .dataframe thead th {\n",
              "        text-align: right;\n",
              "    }\n",
              "</style>\n",
              "<table border=\"1\" class=\"dataframe\">\n",
              "  <thead>\n",
              "    <tr style=\"text-align: right;\">\n",
              "      <th></th>\n",
              "      <th>index</th>\n",
              "      <th>category</th>\n",
              "      <th>tech1</th>\n",
              "      <th>description</th>\n",
              "      <th>fit</th>\n",
              "      <th>title</th>\n",
              "      <th>also_buy</th>\n",
              "      <th>tech2</th>\n",
              "      <th>brand</th>\n",
              "      <th>feature</th>\n",
              "      <th>...</th>\n",
              "      <th>main_cat</th>\n",
              "      <th>similar_item</th>\n",
              "      <th>date</th>\n",
              "      <th>price</th>\n",
              "      <th>asin</th>\n",
              "      <th>imageURL</th>\n",
              "      <th>imageURLHighRes</th>\n",
              "      <th>details</th>\n",
              "      <th>screen</th>\n",
              "      <th>label</th>\n",
              "    </tr>\n",
              "  </thead>\n",
              "  <tbody>\n",
              "    <tr>\n",
              "      <th>18</th>\n",
              "      <td>18</td>\n",
              "      <td>[Books, Romance, Contemporary]</td>\n",
              "      <td></td>\n",
              "      <td>[A classic tale from Helen Forrester set in th...</td>\n",
              "      <td></td>\n",
              "      <td>The Moneylenders of Shahpur</td>\n",
              "      <td>[]</td>\n",
              "      <td></td>\n",
              "      <td>Visit Amazon's Helen Forrester Page</td>\n",
              "      <td>[]</td>\n",
              "      <td>...</td>\n",
              "      <td>Books</td>\n",
              "      <td></td>\n",
              "      <td></td>\n",
              "      <td>$17.16</td>\n",
              "      <td>0006173543</td>\n",
              "      <td>[]</td>\n",
              "      <td>[]</td>\n",
              "      <td>NaN</td>\n",
              "      <td>False</td>\n",
              "      <td>romance</td>\n",
              "    </tr>\n",
              "    <tr>\n",
              "      <th>21</th>\n",
              "      <td>21</td>\n",
              "      <td>[Books, Romance, Contemporary]</td>\n",
              "      <td></td>\n",
              "      <td>[Reissue of the author's most famous and well-...</td>\n",
              "      <td></td>\n",
              "      <td>Scandalous Risks</td>\n",
              "      <td>[0006496911, 0006496873, 000649692X, 044922555...</td>\n",
              "      <td></td>\n",
              "      <td>Visit Amazon's Susan Howatch Page</td>\n",
              "      <td>[]</td>\n",
              "      <td>...</td>\n",
              "      <td>Books</td>\n",
              "      <td></td>\n",
              "      <td></td>\n",
              "      <td>$24.73</td>\n",
              "      <td>0006496903</td>\n",
              "      <td>[]</td>\n",
              "      <td>[]</td>\n",
              "      <td>NaN</td>\n",
              "      <td>False</td>\n",
              "      <td>romance</td>\n",
              "    </tr>\n",
              "    <tr>\n",
              "      <th>22</th>\n",
              "      <td>22</td>\n",
              "      <td>[Books, Romance, Contemporary]</td>\n",
              "      <td></td>\n",
              "      <td>[A newly reissued edition of Agatha Christie's...</td>\n",
              "      <td></td>\n",
              "      <td>Absent in the Spring</td>\n",
              "      <td>[0008131473, 0312274726, 0062093703, 000649945...</td>\n",
              "      <td></td>\n",
              "      <td>Visit Amazon's Agatha Christie Page</td>\n",
              "      <td>[]</td>\n",
              "      <td>...</td>\n",
              "      <td>Books</td>\n",
              "      <td></td>\n",
              "      <td></td>\n",
              "      <td>$20.10</td>\n",
              "      <td>0006499473</td>\n",
              "      <td>[]</td>\n",
              "      <td>[]</td>\n",
              "      <td>NaN</td>\n",
              "      <td>False</td>\n",
              "      <td>romance</td>\n",
              "    </tr>\n",
              "    <tr>\n",
              "      <th>23</th>\n",
              "      <td>23</td>\n",
              "      <td>[Books, Romance, Contemporary]</td>\n",
              "      <td></td>\n",
              "      <td>[443pages. 18,1x10,9x3,2cm. Broch.]</td>\n",
              "      <td></td>\n",
              "      <td>Three Weeks in Paris</td>\n",
              "      <td>[0440295939, 0385492758, 0061008109, 000725233...</td>\n",
              "      <td></td>\n",
              "      <td>Visit Amazon's Barbara Taylor Bradford Page</td>\n",
              "      <td>[]</td>\n",
              "      <td>...</td>\n",
              "      <td>Books</td>\n",
              "      <td></td>\n",
              "      <td></td>\n",
              "      <td>$14.30</td>\n",
              "      <td>0006514405</td>\n",
              "      <td>[]</td>\n",
              "      <td>[]</td>\n",
              "      <td>NaN</td>\n",
              "      <td>False</td>\n",
              "      <td>romance</td>\n",
              "    </tr>\n",
              "    <tr>\n",
              "      <th>28</th>\n",
              "      <td>28</td>\n",
              "      <td>[Books, Romance, Contemporary]</td>\n",
              "      <td></td>\n",
              "      <td>[Thirty-year-old Serena Stone is a talented wa...</td>\n",
              "      <td></td>\n",
              "      <td>Secrets from the Past</td>\n",
              "      <td>[1568959656, 0312631693, 1250032377, 125009128...</td>\n",
              "      <td></td>\n",
              "      <td></td>\n",
              "      <td>[]</td>\n",
              "      <td>...</td>\n",
              "      <td>Books</td>\n",
              "      <td></td>\n",
              "      <td></td>\n",
              "      <td>$19.38</td>\n",
              "      <td>000730417X</td>\n",
              "      <td>[]</td>\n",
              "      <td>[]</td>\n",
              "      <td>NaN</td>\n",
              "      <td>False</td>\n",
              "      <td>romance</td>\n",
              "    </tr>\n",
              "  </tbody>\n",
              "</table>\n",
              "<p>5 rows × 22 columns</p>\n",
              "</div>\n",
              "      <button class=\"colab-df-convert\" onclick=\"convertToInteractive('df-256c5c67-4e6d-4506-a0a1-6b976cb73e27')\"\n",
              "              title=\"Convert this dataframe to an interactive table.\"\n",
              "              style=\"display:none;\">\n",
              "        \n",
              "  <svg xmlns=\"http://www.w3.org/2000/svg\" height=\"24px\"viewBox=\"0 0 24 24\"\n",
              "       width=\"24px\">\n",
              "    <path d=\"M0 0h24v24H0V0z\" fill=\"none\"/>\n",
              "    <path d=\"M18.56 5.44l.94 2.06.94-2.06 2.06-.94-2.06-.94-.94-2.06-.94 2.06-2.06.94zm-11 1L8.5 8.5l.94-2.06 2.06-.94-2.06-.94L8.5 2.5l-.94 2.06-2.06.94zm10 10l.94 2.06.94-2.06 2.06-.94-2.06-.94-.94-2.06-.94 2.06-2.06.94z\"/><path d=\"M17.41 7.96l-1.37-1.37c-.4-.4-.92-.59-1.43-.59-.52 0-1.04.2-1.43.59L10.3 9.45l-7.72 7.72c-.78.78-.78 2.05 0 2.83L4 21.41c.39.39.9.59 1.41.59.51 0 1.02-.2 1.41-.59l7.78-7.78 2.81-2.81c.8-.78.8-2.07 0-2.86zM5.41 20L4 18.59l7.72-7.72 1.47 1.35L5.41 20z\"/>\n",
              "  </svg>\n",
              "      </button>\n",
              "      \n",
              "  <style>\n",
              "    .colab-df-container {\n",
              "      display:flex;\n",
              "      flex-wrap:wrap;\n",
              "      gap: 12px;\n",
              "    }\n",
              "\n",
              "    .colab-df-convert {\n",
              "      background-color: #E8F0FE;\n",
              "      border: none;\n",
              "      border-radius: 50%;\n",
              "      cursor: pointer;\n",
              "      display: none;\n",
              "      fill: #1967D2;\n",
              "      height: 32px;\n",
              "      padding: 0 0 0 0;\n",
              "      width: 32px;\n",
              "    }\n",
              "\n",
              "    .colab-df-convert:hover {\n",
              "      background-color: #E2EBFA;\n",
              "      box-shadow: 0px 1px 2px rgba(60, 64, 67, 0.3), 0px 1px 3px 1px rgba(60, 64, 67, 0.15);\n",
              "      fill: #174EA6;\n",
              "    }\n",
              "\n",
              "    [theme=dark] .colab-df-convert {\n",
              "      background-color: #3B4455;\n",
              "      fill: #D2E3FC;\n",
              "    }\n",
              "\n",
              "    [theme=dark] .colab-df-convert:hover {\n",
              "      background-color: #434B5C;\n",
              "      box-shadow: 0px 1px 3px 1px rgba(0, 0, 0, 0.15);\n",
              "      filter: drop-shadow(0px 1px 2px rgba(0, 0, 0, 0.3));\n",
              "      fill: #FFFFFF;\n",
              "    }\n",
              "  </style>\n",
              "\n",
              "      <script>\n",
              "        const buttonEl =\n",
              "          document.querySelector('#df-256c5c67-4e6d-4506-a0a1-6b976cb73e27 button.colab-df-convert');\n",
              "        buttonEl.style.display =\n",
              "          google.colab.kernel.accessAllowed ? 'block' : 'none';\n",
              "\n",
              "        async function convertToInteractive(key) {\n",
              "          const element = document.querySelector('#df-256c5c67-4e6d-4506-a0a1-6b976cb73e27');\n",
              "          const dataTable =\n",
              "            await google.colab.kernel.invokeFunction('convertToInteractive',\n",
              "                                                     [key], {});\n",
              "          if (!dataTable) return;\n",
              "\n",
              "          const docLinkHtml = 'Like what you see? Visit the ' +\n",
              "            '<a target=\"_blank\" href=https://colab.research.google.com/notebooks/data_table.ipynb>data table notebook</a>'\n",
              "            + ' to learn more about interactive tables.';\n",
              "          element.innerHTML = '';\n",
              "          dataTable['output_type'] = 'display_data';\n",
              "          await google.colab.output.renderOutput(dataTable, element);\n",
              "          const docLink = document.createElement('div');\n",
              "          docLink.innerHTML = docLinkHtml;\n",
              "          element.appendChild(docLink);\n",
              "        }\n",
              "      </script>\n",
              "    </div>\n",
              "  </div>\n",
              "  "
            ],
            "text/plain": [
              "    index                        category tech1  \\\n",
              "18     18  [Books, Romance, Contemporary]         \n",
              "21     21  [Books, Romance, Contemporary]         \n",
              "22     22  [Books, Romance, Contemporary]         \n",
              "23     23  [Books, Romance, Contemporary]         \n",
              "28     28  [Books, Romance, Contemporary]         \n",
              "\n",
              "                                          description fit  \\\n",
              "18  [A classic tale from Helen Forrester set in th...       \n",
              "21  [Reissue of the author's most famous and well-...       \n",
              "22  [A newly reissued edition of Agatha Christie's...       \n",
              "23                [443pages. 18,1x10,9x3,2cm. Broch.]       \n",
              "28  [Thirty-year-old Serena Stone is a talented wa...       \n",
              "\n",
              "                          title  \\\n",
              "18  The Moneylenders of Shahpur   \n",
              "21             Scandalous Risks   \n",
              "22         Absent in the Spring   \n",
              "23         Three Weeks in Paris   \n",
              "28        Secrets from the Past   \n",
              "\n",
              "                                             also_buy tech2  \\\n",
              "18                                                 []         \n",
              "21  [0006496911, 0006496873, 000649692X, 044922555...         \n",
              "22  [0008131473, 0312274726, 0062093703, 000649945...         \n",
              "23  [0440295939, 0385492758, 0061008109, 000725233...         \n",
              "28  [1568959656, 0312631693, 1250032377, 125009128...         \n",
              "\n",
              "                                          brand feature  ... main_cat  \\\n",
              "18          Visit Amazon's Helen Forrester Page      []  ...    Books   \n",
              "21            Visit Amazon's Susan Howatch Page      []  ...    Books   \n",
              "22          Visit Amazon's Agatha Christie Page      []  ...    Books   \n",
              "23  Visit Amazon's Barbara Taylor Bradford Page      []  ...    Books   \n",
              "28                                                   []  ...    Books   \n",
              "\n",
              "   similar_item date   price        asin imageURL imageURLHighRes details  \\\n",
              "18                    $17.16  0006173543       []              []     NaN   \n",
              "21                    $24.73  0006496903       []              []     NaN   \n",
              "22                    $20.10  0006499473       []              []     NaN   \n",
              "23                    $14.30  0006514405       []              []     NaN   \n",
              "28                    $19.38  000730417X       []              []     NaN   \n",
              "\n",
              "   screen    label  \n",
              "18  False  romance  \n",
              "21  False  romance  \n",
              "22  False  romance  \n",
              "23  False  romance  \n",
              "28  False  romance  \n",
              "\n",
              "[5 rows x 22 columns]"
            ]
          },
          "execution_count": 11,
          "metadata": {},
          "output_type": "execute_result"
        }
      ],
      "source": [
        "# For romance genre reduce to category \"romance contemporary\"\n",
        "# For science fiction genre reduce to \"Science Fiction &amp; Fantasy\"\n",
        "# (both of them are the biggest categories within the genres)\n",
        "\n",
        "df_reduced = df_adults[((df_adults['category'].astype(str).str.contains('Classic'))\n",
        "                        | ((df_adults['category'].astype(str).str.contains('Science Fiction'))\n",
        "                      & (df_adults['category'].astype(str).str.contains('&amp')))\n",
        "                        |  (df_adults['category'].astype(str).str.contains('Contemporary')))\n",
        "                       & ~((df_adults['category'].astype(str).str.contains('Teen'))\n",
        "                           | (df_adults['category'].astype(str).str.contains('Bible'))\n",
        "                           | (df_adults['category'].astype(str).str.contains('Anthologies'))\n",
        "                           | (df_adults['category'].astype(str).str.contains('Space'))\n",
        "                           | (df_adults['category'].astype(str).str.contains('Short Stories')))]\n",
        "\n",
        "# Customise the category labels\n",
        "df_reduced.loc[df_reduced['category'].astype(str).str.contains('Romance'), 'label'] = 'romance'\n",
        "df_reduced.loc[df_reduced['category'].astype(str).str.contains('Classic'), 'label'] = 'classic'\n",
        "df_reduced.loc[df_reduced['category'].astype(str).str.contains('Science'), 'label'] = 'science_fiction'\n",
        "\n",
        "df_reduced.head()"
      ]
    },
    {
      "cell_type": "code",
      "execution_count": null,
      "metadata": {
        "colab": {
          "base_uri": "https://localhost:8080/"
        },
        "id": "Z2wvvP0-g_07",
        "outputId": "7580268e-1418-4668-8b78-0cf270e39c87"
      },
      "outputs": [
        {
          "data": {
            "text/plain": [
              "romance            24337\n",
              "science_fiction    19381\n",
              "classic             5624\n",
              "Name: label, dtype: int64"
            ]
          },
          "execution_count": 12,
          "metadata": {},
          "output_type": "execute_result"
        }
      ],
      "source": [
        "df_reduced['label'].value_counts()"
      ]
    },
    {
      "cell_type": "code",
      "execution_count": null,
      "metadata": {
        "colab": {
          "base_uri": "https://localhost:8080/"
        },
        "id": "j6BlNzSgq7uO",
        "outputId": "8fb04e24-5a0b-4062-fd18-2211856c6ecc"
      },
      "outputs": [
        {
          "data": {
            "text/plain": [
              "3530764"
            ]
          },
          "execution_count": 14,
          "metadata": {},
          "output_type": "execute_result"
        }
      ],
      "source": [
        "# Load preselected book reviews\n",
        "i = 0\n",
        "review_data = []\n",
        "with open(filePath+'selection_books.json', 'r') as f:\n",
        "    for l in f:\n",
        "            obj = json.loads(l)\n",
        "            review_data.append(obj)\n",
        "\n",
        "len(review_data)"
      ]
    },
    {
      "cell_type": "code",
      "execution_count": null,
      "metadata": {
        "id": "3ZIgivjrshfu"
      },
      "outputs": [],
      "source": [
        "# Create list of final relevant book IDs\n",
        "relevant_asin = list(df_reduced['asin'])\n",
        "\n",
        "# Delete variables that are not of interest to this study\n",
        "delete_keys = ['overall', 'vote', 'verified', 'style', 'summary',\n",
        " 'unixReviewTime', 'image']"
      ]
    },
    {
      "cell_type": "code",
      "execution_count": null,
      "metadata": {
        "id": "GTKkf0YMD1F7"
      },
      "outputs": [],
      "source": [
        "# Predict gender and create genre-gender labels\n",
        "\n",
        "numer_undetermined_gender = 0\n",
        "\n",
        "for i in range(len(review_data)):\n",
        "\n",
        "    # Store book id\n",
        "    ident = review_data[i]['asin']\n",
        "    if (ident in relevant_asin) and ('reviewerName' in review_data[i]) and (review_data[i]['reviewerName']) \\\n",
        "    and ('reviewText' in review_data[i]):\n",
        "\n",
        "        # Predict gender\n",
        "        review_data[i]['gender_pred']= prepare_gender_guesser(review_data[i]['reviewerName'])\n",
        "        if review_data[i]['gender_pred']== 'none':\n",
        "            numer_undetermined_gender +=1\n",
        "        elif review_data[i]['gender_pred']!= 'none':\n",
        "\n",
        "            # Apply clearning functions\n",
        "            review_data[i]['tokenised']=tokenise(review_data[i]['reviewText'])\n",
        "            review_data[i]['cleaned_text']=cleaning(review_data[i]['reviewText'])\n",
        "            review_data[i]['without_stops']= cleaning_for_descriptives(review_data[i]['reviewText'])\n",
        "\n",
        "            # Store book genre and gender to create label\n",
        "            cat = df_reduced.loc[df_reduced['asin']== ident, 'label'].iloc[0]\n",
        "            gen = review_data[i]['gender_pred']\n",
        "            review_data[i]['true_label'] = cat + '_' + gen"
      ]
    },
    {
      "cell_type": "code",
      "execution_count": null,
      "metadata": {
        "colab": {
          "base_uri": "https://localhost:8080/"
        },
        "id": "qCatMdPiDF9e",
        "outputId": "6012d691-3ce0-497b-b77e-c9f9b8df1da3"
      },
      "outputs": [
        {
          "name": "stdout",
          "output_type": "stream",
          "text": [
            "The number of usernames for which gender could not be identified is: 1092337.\n",
            "\n",
            "These are 30.94% of all reviews.\n"
          ]
        }
      ],
      "source": [
        "print('The number of usernames for which gender could not be identified is: {}.'.format(numer_undetermined_gender))\n",
        "print('\\nThese are {}% of all reviews.'.format(round(100*(numer_undetermined_gender/len(review_data)), 2)))"
      ]
    },
    {
      "cell_type": "code",
      "execution_count": null,
      "metadata": {
        "id": "uPJtm5YMs-Bu"
      },
      "outputs": [],
      "source": [
        "# Create reviews dataframe\n",
        "df_uncleaned_reviews = pd.DataFrame.from_dict(review_data)\n",
        "\n",
        "# Get dataset with all reviews which have gender predicted\n",
        "df_reviews_cleaned = df_uncleaned_reviews[(df_uncleaned_reviews.gender_pred != 'none')\n",
        "                                          & (df_uncleaned_reviews.gender_pred.notna())]\n",
        "\n",
        "# Remove irrelevant variables\n",
        "df_reviews_cleaned = df_reviews_cleaned.drop(delete_keys, axis=1)\n"
      ]
    },
    {
      "cell_type": "code",
      "execution_count": null,
      "metadata": {
        "colab": {
          "base_uri": "https://localhost:8080/",
          "height": 523
        },
        "id": "0yOjq5_ktaVI",
        "outputId": "57761931-d6c1-44da-eefe-c04419a3c002"
      },
      "outputs": [
        {
          "data": {
            "text/html": [
              "\n",
              "  <div id=\"df-be5f4589-988b-4c1b-8197-c2bb6ad95350\">\n",
              "    <div class=\"colab-df-container\">\n",
              "      <div>\n",
              "<style scoped>\n",
              "    .dataframe tbody tr th:only-of-type {\n",
              "        vertical-align: middle;\n",
              "    }\n",
              "\n",
              "    .dataframe tbody tr th {\n",
              "        vertical-align: top;\n",
              "    }\n",
              "\n",
              "    .dataframe thead th {\n",
              "        text-align: right;\n",
              "    }\n",
              "</style>\n",
              "<table border=\"1\" class=\"dataframe\">\n",
              "  <thead>\n",
              "    <tr style=\"text-align: right;\">\n",
              "      <th></th>\n",
              "      <th>reviewTime</th>\n",
              "      <th>reviewerID</th>\n",
              "      <th>asin</th>\n",
              "      <th>reviewerName</th>\n",
              "      <th>reviewText</th>\n",
              "      <th>gender_pred</th>\n",
              "      <th>tokenised</th>\n",
              "      <th>cleaned_text</th>\n",
              "      <th>without_stops</th>\n",
              "      <th>true_label</th>\n",
              "      <th>vec_rep_without_stops</th>\n",
              "      <th>label_id</th>\n",
              "    </tr>\n",
              "  </thead>\n",
              "  <tbody>\n",
              "    <tr>\n",
              "      <th>587</th>\n",
              "      <td>04 28, 1998</td>\n",
              "      <td>AGHIV0V0ON7MO</td>\n",
              "      <td>0002051850</td>\n",
              "      <td>David Graham</td>\n",
              "      <td>I happen to think Hemingway is one of the most...</td>\n",
              "      <td>male</td>\n",
              "      <td>[i, happen, to, think, hemingway, is, one, of,...</td>\n",
              "      <td>[i, happen, to, think, is, one, of, the, most,...</td>\n",
              "      <td>[happen, think, 20th, century, particular, boo...</td>\n",
              "      <td>classic_male</td>\n",
              "      <td>[-0.028970389, 0.025170958, 0.01835015, 0.0587...</td>\n",
              "      <td>1</td>\n",
              "    </tr>\n",
              "    <tr>\n",
              "      <th>589</th>\n",
              "      <td>02 8, 1998</td>\n",
              "      <td>ATOFFO1VNCAGQ</td>\n",
              "      <td>0002051850</td>\n",
              "      <td>Michael Delaware</td>\n",
              "      <td>Hemmingway touched my heart as a reader in a w...</td>\n",
              "      <td>male</td>\n",
              "      <td>[hemmingway, touched, my, heart, as, a, reader...</td>\n",
              "      <td>[touched, my, heart, as, a, reader, in, a, way...</td>\n",
              "      <td>[touched, heart, reader, way, author, words, k...</td>\n",
              "      <td>classic_male</td>\n",
              "      <td>[-0.01345888, 0.010416696, 0.055723477, 0.0768...</td>\n",
              "      <td>1</td>\n",
              "    </tr>\n",
              "    <tr>\n",
              "      <th>592</th>\n",
              "      <td>03 17, 2018</td>\n",
              "      <td>A280CJJDAE7K5D</td>\n",
              "      <td>0002051850</td>\n",
              "      <td>Tristan Bell</td>\n",
              "      <td>good</td>\n",
              "      <td>male</td>\n",
              "      <td>[good]</td>\n",
              "      <td>[good]</td>\n",
              "      <td>[good]</td>\n",
              "      <td>classic_male</td>\n",
              "      <td>[-0.09213716, -0.0634383, 0.0017381323, 0.1352...</td>\n",
              "      <td>1</td>\n",
              "    </tr>\n",
              "    <tr>\n",
              "      <th>593</th>\n",
              "      <td>03 14, 2018</td>\n",
              "      <td>A26P7AP0KTYHDK</td>\n",
              "      <td>0002051850</td>\n",
              "      <td>Barbie</td>\n",
              "      <td>The font is practically unreadable.  The book ...</td>\n",
              "      <td>female</td>\n",
              "      <td>[the, font, is, practically, unreadable, the, ...</td>\n",
              "      <td>[the, font, is, practically, the, book, itself...</td>\n",
              "      <td>[font, practically, book, looks, like, cheap, ...</td>\n",
              "      <td>classic_female</td>\n",
              "      <td>[-0.008910524, 0.06032888, 0.006115631, 0.0627...</td>\n",
              "      <td>0</td>\n",
              "    </tr>\n",
              "    <tr>\n",
              "      <th>594</th>\n",
              "      <td>03 13, 2018</td>\n",
              "      <td>A1VLYX64G3F25W</td>\n",
              "      <td>0002051850</td>\n",
              "      <td>Joe</td>\n",
              "      <td>Terrible kindle edition of a great book!  Cont...</td>\n",
              "      <td>male</td>\n",
              "      <td>[terrible, kindle, edition, of, a, great, book...</td>\n",
              "      <td>[terrible, kindle, edition, of, a, great, book...</td>\n",
              "      <td>[terrible, kindle, edition, great, book, conte...</td>\n",
              "      <td>classic_male</td>\n",
              "      <td>[-0.018616777, 0.053754397, -0.019188967, 0.04...</td>\n",
              "      <td>1</td>\n",
              "    </tr>\n",
              "  </tbody>\n",
              "</table>\n",
              "</div>\n",
              "      <button class=\"colab-df-convert\" onclick=\"convertToInteractive('df-be5f4589-988b-4c1b-8197-c2bb6ad95350')\"\n",
              "              title=\"Convert this dataframe to an interactive table.\"\n",
              "              style=\"display:none;\">\n",
              "        \n",
              "  <svg xmlns=\"http://www.w3.org/2000/svg\" height=\"24px\"viewBox=\"0 0 24 24\"\n",
              "       width=\"24px\">\n",
              "    <path d=\"M0 0h24v24H0V0z\" fill=\"none\"/>\n",
              "    <path d=\"M18.56 5.44l.94 2.06.94-2.06 2.06-.94-2.06-.94-.94-2.06-.94 2.06-2.06.94zm-11 1L8.5 8.5l.94-2.06 2.06-.94-2.06-.94L8.5 2.5l-.94 2.06-2.06.94zm10 10l.94 2.06.94-2.06 2.06-.94-2.06-.94-.94-2.06-.94 2.06-2.06.94z\"/><path d=\"M17.41 7.96l-1.37-1.37c-.4-.4-.92-.59-1.43-.59-.52 0-1.04.2-1.43.59L10.3 9.45l-7.72 7.72c-.78.78-.78 2.05 0 2.83L4 21.41c.39.39.9.59 1.41.59.51 0 1.02-.2 1.41-.59l7.78-7.78 2.81-2.81c.8-.78.8-2.07 0-2.86zM5.41 20L4 18.59l7.72-7.72 1.47 1.35L5.41 20z\"/>\n",
              "  </svg>\n",
              "      </button>\n",
              "      \n",
              "  <style>\n",
              "    .colab-df-container {\n",
              "      display:flex;\n",
              "      flex-wrap:wrap;\n",
              "      gap: 12px;\n",
              "    }\n",
              "\n",
              "    .colab-df-convert {\n",
              "      background-color: #E8F0FE;\n",
              "      border: none;\n",
              "      border-radius: 50%;\n",
              "      cursor: pointer;\n",
              "      display: none;\n",
              "      fill: #1967D2;\n",
              "      height: 32px;\n",
              "      padding: 0 0 0 0;\n",
              "      width: 32px;\n",
              "    }\n",
              "\n",
              "    .colab-df-convert:hover {\n",
              "      background-color: #E2EBFA;\n",
              "      box-shadow: 0px 1px 2px rgba(60, 64, 67, 0.3), 0px 1px 3px 1px rgba(60, 64, 67, 0.15);\n",
              "      fill: #174EA6;\n",
              "    }\n",
              "\n",
              "    [theme=dark] .colab-df-convert {\n",
              "      background-color: #3B4455;\n",
              "      fill: #D2E3FC;\n",
              "    }\n",
              "\n",
              "    [theme=dark] .colab-df-convert:hover {\n",
              "      background-color: #434B5C;\n",
              "      box-shadow: 0px 1px 3px 1px rgba(0, 0, 0, 0.15);\n",
              "      filter: drop-shadow(0px 1px 2px rgba(0, 0, 0, 0.3));\n",
              "      fill: #FFFFFF;\n",
              "    }\n",
              "  </style>\n",
              "\n",
              "      <script>\n",
              "        const buttonEl =\n",
              "          document.querySelector('#df-be5f4589-988b-4c1b-8197-c2bb6ad95350 button.colab-df-convert');\n",
              "        buttonEl.style.display =\n",
              "          google.colab.kernel.accessAllowed ? 'block' : 'none';\n",
              "\n",
              "        async function convertToInteractive(key) {\n",
              "          const element = document.querySelector('#df-be5f4589-988b-4c1b-8197-c2bb6ad95350');\n",
              "          const dataTable =\n",
              "            await google.colab.kernel.invokeFunction('convertToInteractive',\n",
              "                                                     [key], {});\n",
              "          if (!dataTable) return;\n",
              "\n",
              "          const docLinkHtml = 'Like what you see? Visit the ' +\n",
              "            '<a target=\"_blank\" href=https://colab.research.google.com/notebooks/data_table.ipynb>data table notebook</a>'\n",
              "            + ' to learn more about interactive tables.';\n",
              "          element.innerHTML = '';\n",
              "          dataTable['output_type'] = 'display_data';\n",
              "          await google.colab.output.renderOutput(dataTable, element);\n",
              "          const docLink = document.createElement('div');\n",
              "          docLink.innerHTML = docLinkHtml;\n",
              "          element.appendChild(docLink);\n",
              "        }\n",
              "      </script>\n",
              "    </div>\n",
              "  </div>\n",
              "  "
            ],
            "text/plain": [
              "      reviewTime      reviewerID        asin      reviewerName  \\\n",
              "587  04 28, 1998   AGHIV0V0ON7MO  0002051850      David Graham   \n",
              "589   02 8, 1998   ATOFFO1VNCAGQ  0002051850  Michael Delaware   \n",
              "592  03 17, 2018  A280CJJDAE7K5D  0002051850      Tristan Bell   \n",
              "593  03 14, 2018  A26P7AP0KTYHDK  0002051850            Barbie   \n",
              "594  03 13, 2018  A1VLYX64G3F25W  0002051850               Joe   \n",
              "\n",
              "                                            reviewText gender_pred  \\\n",
              "587  I happen to think Hemingway is one of the most...        male   \n",
              "589  Hemmingway touched my heart as a reader in a w...        male   \n",
              "592                                               good        male   \n",
              "593  The font is practically unreadable.  The book ...      female   \n",
              "594  Terrible kindle edition of a great book!  Cont...        male   \n",
              "\n",
              "                                             tokenised  \\\n",
              "587  [i, happen, to, think, hemingway, is, one, of,...   \n",
              "589  [hemmingway, touched, my, heart, as, a, reader...   \n",
              "592                                             [good]   \n",
              "593  [the, font, is, practically, unreadable, the, ...   \n",
              "594  [terrible, kindle, edition, of, a, great, book...   \n",
              "\n",
              "                                          cleaned_text  \\\n",
              "587  [i, happen, to, think, is, one, of, the, most,...   \n",
              "589  [touched, my, heart, as, a, reader, in, a, way...   \n",
              "592                                             [good]   \n",
              "593  [the, font, is, practically, the, book, itself...   \n",
              "594  [terrible, kindle, edition, of, a, great, book...   \n",
              "\n",
              "                                         without_stops      true_label  \\\n",
              "587  [happen, think, 20th, century, particular, boo...    classic_male   \n",
              "589  [touched, heart, reader, way, author, words, k...    classic_male   \n",
              "592                                             [good]    classic_male   \n",
              "593  [font, practically, book, looks, like, cheap, ...  classic_female   \n",
              "594  [terrible, kindle, edition, great, book, conte...    classic_male   \n",
              "\n",
              "                                 vec_rep_without_stops  label_id  \n",
              "587  [-0.028970389, 0.025170958, 0.01835015, 0.0587...         1  \n",
              "589  [-0.01345888, 0.010416696, 0.055723477, 0.0768...         1  \n",
              "592  [-0.09213716, -0.0634383, 0.0017381323, 0.1352...         1  \n",
              "593  [-0.008910524, 0.06032888, 0.006115631, 0.0627...         0  \n",
              "594  [-0.018616777, 0.053754397, -0.019188967, 0.04...         1  "
            ]
          },
          "execution_count": 31,
          "metadata": {},
          "output_type": "execute_result"
        }
      ],
      "source": [
        "# Create label id column for LSTM later\n",
        "label2id = {'classic_female': 0, 'classic_male': 1, 'romance_female': 2,\n",
        "            'romance_male': 3, 'science_fiction_female': 4, 'science_fiction_male': 5}\n",
        "\n",
        "df_reviews_cleaned['label_id'] = df_reviews_cleaned['true_label'].map(label2id)\n",
        "\n",
        "df_reviews_cleaned.head()"
      ]
    },
    {
      "cell_type": "code",
      "execution_count": null,
      "metadata": {
        "colab": {
          "base_uri": "https://localhost:8080/"
        },
        "id": "Xk9ceQ1UuTT-",
        "outputId": "9122e3a3-16b8-4ed1-a967-2e5eaf422b45"
      },
      "outputs": [
        {
          "name": "stdout",
          "output_type": "stream",
          "text": [
            "10.79% of the reviews have less than 10 words. I will remove them.\n"
          ]
        }
      ],
      "source": [
        "# Remove reviews with less than 10 words\n",
        "def count_words(word_list):\n",
        "    return len(word_list)\n",
        "\n",
        "df_reviews_sentences = df_reviews_cleaned[df_reviews_cleaned['tokenised'].map(lambda x: count_words(x) >9)]\n",
        "print('{}% of the reviews have less than 10 words. \\\n",
        "      I will remove them.'.format(round((1-(len(df_reviews_sentences)/len(df_reviews_cleaned)))*100, 2)))"
      ]
    },
    {
      "cell_type": "code",
      "execution_count": null,
      "metadata": {
        "colab": {
          "base_uri": "https://localhost:8080/"
        },
        "id": "gFOhg4XiQpUP",
        "outputId": "265e8bf4-a762-4b3c-ed46-78146e7983bd"
      },
      "outputs": [
        {
          "data": {
            "text/plain": [
              "['classic_male',\n",
              " 'classic_female',\n",
              " 'romance_male',\n",
              " 'romance_female',\n",
              " 'science_fiction_male',\n",
              " 'science_fiction_female']"
            ]
          },
          "execution_count": 33,
          "metadata": {},
          "output_type": "execute_result"
        }
      ],
      "source": [
        "# Store unique categories of the final dataset\n",
        "categories = list(df_reviews_cleaned.true_label.unique())\n",
        "categories"
      ]
    },
    {
      "cell_type": "code",
      "execution_count": null,
      "metadata": {
        "id": "sRXBE2jkD1F-"
      },
      "outputs": [],
      "source": [
        "# Train, developement, test split based on group shuffle split to avoid information leakage\n",
        "\n",
        "train_data = pd.DataFrame()\n",
        "dev_test_data = pd.DataFrame()\n",
        "dev_data = pd.DataFrame()\n",
        "test_data = pd.DataFrame()\n",
        "\n",
        "# Group shuffle split\n",
        "gs = GroupShuffleSplit(n_splits=2, test_size=.2, random_state=0)\n",
        "# Note: test_size here means the proportion of groups which should exclusively be in the test set\n",
        "gs_dev_test = GroupShuffleSplit(n_splits=2, test_size=.5, random_state=0)\n",
        "\n",
        "for cat in categories:\n",
        "    train_index, dev_test_index = next(gs.split(df_reviews_sentences[df_reviews_sentences.true_label == cat],\n",
        "                                                groups=df_reviews_sentences[df_reviews_sentences.true_label == cat].asin))\n",
        "    train = df_reviews_sentences[df_reviews_sentences.true_label == cat].iloc[train_index]\n",
        "    dev_test = df_reviews_sentences[df_reviews_sentences.true_label == cat].iloc[dev_test_index]\n",
        "    train_data = train_data.append(train)\n",
        "    dev_test_data=dev_test_data.append(dev_test)\n",
        "\n",
        "    # Split of dev_test_data into dev_data and test_data:\n",
        "    dev_index, test_index = next(gs_dev_test.split(dev_test[dev_test.true_label==cat],\n",
        "                                                   groups=dev_test[dev_test.true_label==cat].asin))\n",
        "    dev = dev_test[dev_test.true_label==cat].iloc[dev_index]\n",
        "    test = dev_test[dev_test.true_label==cat].iloc[test_index]\n",
        "    dev_data = dev_data.append(dev)\n",
        "    test_data = test_data.append(test)"
      ]
    },
    {
      "cell_type": "code",
      "execution_count": null,
      "metadata": {
        "colab": {
          "base_uri": "https://localhost:8080/"
        },
        "id": "bQlpyJQKqNCI",
        "outputId": "ec82bd13-6af0-48f6-ea71-9db1cdc91c27"
      },
      "outputs": [
        {
          "name": "stdout",
          "output_type": "stream",
          "text": [
            "767860\n",
            "617235\n",
            "75061\n",
            "75564\n"
          ]
        }
      ],
      "source": [
        "print(len(df_reviews_sentences))\n",
        "print(len(train_data))\n",
        "print(len(dev_data))\n",
        "print(len(test_data))"
      ]
    },
    {
      "cell_type": "code",
      "execution_count": null,
      "metadata": {
        "colab": {
          "base_uri": "https://localhost:8080/",
          "height": 608
        },
        "id": "BKGCfAP93v-s",
        "outputId": "f44383d1-2d64-41f7-9995-63eaaa580320"
      },
      "outputs": [
        {
          "data": {
            "text/html": [
              "\n",
              "  <div id=\"df-0c7560a0-d9ac-4ba1-bb59-df0995849197\">\n",
              "    <div class=\"colab-df-container\">\n",
              "      <div>\n",
              "<style scoped>\n",
              "    .dataframe tbody tr th:only-of-type {\n",
              "        vertical-align: middle;\n",
              "    }\n",
              "\n",
              "    .dataframe tbody tr th {\n",
              "        vertical-align: top;\n",
              "    }\n",
              "\n",
              "    .dataframe thead th {\n",
              "        text-align: right;\n",
              "    }\n",
              "</style>\n",
              "<table border=\"1\" class=\"dataframe\">\n",
              "  <thead>\n",
              "    <tr style=\"text-align: right;\">\n",
              "      <th></th>\n",
              "      <th>index</th>\n",
              "      <th>reviewTime</th>\n",
              "      <th>reviewerID</th>\n",
              "      <th>asin</th>\n",
              "      <th>reviewerName</th>\n",
              "      <th>reviewText</th>\n",
              "      <th>gender_pred</th>\n",
              "      <th>tokenised</th>\n",
              "      <th>cleaned_text</th>\n",
              "      <th>without_stops</th>\n",
              "      <th>true_label</th>\n",
              "      <th>vec_rep_without_stops</th>\n",
              "      <th>label_id</th>\n",
              "    </tr>\n",
              "  </thead>\n",
              "  <tbody>\n",
              "    <tr>\n",
              "      <th>2</th>\n",
              "      <td>593</td>\n",
              "      <td>03 14, 2018</td>\n",
              "      <td>A26P7AP0KTYHDK</td>\n",
              "      <td>0002051850</td>\n",
              "      <td>Barbie</td>\n",
              "      <td>The font is practically unreadable.  The book ...</td>\n",
              "      <td>female</td>\n",
              "      <td>[the, font, is, practically, unreadable, the, ...</td>\n",
              "      <td>[the, font, is, practically, the, book, itself...</td>\n",
              "      <td>[font, practically, book, looks, like, cheap, ...</td>\n",
              "      <td>classic_female</td>\n",
              "      <td>[-0.008910524, 0.06032888, 0.006115631, 0.0627...</td>\n",
              "      <td>0</td>\n",
              "    </tr>\n",
              "    <tr>\n",
              "      <th>4</th>\n",
              "      <td>595</td>\n",
              "      <td>03 12, 2018</td>\n",
              "      <td>AZ0EQP975Q8EF</td>\n",
              "      <td>0002051850</td>\n",
              "      <td>Sarah C. Frederick</td>\n",
              "      <td>This book sold me on Ernest Hemingway! I like ...</td>\n",
              "      <td>female</td>\n",
              "      <td>[this, book, sold, me, on, ernest, hemingway, ...</td>\n",
              "      <td>[this, book, sold, me, on, i, like, his, easy,...</td>\n",
              "      <td>[book, sold, like, easy, read, short, sentence...</td>\n",
              "      <td>classic_female</td>\n",
              "      <td>[-0.007825832, 0.016489625, 0.0075740465, 0.06...</td>\n",
              "      <td>0</td>\n",
              "    </tr>\n",
              "    <tr>\n",
              "      <th>13</th>\n",
              "      <td>618</td>\n",
              "      <td>11 20, 2017</td>\n",
              "      <td>A33H24SI5QIVX</td>\n",
              "      <td>0002051850</td>\n",
              "      <td>Heidi PDX booklover</td>\n",
              "      <td>I personally found this book way too long and ...</td>\n",
              "      <td>female</td>\n",
              "      <td>[i, personally, found, this, book, way, too, l...</td>\n",
              "      <td>[i, personally, found, this, book, way, too, l...</td>\n",
              "      <td>[personally, book, way, long, slow, moving, re...</td>\n",
              "      <td>classic_female</td>\n",
              "      <td>[-0.011763638, 0.024976425, 0.006988768, 0.064...</td>\n",
              "      <td>0</td>\n",
              "    </tr>\n",
              "    <tr>\n",
              "      <th>18</th>\n",
              "      <td>627</td>\n",
              "      <td>10 8, 2017</td>\n",
              "      <td>A2JSJ5KL5MOUMA</td>\n",
              "      <td>0002051850</td>\n",
              "      <td>Anita L. Fretwell</td>\n",
              "      <td>I found it somewhat difficult to follow and it...</td>\n",
              "      <td>female</td>\n",
              "      <td>[i, found, it, somewhat, difficult, to, follow...</td>\n",
              "      <td>[i, found, it, somewhat, difficult, to, follow...</td>\n",
              "      <td>[somewhat, difficult, follow, engaging]</td>\n",
              "      <td>classic_female</td>\n",
              "      <td>[-0.026339412, -0.014321494, 0.007421734, 0.07...</td>\n",
              "      <td>0</td>\n",
              "    </tr>\n",
              "    <tr>\n",
              "      <th>20</th>\n",
              "      <td>633</td>\n",
              "      <td>09 12, 2017</td>\n",
              "      <td>A1SWDPBA57PC6Z</td>\n",
              "      <td>0002051850</td>\n",
              "      <td>Zaruhi Vardanyan</td>\n",
              "      <td>This is an abridged version which was not clea...</td>\n",
              "      <td>female</td>\n",
              "      <td>[this, is, an, abridged, version, which, was, ...</td>\n",
              "      <td>[this, is, an, abridged, version, which, was, ...</td>\n",
              "      <td>[abridged, version, clear, buying, poorly, wri...</td>\n",
              "      <td>classic_female</td>\n",
              "      <td>[-0.036207855, 0.009188338, 0.004144261, 0.066...</td>\n",
              "      <td>0</td>\n",
              "    </tr>\n",
              "  </tbody>\n",
              "</table>\n",
              "</div>\n",
              "      <button class=\"colab-df-convert\" onclick=\"convertToInteractive('df-0c7560a0-d9ac-4ba1-bb59-df0995849197')\"\n",
              "              title=\"Convert this dataframe to an interactive table.\"\n",
              "              style=\"display:none;\">\n",
              "        \n",
              "  <svg xmlns=\"http://www.w3.org/2000/svg\" height=\"24px\"viewBox=\"0 0 24 24\"\n",
              "       width=\"24px\">\n",
              "    <path d=\"M0 0h24v24H0V0z\" fill=\"none\"/>\n",
              "    <path d=\"M18.56 5.44l.94 2.06.94-2.06 2.06-.94-2.06-.94-.94-2.06-.94 2.06-2.06.94zm-11 1L8.5 8.5l.94-2.06 2.06-.94-2.06-.94L8.5 2.5l-.94 2.06-2.06.94zm10 10l.94 2.06.94-2.06 2.06-.94-2.06-.94-.94-2.06-.94 2.06-2.06.94z\"/><path d=\"M17.41 7.96l-1.37-1.37c-.4-.4-.92-.59-1.43-.59-.52 0-1.04.2-1.43.59L10.3 9.45l-7.72 7.72c-.78.78-.78 2.05 0 2.83L4 21.41c.39.39.9.59 1.41.59.51 0 1.02-.2 1.41-.59l7.78-7.78 2.81-2.81c.8-.78.8-2.07 0-2.86zM5.41 20L4 18.59l7.72-7.72 1.47 1.35L5.41 20z\"/>\n",
              "  </svg>\n",
              "      </button>\n",
              "      \n",
              "  <style>\n",
              "    .colab-df-container {\n",
              "      display:flex;\n",
              "      flex-wrap:wrap;\n",
              "      gap: 12px;\n",
              "    }\n",
              "\n",
              "    .colab-df-convert {\n",
              "      background-color: #E8F0FE;\n",
              "      border: none;\n",
              "      border-radius: 50%;\n",
              "      cursor: pointer;\n",
              "      display: none;\n",
              "      fill: #1967D2;\n",
              "      height: 32px;\n",
              "      padding: 0 0 0 0;\n",
              "      width: 32px;\n",
              "    }\n",
              "\n",
              "    .colab-df-convert:hover {\n",
              "      background-color: #E2EBFA;\n",
              "      box-shadow: 0px 1px 2px rgba(60, 64, 67, 0.3), 0px 1px 3px 1px rgba(60, 64, 67, 0.15);\n",
              "      fill: #174EA6;\n",
              "    }\n",
              "\n",
              "    [theme=dark] .colab-df-convert {\n",
              "      background-color: #3B4455;\n",
              "      fill: #D2E3FC;\n",
              "    }\n",
              "\n",
              "    [theme=dark] .colab-df-convert:hover {\n",
              "      background-color: #434B5C;\n",
              "      box-shadow: 0px 1px 3px 1px rgba(0, 0, 0, 0.15);\n",
              "      filter: drop-shadow(0px 1px 2px rgba(0, 0, 0, 0.3));\n",
              "      fill: #FFFFFF;\n",
              "    }\n",
              "  </style>\n",
              "\n",
              "      <script>\n",
              "        const buttonEl =\n",
              "          document.querySelector('#df-0c7560a0-d9ac-4ba1-bb59-df0995849197 button.colab-df-convert');\n",
              "        buttonEl.style.display =\n",
              "          google.colab.kernel.accessAllowed ? 'block' : 'none';\n",
              "\n",
              "        async function convertToInteractive(key) {\n",
              "          const element = document.querySelector('#df-0c7560a0-d9ac-4ba1-bb59-df0995849197');\n",
              "          const dataTable =\n",
              "            await google.colab.kernel.invokeFunction('convertToInteractive',\n",
              "                                                     [key], {});\n",
              "          if (!dataTable) return;\n",
              "\n",
              "          const docLinkHtml = 'Like what you see? Visit the ' +\n",
              "            '<a target=\"_blank\" href=https://colab.research.google.com/notebooks/data_table.ipynb>data table notebook</a>'\n",
              "            + ' to learn more about interactive tables.';\n",
              "          element.innerHTML = '';\n",
              "          dataTable['output_type'] = 'display_data';\n",
              "          await google.colab.output.renderOutput(dataTable, element);\n",
              "          const docLink = document.createElement('div');\n",
              "          docLink.innerHTML = docLinkHtml;\n",
              "          element.appendChild(docLink);\n",
              "        }\n",
              "      </script>\n",
              "    </div>\n",
              "  </div>\n",
              "  "
            ],
            "text/plain": [
              "    index   reviewTime      reviewerID        asin         reviewerName  \\\n",
              "2     593  03 14, 2018  A26P7AP0KTYHDK  0002051850               Barbie   \n",
              "4     595  03 12, 2018   AZ0EQP975Q8EF  0002051850   Sarah C. Frederick   \n",
              "13    618  11 20, 2017   A33H24SI5QIVX  0002051850  Heidi PDX booklover   \n",
              "18    627   10 8, 2017  A2JSJ5KL5MOUMA  0002051850    Anita L. Fretwell   \n",
              "20    633  09 12, 2017  A1SWDPBA57PC6Z  0002051850     Zaruhi Vardanyan   \n",
              "\n",
              "                                           reviewText gender_pred  \\\n",
              "2   The font is practically unreadable.  The book ...      female   \n",
              "4   This book sold me on Ernest Hemingway! I like ...      female   \n",
              "13  I personally found this book way too long and ...      female   \n",
              "18  I found it somewhat difficult to follow and it...      female   \n",
              "20  This is an abridged version which was not clea...      female   \n",
              "\n",
              "                                            tokenised  \\\n",
              "2   [the, font, is, practically, unreadable, the, ...   \n",
              "4   [this, book, sold, me, on, ernest, hemingway, ...   \n",
              "13  [i, personally, found, this, book, way, too, l...   \n",
              "18  [i, found, it, somewhat, difficult, to, follow...   \n",
              "20  [this, is, an, abridged, version, which, was, ...   \n",
              "\n",
              "                                         cleaned_text  \\\n",
              "2   [the, font, is, practically, the, book, itself...   \n",
              "4   [this, book, sold, me, on, i, like, his, easy,...   \n",
              "13  [i, personally, found, this, book, way, too, l...   \n",
              "18  [i, found, it, somewhat, difficult, to, follow...   \n",
              "20  [this, is, an, abridged, version, which, was, ...   \n",
              "\n",
              "                                        without_stops      true_label  \\\n",
              "2   [font, practically, book, looks, like, cheap, ...  classic_female   \n",
              "4   [book, sold, like, easy, read, short, sentence...  classic_female   \n",
              "13  [personally, book, way, long, slow, moving, re...  classic_female   \n",
              "18            [somewhat, difficult, follow, engaging]  classic_female   \n",
              "20  [abridged, version, clear, buying, poorly, wri...  classic_female   \n",
              "\n",
              "                                vec_rep_without_stops  label_id  \n",
              "2   [-0.008910524, 0.06032888, 0.006115631, 0.0627...         0  \n",
              "4   [-0.007825832, 0.016489625, 0.0075740465, 0.06...         0  \n",
              "13  [-0.011763638, 0.024976425, 0.006988768, 0.064...         0  \n",
              "18  [-0.026339412, -0.014321494, 0.007421734, 0.07...         0  \n",
              "20  [-0.036207855, 0.009188338, 0.004144261, 0.066...         0  "
            ]
          },
          "execution_count": 13,
          "metadata": {},
          "output_type": "execute_result"
        }
      ],
      "source": [
        "train_data.head()"
      ]
    },
    {
      "cell_type": "markdown",
      "metadata": {
        "id": "LRTlYC3xIhqn"
      },
      "source": [
        "# Descriptive analyses of the dataset\n",
        "This section explores the dataset and prepares the vocabulary for the NB classifier. Steps include:\n",
        "- Obtaining information about number of reviews and distribution of labels\n",
        "- Extracting word unigrams and their frequency from the training dataset\n",
        "- Calculating Jaccard similarities of the classes"
      ]
    },
    {
      "cell_type": "markdown",
      "metadata": {
        "id": "zQciYkEQD1F_"
      },
      "source": [
        "## Information about the dataset"
      ]
    },
    {
      "cell_type": "code",
      "execution_count": null,
      "metadata": {
        "colab": {
          "base_uri": "https://localhost:8080/"
        },
        "id": "8HhL_EKu7-tG",
        "outputId": "3c92c248-3dec-4d24-8161-267f7a317adf"
      },
      "outputs": [
        {
          "name": "stdout",
          "output_type": "stream",
          "text": [
            "In total, I am considering 767860 reviews.\n"
          ]
        }
      ],
      "source": [
        "# Length of entire dataset\n",
        "print('In total, I am considering {} reviews.'.format(len(df_reviews_sentences)))\n",
        "\n",
        "# Distribution of lables in the entire dataset\n",
        "dict_plot_cat = dict()\n",
        "for cat in categories:\n",
        "    dict_plot_cat[cat]=len(df_reviews_sentences[df_reviews_sentences.true_label==cat])/len(df_reviews_sentences)"
      ]
    },
    {
      "cell_type": "code",
      "execution_count": null,
      "metadata": {
        "colab": {
          "base_uri": "https://localhost:8080/",
          "height": 672
        },
        "id": "j4dlo2oq9w2R",
        "outputId": "cbca579c-78eb-48f2-a7d6-b40555d036d6"
      },
      "outputs": [
        {
          "data": {
            "image/png": "[encoded data removed]",
            "text/plain": [
              "<Figure size 1600x800 with 1 Axes>"
            ]
          },
          "metadata": {
            "needs_background": "light"
          },
          "output_type": "display_data"
        }
      ],
      "source": [
        "# Labels distribution plot\n",
        "fig,ax = plt.subplots(figsize=(20,10), dpi=80)\n",
        "\n",
        "bar_chart = ax.bar(x=list(dict_plot_cat.keys()),\n",
        "       height = list(dict_plot_cat.values()))\n",
        "\n",
        "# Axes formatting and labelling\n",
        "ax.spines['top'].set_visible(False)\n",
        "ax.spines['right'].set_visible(False)\n",
        "ax.spines['left'].set_visible(False)\n",
        "ax.spines['bottom'].set_color('#DDDDDD')\n",
        "ax.tick_params(bottom=True, left=False, labelsize=15)\n",
        "ax.set_axisbelow(True)\n",
        "ax.yaxis.grid(True, color='#EEEEEE')\n",
        "ax.xaxis.grid(False)\n",
        "ax.set_ylabel('proportion', labelpad=20, fontsize=15)\n",
        "ax.set_title('Figure 1: Distribution of labels over the entire dataset', pad=20, fontsize=20,\n",
        "             color='#333333', weight='bold')\n",
        "\n",
        "for bar in bar_chart:\n",
        "    ax.text(\n",
        "      bar.get_x() + bar.get_width() / 2,\n",
        "      bar.get_height() + 0.01,\n",
        "      round(bar.get_height(), 4),\n",
        "      horizontalalignment='center',\n",
        "      #color=bar_color,\n",
        "      color = 'black',\n",
        "      weight='bold',\n",
        "      size = 13)\n",
        "\n",
        "plt.tight_layout()\n",
        "plt.savefig(filePath+'distribution_labels.pdf', format ='pdf')"
      ]
    },
    {
      "cell_type": "code",
      "execution_count": null,
      "metadata": {
        "colab": {
          "base_uri": "https://localhost:8080/"
        },
        "id": "VOwsfFPsJnMr",
        "outputId": "1e260fbb-08be-4a0b-ec7a-a767bd1d1b71"
      },
      "outputs": [
        {
          "name": "stdout",
          "output_type": "stream",
          "text": [
            "The length of the test dataset is: 75564\n",
            "The percentage of women in the dataset is: 70.0%\n",
            "The fraction of classic reviews in the dataset is: 6.0%\n",
            "The fraction of romance reviews in the dataset is: 61.0%\n",
            "The fraction of science reviews in the dataset is: 33.0%\n"
          ]
        }
      ],
      "source": [
        "# Length of the test dataset\n",
        "print('The length of the test dataset is: {}'.format(len(test_data)))\n",
        "\n",
        "# Number of females and males in the test dataset\n",
        "sum_females = len(test_data[test_data.true_label.str.contains('female')])\n",
        "\n",
        "# Percentage women in the test dataset\n",
        "print('The percentage of women in the dataset is: {}%'.format(round(sum_females/len(test_data),4)*100))\n",
        "\n",
        "# Percentage categories in the test dataset\n",
        "sum_classic = len(test_data[test_data.true_label.str.contains('classic')])\n",
        "sum_romance = len(test_data[test_data.true_label.str.contains('romance')])\n",
        "sum_science = len(test_data[test_data.true_label.str.contains('science')])\n",
        "print('The fraction of classic reviews in the dataset is: {}%'.format(round(sum_classic/len(test_data),2)*100))\n",
        "print('The fraction of romance reviews in the dataset is: {}%'.format(round(sum_romance/len(test_data),2)*100))\n",
        "print('The fraction of science reviews in the dataset is: {}%'.format(round(sum_science/len(test_data),2)*100))"
      ]
    },
    {
      "cell_type": "markdown",
      "metadata": {
        "id": "jD1CmTD8D1GB"
      },
      "source": [
        "## Create vocabulary and calculate Jaccard similarities"
      ]
    },
    {
      "cell_type": "code",
      "execution_count": null,
      "metadata": {
        "colab": {
          "base_uri": "https://localhost:8080/"
        },
        "id": "B00NzotiIgvJ",
        "outputId": "6ca4ab00-9c70-43b3-d5c1-d31ed8398aca"
      },
      "outputs": [
        {
          "name": "stdout",
          "output_type": "stream",
          "text": [
            "The 30 most frequent unigrams in CLASSIC_FEMALE books: [('book', 20013), ('read', 13436), ('story', 8201), ('love', 6139), ('like', 4907), ('time', 4689), ('reading', 4651), ('novel', 4439), ('characters', 4280), ('good', 3809), ('books', 3696), ('great', 3619), ('life', 3456), ('really', 3150), ('way', 2503), ('people', 2451), ('written', 2336), ('character', 2294), ('classic', 2196), ('think', 2042), ('know', 1846), ('enjoyed', 1837), ('recommend', 1817), ('years', 1807), ('writing', 1750), ('little', 1740), ('author', 1655), ('world', 1649), ('end', 1631), ('reader', 1613)]\n",
            "The 30 most frequent unigrams in CLASSIC_MALE books: [('book', 22615), ('read', 14074), ('story', 8355), ('novel', 7838), ('like', 6555), ('time', 6532), ('great', 5152), ('life', 5144), ('good', 4943), ('reading', 4894), ('characters', 4693), ('world', 4657), ('books', 4136), ('people', 4004), ('man', 3499), ('way', 3403), ('love', 3219), ('written', 3067), ('really', 3047), ('work', 2999), ('character', 2937), ('think', 2853), ('years', 2758), ('new', 2584), ('classic', 2379), ('reader', 2345), ('writing', 2293), ('best', 2226), ('end', 2165), ('know', 2121)]\n",
            "The 30 most frequent unigrams in ROMANCE_FEMALE books: [('book', 472861), ('story', 280128), ('read', 259932), ('love', 257722), ('characters', 127542), ('series', 115577), ('like', 110460), ('really', 104728), ('great', 98285), ('books', 93585), ('good', 88590), ('reading', 81403), ('life', 79379), ('time', 73234), ('way', 71244), ('author', 66033), ('know', 62154), ('want', 60612), ('wait', 57461), ('heart', 54313), ('end', 50737), ('enjoyed', 49857), ('going', 47552), ('little', 46665), ('hot', 45312), ('make', 44842), ('family', 42124), ('best', 41779), ('amazing', 41744), ('feel', 41228)]\n",
            "The 30 most frequent unigrams in ROMANCE_MALE books: [('book', 38705), ('story', 22609), ('read', 21489), ('love', 18945), ('characters', 11148), ('like', 9360), ('great', 8894), ('really', 8517), ('series', 8432), ('good', 8168), ('books', 7692), ('reading', 6750), ('life', 5994), ('author', 5970), ('time', 5736), ('way', 5574), ('know', 4657), ('want', 4361), ('enjoyed', 4331), ('end', 4069), ('wait', 3994), ('written', 3760), ('little', 3759), ('going', 3422), ('heart', 3385), ('make', 3373), ('man', 3278), ('family', 3250), ('best', 3160), ('recommend', 3158)]\n",
            "The 30 most frequent unigrams in SCIENCE_FICTION_FEMALE books: [('book', 69676), ('read', 37641), ('story', 32902), ('series', 23334), ('characters', 22880), ('like', 18332), ('books', 15996), ('good', 15590), ('really', 15258), ('great', 14525), ('reading', 13468), ('love', 13454), ('world', 12973), ('time', 11628), ('author', 11268), ('character', 8916), ('way', 8700), ('enjoyed', 8433), ('wait', 8125), ('new', 8057), ('end', 7922), ('know', 7535), ('people', 7505), ('interesting', 7158), ('plot', 7112), ('written', 6915), ('think', 6876), ('novel', 6575), ('life', 6145), ('want', 6093)]\n",
            "The 30 most frequent unigrams in SCIENCE_FICTION_MALE books: [('book', 149813), ('read', 83243), ('story', 79482), ('series', 63591), ('characters', 49004), ('good', 47418), ('like', 43810), ('books', 39609), ('great', 38958), ('time', 29995), ('really', 28955), ('reading', 28355), ('author', 26492), ('novel', 25791), ('world', 22494), ('character', 21306), ('plot', 21006), ('new', 20398), ('interesting', 19212), ('science', 19029), ('way', 19019), ('fiction', 18017), ('action', 17473), ('end', 17157), ('written', 16942), ('enjoyed', 16537), ('space', 15841), ('little', 14309), ('stories', 14251), ('writing', 14179)]\n"
          ]
        }
      ],
      "source": [
        "# Initialise data structure for vocabulary dict (inspired by solutions formative 4)\n",
        "vocab_unigrams = defaultdict(Counter)\n",
        "\n",
        "# Create vocabulary\n",
        "for i,j in zip(train_data.without_stops, train_data.true_label):\n",
        "    vocab_unigrams[j].update(i)\n",
        "\n",
        "# Inspect most frequent unigrams\n",
        "for l in categories:\n",
        "    print(f'The 30 most frequent unigrams in {l.upper()} books:', vocab_unigrams[l].most_common(30))"
      ]
    },
    {
      "cell_type": "code",
      "execution_count": null,
      "metadata": {
        "colab": {
          "base_uri": "https://localhost:8080/"
        },
        "id": "cx-x0fJQrlxI",
        "outputId": "fdacefd7-6fa5-4081-cf92-1d011bd6d642"
      },
      "outputs": [
        {
          "name": "stdout",
          "output_type": "stream",
          "text": [
            "Number of unigrams:\n",
            "CLASSIC_FEMALE:\t 11822 entries\n",
            "CLASSIC_MALE:\t 14502 entries\n",
            "ROMANCE_FEMALE:\t 16837 entries\n",
            "ROMANCE_MALE:\t 12441 entries\n",
            "SCIENCE_FICTION_FEMALE:\t 15600 entries\n",
            "SCIENCE_FICTION_MALE:\t 18828 entries\n"
          ]
        }
      ],
      "source": [
        "# Get number of unigrams for each label in the training data\n",
        "list_number_of_unigrams = list()\n",
        "print('Number of unigrams:')\n",
        "for c_i in categories:\n",
        "    print(f\"{c_i.upper()}:\\t {len(vocab_unigrams[c_i])} entries\")\n",
        "    list_number_of_unigrams.append(len(vocab_unigrams[c_i]))"
      ]
    },
    {
      "cell_type": "code",
      "execution_count": null,
      "metadata": {
        "colab": {
          "base_uri": "https://localhost:8080/",
          "height": 672
        },
        "id": "huJ_WZAyjm8A",
        "outputId": "e4abef49-a787-48bc-902a-92b6c9f3c6e7"
      },
      "outputs": [
        {
          "data": {
            "image/png": "[encoded data removed]",
            "text/plain": [
              "<Figure size 1600x800 with 1 Axes>"
            ]
          },
          "metadata": {
            "needs_background": "light"
          },
          "output_type": "display_data"
        }
      ],
      "source": [
        "# Creating plot for unigram frequencies\n",
        "fig,ax = plt.subplots(figsize=(20,10), dpi=80)\n",
        "\n",
        "bar_chart = ax.bar(x=categories,\n",
        "       height = list_number_of_unigrams)\n",
        "\n",
        "# Axes formatting and labelling\n",
        "ax.spines['top'].set_visible(False)\n",
        "ax.spines['right'].set_visible(False)\n",
        "ax.spines['left'].set_visible(False)\n",
        "ax.spines['bottom'].set_color('#DDDDDD')\n",
        "ax.tick_params(bottom=True, left=False, labelsize=15)\n",
        "ax.set_axisbelow(True)\n",
        "ax.yaxis.grid(True, color='#EEEEEE')\n",
        "ax.xaxis.grid(False)\n",
        "ax.set_ylabel('frequency', labelpad=20, fontsize=15)\n",
        "ax.set_title('Figure 2: Number of word unigrams in training dataset ', pad=20, fontsize=20,\n",
        "             color='#333333', weight='bold')\n",
        "\n",
        "for bar in bar_chart:\n",
        "    ax.text(\n",
        "      bar.get_x() + bar.get_width() / 2,\n",
        "      bar.get_height() + 100,\n",
        "      round(bar.get_height(), 4),\n",
        "      horizontalalignment='center',\n",
        "      color = 'black',\n",
        "      weight='bold',\n",
        "      size = 15)\n",
        "\n",
        "plt.tight_layout()\n",
        "plt.savefig(filePath+'frequency_unigrams.pdf', format ='pdf')"
      ]
    },
    {
      "cell_type": "code",
      "execution_count": null,
      "metadata": {
        "colab": {
          "base_uri": "https://localhost:8080/",
          "height": 269
        },
        "id": "Pj0ki_nwrnR8",
        "outputId": "55be9b2b-9f0a-46fc-9898-72a09bd0283a"
      },
      "outputs": [
        {
          "name": "stdout",
          "output_type": "stream",
          "text": [
            "Pairwise Jaccard similarity for word unigrams:\n",
            "\n"
          ]
        },
        {
          "data": {
            "text/html": [
              "\n",
              "  <div id=\"df-553b2007-0ab2-4dd7-a5b8-7e6872f1cf0c\">\n",
              "    <div class=\"colab-df-container\">\n",
              "      <div>\n",
              "<style scoped>\n",
              "    .dataframe tbody tr th:only-of-type {\n",
              "        vertical-align: middle;\n",
              "    }\n",
              "\n",
              "    .dataframe tbody tr th {\n",
              "        vertical-align: top;\n",
              "    }\n",
              "\n",
              "    .dataframe thead th {\n",
              "        text-align: right;\n",
              "    }\n",
              "</style>\n",
              "<table border=\"1\" class=\"dataframe\">\n",
              "  <thead>\n",
              "    <tr style=\"text-align: right;\">\n",
              "      <th></th>\n",
              "      <th>classic_female</th>\n",
              "      <th>classic_male</th>\n",
              "      <th>romance_female</th>\n",
              "      <th>romance_male</th>\n",
              "      <th>science_fiction_female</th>\n",
              "      <th>science_fiction_male</th>\n",
              "    </tr>\n",
              "  </thead>\n",
              "  <tbody>\n",
              "    <tr>\n",
              "      <th>classic_female</th>\n",
              "      <td>1.000000</td>\n",
              "      <td>0.714025</td>\n",
              "      <td>0.658411</td>\n",
              "      <td>0.704102</td>\n",
              "      <td>0.679549</td>\n",
              "      <td>0.609431</td>\n",
              "    </tr>\n",
              "    <tr>\n",
              "      <th>classic_male</th>\n",
              "      <td>0.714025</td>\n",
              "      <td>1.000000</td>\n",
              "      <td>0.743477</td>\n",
              "      <td>0.698374</td>\n",
              "      <td>0.754196</td>\n",
              "      <td>0.721502</td>\n",
              "    </tr>\n",
              "    <tr>\n",
              "      <th>romance_female</th>\n",
              "      <td>0.658411</td>\n",
              "      <td>0.743477</td>\n",
              "      <td>1.000000</td>\n",
              "      <td>0.705581</td>\n",
              "      <td>0.775716</td>\n",
              "      <td>0.780935</td>\n",
              "    </tr>\n",
              "    <tr>\n",
              "      <th>romance_male</th>\n",
              "      <td>0.704102</td>\n",
              "      <td>0.698374</td>\n",
              "      <td>0.705581</td>\n",
              "      <td>1.000000</td>\n",
              "      <td>0.701724</td>\n",
              "      <td>0.633272</td>\n",
              "    </tr>\n",
              "    <tr>\n",
              "      <th>science_fiction_female</th>\n",
              "      <td>0.679549</td>\n",
              "      <td>0.754196</td>\n",
              "      <td>0.775716</td>\n",
              "      <td>0.701724</td>\n",
              "      <td>1.000000</td>\n",
              "      <td>0.778490</td>\n",
              "    </tr>\n",
              "    <tr>\n",
              "      <th>science_fiction_male</th>\n",
              "      <td>0.609431</td>\n",
              "      <td>0.721502</td>\n",
              "      <td>0.780935</td>\n",
              "      <td>0.633272</td>\n",
              "      <td>0.778490</td>\n",
              "      <td>1.000000</td>\n",
              "    </tr>\n",
              "  </tbody>\n",
              "</table>\n",
              "</div>\n",
              "      <button class=\"colab-df-convert\" onclick=\"convertToInteractive('df-553b2007-0ab2-4dd7-a5b8-7e6872f1cf0c')\"\n",
              "              title=\"Convert this dataframe to an interactive table.\"\n",
              "              style=\"display:none;\">\n",
              "        \n",
              "  <svg xmlns=\"http://www.w3.org/2000/svg\" height=\"24px\"viewBox=\"0 0 24 24\"\n",
              "       width=\"24px\">\n",
              "    <path d=\"M0 0h24v24H0V0z\" fill=\"none\"/>\n",
              "    <path d=\"M18.56 5.44l.94 2.06.94-2.06 2.06-.94-2.06-.94-.94-2.06-.94 2.06-2.06.94zm-11 1L8.5 8.5l.94-2.06 2.06-.94-2.06-.94L8.5 2.5l-.94 2.06-2.06.94zm10 10l.94 2.06.94-2.06 2.06-.94-2.06-.94-.94-2.06-.94 2.06-2.06.94z\"/><path d=\"M17.41 7.96l-1.37-1.37c-.4-.4-.92-.59-1.43-.59-.52 0-1.04.2-1.43.59L10.3 9.45l-7.72 7.72c-.78.78-.78 2.05 0 2.83L4 21.41c.39.39.9.59 1.41.59.51 0 1.02-.2 1.41-.59l7.78-7.78 2.81-2.81c.8-.78.8-2.07 0-2.86zM5.41 20L4 18.59l7.72-7.72 1.47 1.35L5.41 20z\"/>\n",
              "  </svg>\n",
              "      </button>\n",
              "      \n",
              "  <style>\n",
              "    .colab-df-container {\n",
              "      display:flex;\n",
              "      flex-wrap:wrap;\n",
              "      gap: 12px;\n",
              "    }\n",
              "\n",
              "    .colab-df-convert {\n",
              "      background-color: #E8F0FE;\n",
              "      border: none;\n",
              "      border-radius: 50%;\n",
              "      cursor: pointer;\n",
              "      display: none;\n",
              "      fill: #1967D2;\n",
              "      height: 32px;\n",
              "      padding: 0 0 0 0;\n",
              "      width: 32px;\n",
              "    }\n",
              "\n",
              "    .colab-df-convert:hover {\n",
              "      background-color: #E2EBFA;\n",
              "      box-shadow: 0px 1px 2px rgba(60, 64, 67, 0.3), 0px 1px 3px 1px rgba(60, 64, 67, 0.15);\n",
              "      fill: #174EA6;\n",
              "    }\n",
              "\n",
              "    [theme=dark] .colab-df-convert {\n",
              "      background-color: #3B4455;\n",
              "      fill: #D2E3FC;\n",
              "    }\n",
              "\n",
              "    [theme=dark] .colab-df-convert:hover {\n",
              "      background-color: #434B5C;\n",
              "      box-shadow: 0px 1px 3px 1px rgba(0, 0, 0, 0.15);\n",
              "      filter: drop-shadow(0px 1px 2px rgba(0, 0, 0, 0.3));\n",
              "      fill: #FFFFFF;\n",
              "    }\n",
              "  </style>\n",
              "\n",
              "      <script>\n",
              "        const buttonEl =\n",
              "          document.querySelector('#df-553b2007-0ab2-4dd7-a5b8-7e6872f1cf0c button.colab-df-convert');\n",
              "        buttonEl.style.display =\n",
              "          google.colab.kernel.accessAllowed ? 'block' : 'none';\n",
              "\n",
              "        async function convertToInteractive(key) {\n",
              "          const element = document.querySelector('#df-553b2007-0ab2-4dd7-a5b8-7e6872f1cf0c');\n",
              "          const dataTable =\n",
              "            await google.colab.kernel.invokeFunction('convertToInteractive',\n",
              "                                                     [key], {});\n",
              "          if (!dataTable) return;\n",
              "\n",
              "          const docLinkHtml = 'Like what you see? Visit the ' +\n",
              "            '<a target=\"_blank\" href=https://colab.research.google.com/notebooks/data_table.ipynb>data table notebook</a>'\n",
              "            + ' to learn more about interactive tables.';\n",
              "          element.innerHTML = '';\n",
              "          dataTable['output_type'] = 'display_data';\n",
              "          await google.colab.output.renderOutput(dataTable, element);\n",
              "          const docLink = document.createElement('div');\n",
              "          docLink.innerHTML = docLinkHtml;\n",
              "          element.appendChild(docLink);\n",
              "        }\n",
              "      </script>\n",
              "    </div>\n",
              "  </div>\n",
              "  "
            ],
            "text/plain": [
              "                        classic_female  classic_male  romance_female  \\\n",
              "classic_female                1.000000      0.714025        0.658411   \n",
              "classic_male                  0.714025      1.000000        0.743477   \n",
              "romance_female                0.658411      0.743477        1.000000   \n",
              "romance_male                  0.704102      0.698374        0.705581   \n",
              "science_fiction_female        0.679549      0.754196        0.775716   \n",
              "science_fiction_male          0.609431      0.721502        0.780935   \n",
              "\n",
              "                        romance_male  science_fiction_female  \\\n",
              "classic_female              0.704102                0.679549   \n",
              "classic_male                0.698374                0.754196   \n",
              "romance_female              0.705581                0.775716   \n",
              "romance_male                1.000000                0.701724   \n",
              "science_fiction_female      0.701724                1.000000   \n",
              "science_fiction_male        0.633272                0.778490   \n",
              "\n",
              "                        science_fiction_male  \n",
              "classic_female                      0.609431  \n",
              "classic_male                        0.721502  \n",
              "romance_female                      0.780935  \n",
              "romance_male                        0.633272  \n",
              "science_fiction_female              0.778490  \n",
              "science_fiction_male                1.000000  "
            ]
          },
          "metadata": {},
          "output_type": "display_data"
        }
      ],
      "source": [
        "# Pairwise Jaccard similarities for the vocabularies of all classes\n",
        "\n",
        "# Defining function for calculating Jaccard similarity\n",
        "def jaccard_sim(vocab_1, vocab_2):\n",
        "    return len(vocab_1.intersection(vocab_2)) / len(vocab_1.union(vocab_2))\n",
        "\n",
        "jacc_unigrams = defaultdict(Counter)\n",
        "\n",
        "# Initialise and fill matrix\n",
        "for l_1 in categories:\n",
        "    for l_2 in categories:\n",
        "        jacc_unigrams[l_1][l_2]=jaccard_sim(set(vocab_unigrams[l_1]), set(vocab_unigrams[l_2]))\n",
        "\n",
        "# Store and display tables\n",
        "df_jaccard_unigram = pd.DataFrame.from_dict(jacc_unigrams, orient='index',\n",
        "                                            columns=categories).reindex(index=categories)\n",
        "df_jaccard_unigram.to_latex(buf = filePath+'jaccard_uni', bold_rows = True,\n",
        "                            caption='Jaccard similarity unigrams', label='jaccard_uni')\n",
        "print('Pairwise Jaccard similarity for word unigrams:\\n')\n",
        "display(df_jaccard_unigram)\n"
      ]
    },
    {
      "cell_type": "markdown",
      "metadata": {
        "id": "BiETvRWdFmVX"
      },
      "source": [
        "# Naive Bayes Classifier\n",
        "This section is about training and evaluating the NB classifier on the six-label imbalanced dataset. Steps include:\n",
        "- Setting up model architecture\n",
        "- Training and evaluating NB only with smoothing\n",
        "- Obtaining classification reports for random baselines\n",
        "- Training and evaluating NB with smoothing and feature selection"
      ]
    },
    {
      "cell_type": "markdown",
      "metadata": {
        "id": "uATQ_Bj20zlB"
      },
      "source": [
        "### Model with smoothing but **without** feature selection\n"
      ]
    },
    {
      "cell_type": "code",
      "execution_count": null,
      "metadata": {
        "colab": {
          "base_uri": "https://localhost:8080/"
        },
        "id": "chlqfUtlFo4n",
        "outputId": "71342a44-e01b-4848-bf76-ae1b231f57ba"
      },
      "outputs": [
        {
          "name": "stdout",
          "output_type": "stream",
          "text": [
            "The number of unique unigrams in the training set is: 20729\n"
          ]
        }
      ],
      "source": [
        "# Get list of unique unigrams\n",
        "set_list = list()\n",
        "\n",
        "for cat in categories:\n",
        "    all_keys = set(vocab_unigrams[cat])\n",
        "    set_list.append(all_keys)\n",
        "\n",
        "unique_words_unigrams = set().union(*set_list)\n",
        "\n",
        "print('The number of unique unigrams in the training set is: {}'.format(len(unique_words_unigrams)))\n"
      ]
    },
    {
      "cell_type": "code",
      "execution_count": null,
      "metadata": {
        "id": "rawUqW8-0N81"
      },
      "outputs": [],
      "source": [
        "# Naive bayes with smoothing\n",
        "\n",
        "# Train the classifier P(w|c_i)\n",
        "def naive_bayes_smoothing(vocabulary, cat, smoothing_alpha):\n",
        "\n",
        "    probabilities = dict()\n",
        "\n",
        "    for c in cat:\n",
        "        probabilities[c] = dict()\n",
        "        for word in unique_words_unigrams:\n",
        "            if vocabulary[c][word]>0:\n",
        "                probabilities[c][word]= vocabulary[c][word]\n",
        "            else:\n",
        "                probabilities[c][word]= smoothing_alpha\n",
        "        total = sum(probabilities[c].values())\n",
        "        probabilities[c]={word: probabilities[c][word]/total for word in probabilities[c]}\n",
        "\n",
        "    return probabilities"
      ]
    },
    {
      "cell_type": "code",
      "execution_count": null,
      "metadata": {
        "colab": {
          "base_uri": "https://localhost:8080/"
        },
        "id": "8O3IcQcXFtZ1",
        "outputId": "3011c5d9-7ac0-4b12-deea-a12d02354b19"
      },
      "outputs": [
        {
          "name": "stdout",
          "output_type": "stream",
          "text": [
            "{'classic_female': 0.031104846614336518, 'classic_male': 0.029440974669291273, 'romance_female': 0.5697327598078528, 'romance_male': 0.05051722601602307, 'science_fiction_female': 0.09294029016501008, 'science_fiction_male': 0.22626390272748628}\n"
          ]
        }
      ],
      "source": [
        "# Estimate P(cat), the probability of class cat, based on the class distribution in the train set\n",
        "prob_class = dict()\n",
        "for cat in categories:\n",
        "    prob_class[cat] = len(train_data[train_data.true_label==cat])/len(train_data)\n",
        "print(prob_class)"
      ]
    },
    {
      "cell_type": "code",
      "execution_count": null,
      "metadata": {
        "id": "L17UUj4QFw4e"
      },
      "outputs": [],
      "source": [
        "# Algorithm for predicting the labels\n",
        "def get_nb_predictions(categories, test_data, probabilities, prob_class):\n",
        "\n",
        "    # Initialize lists for storing ground truth labels and predictions\n",
        "    labels = list()\n",
        "    predictions = list()\n",
        "\n",
        "    # Loop over categories\n",
        "    for c_i in categories:\n",
        "\n",
        "        # Loop over test reviews\n",
        "        for rev in test_data[test_data.true_label==c_i].without_stops:\n",
        "\n",
        "            # Store ground truth\n",
        "            labels.append(c_i)\n",
        "\n",
        "            # For each review, calculate scores for each of the categories\n",
        "            scores = {'classic_female': 0, 'classic_male': 0, 'romance_female':0, 'romance_male':0,\n",
        "                      'science_fiction_female':0, 'science_fiction_male':0}\n",
        "            for word in rev:\n",
        "                if word in probabilities[c_i]:\n",
        "                    scores[\"classic_female\"] += np.log(probabilities[\"classic_female\"][word])\n",
        "                    scores[\"classic_male\"] += np.log(probabilities[\"classic_male\"][word])\n",
        "                    scores[\"romance_female\"] += np.log(probabilities[\"romance_female\"][word])\n",
        "                    scores[\"romance_male\"] += np.log(probabilities[\"romance_male\"][word])\n",
        "                    scores[\"science_fiction_female\"] += np.log(probabilities[\"science_fiction_female\"][word])\n",
        "                    scores[\"science_fiction_male\"] += np.log(probabilities[\"science_fiction_male\"][word])\n",
        "\n",
        "            # Class imbalance\n",
        "            scores[\"classic_female\"] += scores[\"classic_female\"] + np.log(prob_class[\"classic_female\"])\n",
        "            scores[\"classic_male\"] += scores[\"classic_male\"] + np.log(prob_class[\"classic_male\"])\n",
        "            scores[\"romance_female\"] += scores[\"romance_female\"] + np.log(prob_class[\"romance_female\"])\n",
        "            scores[\"romance_male\"] += scores[\"romance_male\"] + np.log(prob_class[\"romance_male\"])\n",
        "            scores[\"science_fiction_female\"] += scores[\"science_fiction_female\"] + np.log(prob_class[\"science_fiction_female\"])\n",
        "            scores[\"science_fiction_male\"] += scores[\"science_fiction_male\"] + np.log(prob_class[\"science_fiction_male\"])\n",
        "\n",
        "            # Use highest score for prediction\n",
        "            predictions.append(max(scores.items(), key=operator.itemgetter(1))[0])\n",
        "\n",
        "    return labels, predictions"
      ]
    },
    {
      "cell_type": "code",
      "execution_count": null,
      "metadata": {
        "id": "gY21R-m_0CWG"
      },
      "outputs": [],
      "source": [
        "# Hyperparameter tuning of alpha\n",
        "\n",
        "alpha_parameter = [0.0000000001]+[x * 0.05 for x in range(1, 21)]\n",
        "\n",
        "macro_f1_dict = dict()\n",
        "\n",
        "for a in alpha_parameter:\n",
        "\n",
        "    # Train\n",
        "    probs = naive_bayes_smoothing(vocab_unigrams, categories, a)\n",
        "\n",
        "    # Get predictions on dev set\n",
        "    labels, predictions = get_nb_predictions(categories, dev_data, probs, prob_class)\n",
        "\n",
        "    # Calculate and store macro F1 on test set\n",
        "    macro_f1_dict[a] = f1_score(labels, predictions, average=\"macro\")"
      ]
    },
    {
      "cell_type": "code",
      "execution_count": null,
      "metadata": {
        "colab": {
          "base_uri": "https://localhost:8080/"
        },
        "id": "YWpKtAGo0CWH",
        "outputId": "b05a630e-8ead-4ca3-961f-acff11aec459"
      },
      "outputs": [
        {
          "name": "stdout",
          "output_type": "stream",
          "text": [
            "Smoothing parameter 0.05 produces the HIGHEST macro F1 on the dev set: 0.39861027183650505\n",
            "Smoothing parameter 0.55 produces the LOWEST macro F1 on the dev set: 0.39632835757990126\n",
            "The difference between the highest and lowest macro F1 is 0.0022819142566037898.\n"
          ]
        }
      ],
      "source": [
        "best_param, worst_param = max(macro_f1_dict, key=macro_f1_dict.get), min(macro_f1_dict, key=macro_f1_dict.get)\n",
        "best_f1, worst_f1 = max(macro_f1_dict.values()), min(macro_f1_dict.values())\n",
        "\n",
        "print(f\"Smoothing parameter {best_param} produces the HIGHEST macro F1 on the dev set: {best_f1}\")\n",
        "print(f\"Smoothing parameter {worst_param} produces the LOWEST macro F1 on the dev set: {worst_f1}\")\n",
        "print(f\"The difference between the highest and lowest macro F1 is {best_f1-worst_f1}.\")"
      ]
    },
    {
      "cell_type": "code",
      "execution_count": null,
      "metadata": {
        "colab": {
          "base_uri": "https://localhost:8080/"
        },
        "id": "UL5qrWTF0CWH",
        "outputId": "1e7c4f52-aa31-47f8-c4a3-21a95cfcdda2"
      },
      "outputs": [
        {
          "name": "stdout",
          "output_type": "stream",
          "text": [
            "                        precision    recall  f1-score   support\n",
            "\n",
            "        classic_female     0.2248    0.3594    0.2766      2318\n",
            "          classic_male     0.3394    0.3356    0.3375      2175\n",
            "        romance_female     0.8026    0.8156    0.8091     42007\n",
            "          romance_male     0.1098    0.0958    0.1023      4218\n",
            "science_fiction_female     0.3410    0.3682    0.3541      8568\n",
            "  science_fiction_male     0.6476    0.5606    0.6009     16278\n",
            "\n",
            "              accuracy                         0.6419     75564\n",
            "             macro avg     0.4109    0.4225    0.4134     75564\n",
            "          weighted avg     0.6471    0.6419    0.6433     75564\n",
            "\n"
          ]
        }
      ],
      "source": [
        "# Evalutating model with tuned hyperparameter\n",
        "smoothing_alpha = 0.05\n",
        "\n",
        "# Train\n",
        "probs = naive_bayes_smoothing(vocab_unigrams, categories, smoothing_alpha)\n",
        "\n",
        "# Get predictions on test set\n",
        "labels, predictions = get_nb_predictions(categories, test_data, probs, prob_class)\n",
        "\n",
        "print(classification_report(labels, predictions, digits = 4))"
      ]
    },
    {
      "cell_type": "code",
      "execution_count": null,
      "metadata": {
        "colab": {
          "base_uri": "https://localhost:8080/",
          "height": 235
        },
        "id": "-yZYEXsF0CWJ",
        "outputId": "94049fdf-e29f-4ac2-c99e-dcfb3a2c7876"
      },
      "outputs": [
        {
          "data": {
            "text/html": [
              "\n",
              "  <div id=\"df-73ad554c-b118-46f9-af39-96d43c76ca80\">\n",
              "    <div class=\"colab-df-container\">\n",
              "      <div>\n",
              "<style scoped>\n",
              "    .dataframe tbody tr th:only-of-type {\n",
              "        vertical-align: middle;\n",
              "    }\n",
              "\n",
              "    .dataframe tbody tr th {\n",
              "        vertical-align: top;\n",
              "    }\n",
              "\n",
              "    .dataframe thead th {\n",
              "        text-align: right;\n",
              "    }\n",
              "</style>\n",
              "<table border=\"1\" class=\"dataframe\">\n",
              "  <thead>\n",
              "    <tr style=\"text-align: right;\">\n",
              "      <th></th>\n",
              "      <th>classic_female</th>\n",
              "      <th>classic_male</th>\n",
              "      <th>romance_female</th>\n",
              "      <th>romance_male</th>\n",
              "      <th>science_fiction_female</th>\n",
              "      <th>science_fiction_male</th>\n",
              "    </tr>\n",
              "  </thead>\n",
              "  <tbody>\n",
              "    <tr>\n",
              "      <th>classic_female</th>\n",
              "      <td>833</td>\n",
              "      <td>525</td>\n",
              "      <td>546</td>\n",
              "      <td>22</td>\n",
              "      <td>188</td>\n",
              "      <td>204</td>\n",
              "    </tr>\n",
              "    <tr>\n",
              "      <th>classic_male</th>\n",
              "      <td>758</td>\n",
              "      <td>730</td>\n",
              "      <td>309</td>\n",
              "      <td>15</td>\n",
              "      <td>74</td>\n",
              "      <td>289</td>\n",
              "    </tr>\n",
              "    <tr>\n",
              "      <th>romance_female</th>\n",
              "      <td>881</td>\n",
              "      <td>170</td>\n",
              "      <td>34261</td>\n",
              "      <td>3011</td>\n",
              "      <td>2143</td>\n",
              "      <td>1541</td>\n",
              "    </tr>\n",
              "    <tr>\n",
              "      <th>romance_male</th>\n",
              "      <td>174</td>\n",
              "      <td>83</td>\n",
              "      <td>3030</td>\n",
              "      <td>404</td>\n",
              "      <td>261</td>\n",
              "      <td>266</td>\n",
              "    </tr>\n",
              "    <tr>\n",
              "      <th>science_fiction_female</th>\n",
              "      <td>400</td>\n",
              "      <td>166</td>\n",
              "      <td>2069</td>\n",
              "      <td>112</td>\n",
              "      <td>3155</td>\n",
              "      <td>2666</td>\n",
              "    </tr>\n",
              "    <tr>\n",
              "      <th>science_fiction_male</th>\n",
              "      <td>659</td>\n",
              "      <td>477</td>\n",
              "      <td>2472</td>\n",
              "      <td>114</td>\n",
              "      <td>3431</td>\n",
              "      <td>9125</td>\n",
              "    </tr>\n",
              "  </tbody>\n",
              "</table>\n",
              "</div>\n",
              "      <button class=\"colab-df-convert\" onclick=\"convertToInteractive('df-73ad554c-b118-46f9-af39-96d43c76ca80')\"\n",
              "              title=\"Convert this dataframe to an interactive table.\"\n",
              "              style=\"display:none;\">\n",
              "        \n",
              "  <svg xmlns=\"http://www.w3.org/2000/svg\" height=\"24px\"viewBox=\"0 0 24 24\"\n",
              "       width=\"24px\">\n",
              "    <path d=\"M0 0h24v24H0V0z\" fill=\"none\"/>\n",
              "    <path d=\"M18.56 5.44l.94 2.06.94-2.06 2.06-.94-2.06-.94-.94-2.06-.94 2.06-2.06.94zm-11 1L8.5 8.5l.94-2.06 2.06-.94-2.06-.94L8.5 2.5l-.94 2.06-2.06.94zm10 10l.94 2.06.94-2.06 2.06-.94-2.06-.94-.94-2.06-.94 2.06-2.06.94z\"/><path d=\"M17.41 7.96l-1.37-1.37c-.4-.4-.92-.59-1.43-.59-.52 0-1.04.2-1.43.59L10.3 9.45l-7.72 7.72c-.78.78-.78 2.05 0 2.83L4 21.41c.39.39.9.59 1.41.59.51 0 1.02-.2 1.41-.59l7.78-7.78 2.81-2.81c.8-.78.8-2.07 0-2.86zM5.41 20L4 18.59l7.72-7.72 1.47 1.35L5.41 20z\"/>\n",
              "  </svg>\n",
              "      </button>\n",
              "      \n",
              "  <style>\n",
              "    .colab-df-container {\n",
              "      display:flex;\n",
              "      flex-wrap:wrap;\n",
              "      gap: 12px;\n",
              "    }\n",
              "\n",
              "    .colab-df-convert {\n",
              "      background-color: #E8F0FE;\n",
              "      border: none;\n",
              "      border-radius: 50%;\n",
              "      cursor: pointer;\n",
              "      display: none;\n",
              "      fill: #1967D2;\n",
              "      height: 32px;\n",
              "      padding: 0 0 0 0;\n",
              "      width: 32px;\n",
              "    }\n",
              "\n",
              "    .colab-df-convert:hover {\n",
              "      background-color: #E2EBFA;\n",
              "      box-shadow: 0px 1px 2px rgba(60, 64, 67, 0.3), 0px 1px 3px 1px rgba(60, 64, 67, 0.15);\n",
              "      fill: #174EA6;\n",
              "    }\n",
              "\n",
              "    [theme=dark] .colab-df-convert {\n",
              "      background-color: #3B4455;\n",
              "      fill: #D2E3FC;\n",
              "    }\n",
              "\n",
              "    [theme=dark] .colab-df-convert:hover {\n",
              "      background-color: #434B5C;\n",
              "      box-shadow: 0px 1px 3px 1px rgba(0, 0, 0, 0.15);\n",
              "      filter: drop-shadow(0px 1px 2px rgba(0, 0, 0, 0.3));\n",
              "      fill: #FFFFFF;\n",
              "    }\n",
              "  </style>\n",
              "\n",
              "      <script>\n",
              "        const buttonEl =\n",
              "          document.querySelector('#df-73ad554c-b118-46f9-af39-96d43c76ca80 button.colab-df-convert');\n",
              "        buttonEl.style.display =\n",
              "          google.colab.kernel.accessAllowed ? 'block' : 'none';\n",
              "\n",
              "        async function convertToInteractive(key) {\n",
              "          const element = document.querySelector('#df-73ad554c-b118-46f9-af39-96d43c76ca80');\n",
              "          const dataTable =\n",
              "            await google.colab.kernel.invokeFunction('convertToInteractive',\n",
              "                                                     [key], {});\n",
              "          if (!dataTable) return;\n",
              "\n",
              "          const docLinkHtml = 'Like what you see? Visit the ' +\n",
              "            '<a target=\"_blank\" href=https://colab.research.google.com/notebooks/data_table.ipynb>data table notebook</a>'\n",
              "            + ' to learn more about interactive tables.';\n",
              "          element.innerHTML = '';\n",
              "          dataTable['output_type'] = 'display_data';\n",
              "          await google.colab.output.renderOutput(dataTable, element);\n",
              "          const docLink = document.createElement('div');\n",
              "          docLink.innerHTML = docLinkHtml;\n",
              "          element.appendChild(docLink);\n",
              "        }\n",
              "      </script>\n",
              "    </div>\n",
              "  </div>\n",
              "  "
            ],
            "text/plain": [
              "                        classic_female  classic_male  romance_female  \\\n",
              "classic_female                     833           525             546   \n",
              "classic_male                       758           730             309   \n",
              "romance_female                     881           170           34261   \n",
              "romance_male                       174            83            3030   \n",
              "science_fiction_female             400           166            2069   \n",
              "science_fiction_male               659           477            2472   \n",
              "\n",
              "                        romance_male  science_fiction_female  \\\n",
              "classic_female                    22                     188   \n",
              "classic_male                      15                      74   \n",
              "romance_female                  3011                    2143   \n",
              "romance_male                     404                     261   \n",
              "science_fiction_female           112                    3155   \n",
              "science_fiction_male             114                    3431   \n",
              "\n",
              "                        science_fiction_male  \n",
              "classic_female                           204  \n",
              "classic_male                             289  \n",
              "romance_female                          1541  \n",
              "romance_male                             266  \n",
              "science_fiction_female                  2666  \n",
              "science_fiction_male                    9125  "
            ]
          },
          "execution_count": 56,
          "metadata": {},
          "output_type": "execute_result"
        }
      ],
      "source": [
        "# Initialize confusion matrix\n",
        "c_matrix = defaultdict(Counter)\n",
        "id2label={0:'classic_female', 1:'classic_male', 2:'romance_female', 3:'romance_male',\n",
        "          4:'science_fiction_female', 5:'science_fiction_male'}\n",
        "\n",
        "# Fill confusion matrix\n",
        "for t, p in zip(labels, predictions):\n",
        "    c_matrix[t][p] += 1\n",
        "\n",
        "# Display confusion matrix\n",
        "pd.DataFrame.from_dict(c_matrix, orient='index', columns=categories).reindex(index=categories)"
      ]
    },
    {
      "cell_type": "markdown",
      "metadata": {
        "id": "A79t6mdKQnZJ"
      },
      "source": [
        "## Simple random baselines"
      ]
    },
    {
      "cell_type": "code",
      "execution_count": null,
      "metadata": {
        "colab": {
          "base_uri": "https://localhost:8080/"
        },
        "id": "w9VsUKOUazWu",
        "outputId": "2947693a-b0e6-48de-b68d-57c5e1e5b3c1"
      },
      "outputs": [
        {
          "name": "stdout",
          "output_type": "stream",
          "text": [
            "[2270.0, 2186.0, 43317.0, 3873.0, 7154.0, 16763.0]\n"
          ]
        }
      ],
      "source": [
        "# Baseline for randomly predicting the labels according to their probability in the entire dataset\n",
        "number_class_pred = list()\n",
        "\n",
        "# Get number of reviews in each class\n",
        "for i in dict_plot_cat.values():\n",
        "    number_class_pred.append(round(i*len(predictions), 0))\n",
        "print(number_class_pred)"
      ]
    },
    {
      "cell_type": "code",
      "execution_count": null,
      "metadata": {
        "colab": {
          "base_uri": "https://localhost:8080/"
        },
        "id": "4JJL2BETanS1",
        "outputId": "bf7af22f-d474-4893-90f1-2cd20dde8280"
      },
      "outputs": [
        {
          "data": {
            "text/plain": [
              "-1.0"
            ]
          },
          "execution_count": 21,
          "metadata": {},
          "output_type": "execute_result"
        }
      ],
      "source": [
        "sum(number_class_pred)-len(predictions) # one observation too little"
      ]
    },
    {
      "cell_type": "code",
      "execution_count": null,
      "metadata": {
        "id": "PImjFRShcRqC"
      },
      "outputs": [],
      "source": [
        "# Generating labels according to their frequency in the dataset\n",
        "dict_class_prob_pred = dict()\n",
        "\n",
        "# Create list of lables for each category and store them in dict\n",
        "for l, j in zip(categories, number_class_pred):\n",
        "    dict_class_prob_pred[l]=[l]*int(j)\n",
        "\n",
        "# Create one list out of all sublists\n",
        "new_pred_class_prob = list()\n",
        "\n",
        "for i in dict_class_prob_pred.values():\n",
        "    new_pred_class_prob.append(i)\n",
        "\n",
        "# Flat list:\n",
        "new_pred_class_prob = [item for sublist in new_pred_class_prob for item in sublist]"
      ]
    },
    {
      "cell_type": "code",
      "execution_count": null,
      "metadata": {
        "id": "3nr_jinJfntT"
      },
      "outputs": [],
      "source": [
        "# Add label \"science_fiction_female\" because it was close to be rounded up and otherwise one label too little (see Distribution plot)\n",
        "new_pred_class_prob += ['science_fiction_female']\n"
      ]
    },
    {
      "cell_type": "code",
      "execution_count": null,
      "metadata": {
        "colab": {
          "base_uri": "https://localhost:8080/"
        },
        "id": "Y2mzvhYchVjK",
        "outputId": "9a75e066-b2b4-4503-81f0-d79a6f312374"
      },
      "outputs": [
        {
          "data": {
            "text/plain": [
              "75564"
            ]
          },
          "execution_count": 26,
          "metadata": {},
          "output_type": "execute_result"
        }
      ],
      "source": [
        "# Randomise list\n",
        "baseline_class_prob = random.sample(new_pred_class_prob, len(new_pred_class_prob))\n",
        "len(baseline_class_prob)"
      ]
    },
    {
      "cell_type": "code",
      "execution_count": null,
      "metadata": {
        "colab": {
          "base_uri": "https://localhost:8080/"
        },
        "id": "k8CCKauTgz-J",
        "outputId": "12bb825a-3322-4554-d03e-5c749eaef52e"
      },
      "outputs": [
        {
          "name": "stdout",
          "output_type": "stream",
          "text": [
            "BASELINE FOR RANDOMLY PREDICTING CLASSES ACCORDING TO THEIR PROBABILITY IN THE ENTIRE DATASET\n",
            "\n",
            "                        precision    recall  f1-score   support\n",
            "\n",
            "        classic_female     0.0335    0.0328    0.0331      2318\n",
            "          classic_male     0.0265    0.0267    0.0266      2175\n",
            "        romance_female     0.5538    0.5711    0.5623     42007\n",
            "          romance_male     0.0491    0.0450    0.0470      4218\n",
            "science_fiction_female     0.1124    0.0938    0.1023      8568\n",
            "  science_fiction_male     0.2148    0.2212    0.2179     16278\n",
            "\n",
            "              accuracy                         0.3800     75564\n",
            "             macro avg     0.1650    0.1651    0.1649     75564\n",
            "          weighted avg     0.3714    0.3800    0.3755     75564\n",
            "\n"
          ]
        }
      ],
      "source": [
        "print('BASELINE FOR RANDOMLY PREDICTING CLASSES ACCORDING TO THEIR PROBABILITY IN THE ENTIRE DATASET\\n')\n",
        "print(classification_report(labels, baseline_class_prob, zero_division=0, digits = 4))\n",
        "\n",
        "# Store results\n",
        "report_random = classification_report(labels, baseline_class_prob, digits = 4, output_dict=True)\n",
        "df_report_random = pd.DataFrame(report_random).transpose()\n",
        "df_report_random.to_latex(buf = filePath+'random_report', header = ['Precision', 'Recall', 'F1-score', 'Support'],\n",
        "                      bold_rows = False, float_format=\"%.4f\",\n",
        "                      caption='Classification Report Radnom baseline, unbalanced dataset', label='report_random')\n",
        "\n"
      ]
    },
    {
      "cell_type": "code",
      "execution_count": null,
      "metadata": {
        "colab": {
          "base_uri": "https://localhost:8080/"
        },
        "id": "xI8tbCXOxHJC",
        "outputId": "aba0b7ff-9b27-4b30-dea2-4ab82c9dc86c"
      },
      "outputs": [
        {
          "name": "stdout",
          "output_type": "stream",
          "text": [
            "(array([   0,    1,    2, ..., 4490, 4491, 4492]),)\n",
            "(array([ 4493,  4494,  4495, ..., 50715, 50716, 50717]),)\n",
            "(array([50718, 50719, 50720, ..., 75561, 75562, 75563]),)\n"
          ]
        }
      ],
      "source": [
        "# Baseline for correctly predicting genre but randomly predicting gender (according to probability within genre)\n",
        "\n",
        "baseline_corr_genre_random = np.array(labels)\n",
        "\n",
        "# Get index of labels in correct label list for each genre and then shuffle within book genre\n",
        "for substr in ['classic', 'romance', 'science']:\n",
        "    indx_to_shuffle = np.where([substr in x for x in baseline_corr_genre_random])\n",
        "    print(indx_to_shuffle)\n",
        "    baseline_corr_genre_random[indx_to_shuffle] = np.random.permutation(baseline_corr_genre_random[indx_to_shuffle])"
      ]
    },
    {
      "cell_type": "code",
      "execution_count": null,
      "metadata": {
        "colab": {
          "base_uri": "https://localhost:8080/"
        },
        "id": "Luw9OHKr2foB",
        "outputId": "9f3550d7-ca2c-42a1-e29c-adb848b762d6"
      },
      "outputs": [
        {
          "name": "stdout",
          "output_type": "stream",
          "text": [
            "BASELINE FOR CORRECTLY PREDICTING BOOK GENRE BUT RANDOMLY PREDICTING GENDER WITHIN GENRE\n",
            "\n",
            "                        precision    recall  f1-score   support\n",
            "\n",
            "        classic_female     0.5073    0.5073    0.5073      2318\n",
            "          classic_male     0.4749    0.4749    0.4749      2175\n",
            "        romance_female     0.9085    0.9085    0.9085     42007\n",
            "          romance_male     0.0891    0.0891    0.0891      4218\n",
            "science_fiction_female     0.3424    0.3424    0.3424      8568\n",
            "  science_fiction_male     0.6539    0.6539    0.6539     16278\n",
            "\n",
            "              accuracy                         0.7190     75564\n",
            "             macro avg     0.4960    0.4960    0.4960     75564\n",
            "          weighted avg     0.7190    0.7190    0.7190     75564\n",
            "\n"
          ]
        }
      ],
      "source": [
        "print('BASELINE FOR CORRECTLY PREDICTING BOOK GENRE BUT RANDOMLY PREDICTING GENDER WITHIN GENRE\\n')\n",
        "print(classification_report(labels, baseline_corr_genre_random, zero_division=0, digits = 4))\n",
        "\n",
        "# Store results\n",
        "report_random_genre = classification_report(labels, baseline_corr_genre_random, digits = 4, output_dict=True)\n",
        "df_report_random_genre = pd.DataFrame(report_random_genre).transpose()\n",
        "df_report_random_genre.to_latex(buf = filePath+'random_report_genre',\n",
        "                                header = ['Precision', 'Recall', 'F1-score', 'Support'],\n",
        "                                bold_rows = False, float_format=\"%.4f\",\n",
        "                                caption='Classification Report correct genre random gender, imbalanced dataset',\n",
        "                                label='report_random')\n",
        "\n"
      ]
    },
    {
      "cell_type": "markdown",
      "metadata": {
        "id": "EUrdrJr10CWK"
      },
      "source": [
        "## Naive Bayes with smoothing **and feature selection**"
      ]
    },
    {
      "cell_type": "code",
      "execution_count": null,
      "metadata": {
        "id": "TB8JDLsW0CWK"
      },
      "outputs": [],
      "source": [
        "# Mutual information\n",
        "\n",
        "# Create dictionary which counts the number of reviews a word appears in\n",
        "# (ignoring if it appears more than once in a review)\n",
        "\n",
        "n_reviews = defaultdict(Counter)\n",
        "\n",
        "for i,j in zip(train_data.without_stops, train_data.true_label):\n",
        "    n_reviews[j].update(set(i))"
      ]
    },
    {
      "cell_type": "code",
      "execution_count": null,
      "metadata": {
        "colab": {
          "base_uri": "https://localhost:8080/"
        },
        "id": "N3QZRBkSeE5U",
        "outputId": "bed3c660-ca1a-4d3a-da21-0fa52f9d03ba"
      },
      "outputs": [
        {
          "data": {
            "text/plain": [
              "{'classic_female': 19199,\n",
              " 'classic_male': 18172,\n",
              " 'romance_female': 351659,\n",
              " 'romance_male': 31181,\n",
              " 'science_fiction_female': 57366,\n",
              " 'science_fiction_male': 139658}"
            ]
          },
          "execution_count": 39,
          "metadata": {},
          "output_type": "execute_result"
        }
      ],
      "source": [
        "# Get number of reviews per category\n",
        "n_total = dict()\n",
        "\n",
        "for cat in categories:\n",
        "    n_total[cat]= len(train_data[train_data.true_label == cat])\n",
        "n_total"
      ]
    },
    {
      "cell_type": "code",
      "execution_count": null,
      "metadata": {
        "id": "9C86xT63HyvC"
      },
      "outputs": [],
      "source": [
        "def mutual_info(word, n_reviews, n_total):\n",
        "\n",
        "    # Create a matrix: for each class (row), how many tweets did it appear in (col1) and not appear in (col2)\n",
        "    count_matrix = np.array([[n_reviews[\"classic_female\"][word], n_total[\"classic_female\"]\n",
        "                              - n_reviews[\"classic_female\"][word]],\n",
        "                             [n_reviews[\"classic_male\"][word], n_total[\"classic_male\"]\n",
        "                              - n_reviews[\"classic_male\"][word]],\n",
        "                             [n_reviews[\"romance_female\"][word], n_total[\"romance_female\"]\n",
        "                              - n_reviews[\"romance_female\"][word]],\n",
        "                             [n_reviews[\"romance_male\"][word], n_total[\"romance_male\"]\n",
        "                              - n_reviews[\"romance_male\"][word]],\n",
        "                             [n_reviews[\"science_fiction_female\"][word], n_total[\"science_fiction_female\"]\n",
        "                              - n_reviews[\"science_fiction_female\"][word]],\n",
        "                             [n_reviews[\"science_fiction_male\"][word], n_total[\"science_fiction_male\"]\n",
        "                              - n_reviews[\"science_fiction_male\"][word]]])\n",
        "\n",
        "    # Store the sum of that matrix --> total number of tweets in the training set\n",
        "    N = count_matrix.sum()\n",
        "\n",
        "    # Initialise the value we will return\n",
        "    out = 0\n",
        "\n",
        "    # Iterate through columns and rows\n",
        "    for col in range(2):\n",
        "        for row in range(6):\n",
        "\n",
        "            if count_matrix[row, col]!= 0:\n",
        "                out += count_matrix[row, col] * np.log2((N*count_matrix[row, col]) / (count_matrix[row, :].sum() * count_matrix[:, col].sum()))\n",
        "\n",
        "            # Do not increase MI score if no observation in training data\n",
        "            else:\n",
        "                out +=0\n",
        "\n",
        "    return (1/N) * out"
      ]
    },
    {
      "cell_type": "code",
      "execution_count": null,
      "metadata": {
        "colab": {
          "base_uri": "https://localhost:8080/"
        },
        "id": "8bXF451sHz8g",
        "outputId": "7f1d77dc-d604-4cde-8b10-39a8480a57e1"
      },
      "outputs": [
        {
          "name": "stdout",
          "output_type": "stream",
          "text": [
            "30 overall most informative features: ['love', 'science', 'sci', 'fi', 'hot', 'fiction', 'space', 'heart', 'action', 'series', 'universe', 'chemistry', 'relationship', 'classic', 'human', 'honest', 'novel', 'world', 'voluntarily', 'wait', 'war', 'interesting', 'technology', 'family', 'beautiful', 'amazing', 'planet', 'sex', 'story', 'earth']\n"
          ]
        }
      ],
      "source": [
        "mutual_info_values = sorted([(mutual_info(w, n_reviews, n_total), w) for w in unique_words_unigrams], reverse=True)\n",
        "\n",
        "print('30 overall most informative features:', [w for mi, w in mutual_info_values][:30])"
      ]
    },
    {
      "cell_type": "code",
      "execution_count": null,
      "metadata": {
        "colab": {
          "base_uri": "https://localhost:8080/"
        },
        "id": "bcDHCpKBMYnX",
        "outputId": "14d5a2f3-7b46-46fc-dacb-34a245ba9b86"
      },
      "outputs": [
        {
          "data": {
            "text/plain": [
              "20729"
            ]
          },
          "execution_count": 42,
          "metadata": {},
          "output_type": "execute_result"
        }
      ],
      "source": [
        "len(mutual_info_values)"
      ]
    },
    {
      "cell_type": "code",
      "execution_count": null,
      "metadata": {
        "id": "21ucnX2VGaD6"
      },
      "outputs": [],
      "source": [
        "# Function for training the classifier P(w|c_i) with feature selection\n",
        "def naive_bayes(unique_words_unigrams, vocabulary, cat, smoothing_alpha, top_n, mutual_info_values):\n",
        "\n",
        "    probabilities = dict()\n",
        "\n",
        "    top_mu_info = dict([(t[1], t[0]) for t in mutual_info_values[ :top_n]]) #feature selection\n",
        "\n",
        "    for c in cat:\n",
        "        probabilities[c] = dict()\n",
        "        for word in unique_words_unigrams:\n",
        "            if word in top_mu_info:\n",
        "                if vocabulary[c][word]>0:\n",
        "                    probabilities[c][word]= vocabulary[c][word]\n",
        "                else:\n",
        "                    probabilities[c][word]= smoothing_alpha\n",
        "        total = sum(probabilities[c].values())\n",
        "        probabilities[c]={word: probabilities[c][word]/total for word in probabilities[c]}\n",
        "\n",
        "    return probabilities"
      ]
    },
    {
      "cell_type": "code",
      "execution_count": null,
      "metadata": {
        "id": "K78Oqyw7IRzv"
      },
      "outputs": [],
      "source": [
        "# Hyperparameter tuning for smoothing alpha and for top_n features\n",
        "top_n_parameter = [1000, 2000, 5000, 10000, 15000, 18000, 20000, 20729]\n",
        "\n",
        "alpha_parameter = [0.0000000001]+[x * 0.05 for x in range(1, 21)] #maybe later more.\n",
        "\n",
        "macro_f1_dict = dict()\n",
        "\n",
        "for n in top_n_parameter:\n",
        "    for a in alpha_parameter:\n",
        "\n",
        "        # Train\n",
        "        probs = naive_bayes(unique_words_unigrams, vocab_unigrams, categories, a, n, mutual_info_values)\n",
        "\n",
        "        # Get predictions on dev set\n",
        "        labels, predictions = get_nb_predictions(categories, dev_data, probs, prob_class)\n",
        "\n",
        "        # Calculate and store macro F1 on test set\n",
        "        macro_f1_dict[str(n)+'_'+str(a)] = f1_score(labels, predictions, average=\"macro\")"
      ]
    },
    {
      "cell_type": "code",
      "execution_count": null,
      "metadata": {
        "colab": {
          "base_uri": "https://localhost:8080/"
        },
        "id": "xDBk1JJIZkpS",
        "outputId": "446cf5c1-9958-4fcf-b4ca-ad87b4a80ffa"
      },
      "outputs": [
        {
          "name": "stdout",
          "output_type": "stream",
          "text": [
            "Smoothing parameter 20000_0.05 produces the HIGHEST macro F1 on the dev set: 0.3987459740009238\n",
            "Smoothing parameter 1000_1e-10 produces the LOWEST macro F1 on the dev set: 0.37774994841822673\n",
            "The difference between the highest and lowest macro F1 is 0.020996025582697087.\n"
          ]
        }
      ],
      "source": [
        "best_param, worst_param = max(macro_f1_dict, key=macro_f1_dict.get), min(macro_f1_dict, key=macro_f1_dict.get)\n",
        "best_f1, worst_f1 = max(macro_f1_dict.values()), min(macro_f1_dict.values())\n",
        "\n",
        "print(f\"Smoothing parameter {best_param} produces the HIGHEST macro F1 on the dev set: {best_f1}\")\n",
        "print(f\"Smoothing parameter {worst_param} produces the LOWEST macro F1 on the dev set: {worst_f1}\")\n",
        "print(f\"The difference between the highest and lowest macro F1 is {best_f1-worst_f1}.\")"
      ]
    },
    {
      "cell_type": "code",
      "execution_count": null,
      "metadata": {
        "colab": {
          "base_uri": "https://localhost:8080/"
        },
        "id": "VRwC7R27IYuc",
        "outputId": "9a9a4274-661d-478a-c903-ff56cd12872c"
      },
      "outputs": [
        {
          "name": "stdout",
          "output_type": "stream",
          "text": [
            "                        precision    recall  f1-score   support\n",
            "\n",
            "        classic_female     0.2251    0.3594    0.2768      2318\n",
            "          classic_male     0.3386    0.3361    0.3373      2175\n",
            "        romance_female     0.8026    0.8156    0.8090     42007\n",
            "          romance_male     0.1104    0.0963    0.1028      4218\n",
            "science_fiction_female     0.3408    0.3681    0.3539      8568\n",
            "  science_fiction_male     0.6475    0.5604    0.6008     16278\n",
            "\n",
            "              accuracy                         0.6419     75564\n",
            "             macro avg     0.4108    0.4226    0.4135     75564\n",
            "          weighted avg     0.6471    0.6419    0.6433     75564\n",
            "\n"
          ]
        }
      ],
      "source": [
        "# Train and evaluate on test set\n",
        "top_n = 20000\n",
        "smoothing_alpha = 0.05\n",
        "\n",
        "# Train\n",
        "probs = naive_bayes(unique_words_unigrams, vocab_unigrams, categories, smoothing_alpha, top_n,  mutual_info_values)\n",
        "\n",
        "# Get predictions on test set\n",
        "labels, predictions = get_nb_predictions(categories, test_data, probs, prob_class)\n",
        "\n",
        "# Get classification report\n",
        "report_nb = classification_report(labels, predictions, digits = 4, output_dict=True)\n",
        "df_report_nb = pd.DataFrame(report_nb).transpose()\n",
        "df_report_nb.to_latex(buf = filePath+'nb_report', header = ['Precision', 'Recall', 'F1-score', 'Support'],\n",
        "                      bold_rows = False, float_format=\"%.4f\",\n",
        "                      caption='Classification Report NB classifier, unbalanced dataset', label='report_nb')\n",
        "print(classification_report(labels, predictions, digits = 4))"
      ]
    },
    {
      "cell_type": "code",
      "execution_count": null,
      "metadata": {
        "colab": {
          "base_uri": "https://localhost:8080/",
          "height": 235
        },
        "id": "lSIstbzLRkYz",
        "outputId": "f7f0e86d-44bb-4fb1-dd4f-09008906440a"
      },
      "outputs": [
        {
          "data": {
            "text/html": [
              "\n",
              "  <div id=\"df-d486d663-d688-4df3-8b6f-dd92d3d5edae\">\n",
              "    <div class=\"colab-df-container\">\n",
              "      <div>\n",
              "<style scoped>\n",
              "    .dataframe tbody tr th:only-of-type {\n",
              "        vertical-align: middle;\n",
              "    }\n",
              "\n",
              "    .dataframe tbody tr th {\n",
              "        vertical-align: top;\n",
              "    }\n",
              "\n",
              "    .dataframe thead th {\n",
              "        text-align: right;\n",
              "    }\n",
              "</style>\n",
              "<table border=\"1\" class=\"dataframe\">\n",
              "  <thead>\n",
              "    <tr style=\"text-align: right;\">\n",
              "      <th></th>\n",
              "      <th>classic_female</th>\n",
              "      <th>classic_male</th>\n",
              "      <th>romance_female</th>\n",
              "      <th>romance_male</th>\n",
              "      <th>science_fiction_female</th>\n",
              "      <th>science_fiction_male</th>\n",
              "    </tr>\n",
              "  </thead>\n",
              "  <tbody>\n",
              "    <tr>\n",
              "      <th>classic_female</th>\n",
              "      <td>833</td>\n",
              "      <td>525</td>\n",
              "      <td>546</td>\n",
              "      <td>22</td>\n",
              "      <td>188</td>\n",
              "      <td>204</td>\n",
              "    </tr>\n",
              "    <tr>\n",
              "      <th>classic_male</th>\n",
              "      <td>757</td>\n",
              "      <td>731</td>\n",
              "      <td>310</td>\n",
              "      <td>14</td>\n",
              "      <td>74</td>\n",
              "      <td>289</td>\n",
              "    </tr>\n",
              "    <tr>\n",
              "      <th>romance_female</th>\n",
              "      <td>879</td>\n",
              "      <td>173</td>\n",
              "      <td>34259</td>\n",
              "      <td>3012</td>\n",
              "      <td>2143</td>\n",
              "      <td>1541</td>\n",
              "    </tr>\n",
              "    <tr>\n",
              "      <th>romance_male</th>\n",
              "      <td>174</td>\n",
              "      <td>83</td>\n",
              "      <td>3028</td>\n",
              "      <td>406</td>\n",
              "      <td>261</td>\n",
              "      <td>266</td>\n",
              "    </tr>\n",
              "    <tr>\n",
              "      <th>science_fiction_female</th>\n",
              "      <td>399</td>\n",
              "      <td>168</td>\n",
              "      <td>2070</td>\n",
              "      <td>112</td>\n",
              "      <td>3154</td>\n",
              "      <td>2665</td>\n",
              "    </tr>\n",
              "    <tr>\n",
              "      <th>science_fiction_male</th>\n",
              "      <td>659</td>\n",
              "      <td>479</td>\n",
              "      <td>2471</td>\n",
              "      <td>113</td>\n",
              "      <td>3434</td>\n",
              "      <td>9122</td>\n",
              "    </tr>\n",
              "  </tbody>\n",
              "</table>\n",
              "</div>\n",
              "      <button class=\"colab-df-convert\" onclick=\"convertToInteractive('df-d486d663-d688-4df3-8b6f-dd92d3d5edae')\"\n",
              "              title=\"Convert this dataframe to an interactive table.\"\n",
              "              style=\"display:none;\">\n",
              "        \n",
              "  <svg xmlns=\"http://www.w3.org/2000/svg\" height=\"24px\"viewBox=\"0 0 24 24\"\n",
              "       width=\"24px\">\n",
              "    <path d=\"M0 0h24v24H0V0z\" fill=\"none\"/>\n",
              "    <path d=\"M18.56 5.44l.94 2.06.94-2.06 2.06-.94-2.06-.94-.94-2.06-.94 2.06-2.06.94zm-11 1L8.5 8.5l.94-2.06 2.06-.94-2.06-.94L8.5 2.5l-.94 2.06-2.06.94zm10 10l.94 2.06.94-2.06 2.06-.94-2.06-.94-.94-2.06-.94 2.06-2.06.94z\"/><path d=\"M17.41 7.96l-1.37-1.37c-.4-.4-.92-.59-1.43-.59-.52 0-1.04.2-1.43.59L10.3 9.45l-7.72 7.72c-.78.78-.78 2.05 0 2.83L4 21.41c.39.39.9.59 1.41.59.51 0 1.02-.2 1.41-.59l7.78-7.78 2.81-2.81c.8-.78.8-2.07 0-2.86zM5.41 20L4 18.59l7.72-7.72 1.47 1.35L5.41 20z\"/>\n",
              "  </svg>\n",
              "      </button>\n",
              "      \n",
              "  <style>\n",
              "    .colab-df-container {\n",
              "      display:flex;\n",
              "      flex-wrap:wrap;\n",
              "      gap: 12px;\n",
              "    }\n",
              "\n",
              "    .colab-df-convert {\n",
              "      background-color: #E8F0FE;\n",
              "      border: none;\n",
              "      border-radius: 50%;\n",
              "      cursor: pointer;\n",
              "      display: none;\n",
              "      fill: #1967D2;\n",
              "      height: 32px;\n",
              "      padding: 0 0 0 0;\n",
              "      width: 32px;\n",
              "    }\n",
              "\n",
              "    .colab-df-convert:hover {\n",
              "      background-color: #E2EBFA;\n",
              "      box-shadow: 0px 1px 2px rgba(60, 64, 67, 0.3), 0px 1px 3px 1px rgba(60, 64, 67, 0.15);\n",
              "      fill: #174EA6;\n",
              "    }\n",
              "\n",
              "    [theme=dark] .colab-df-convert {\n",
              "      background-color: #3B4455;\n",
              "      fill: #D2E3FC;\n",
              "    }\n",
              "\n",
              "    [theme=dark] .colab-df-convert:hover {\n",
              "      background-color: #434B5C;\n",
              "      box-shadow: 0px 1px 3px 1px rgba(0, 0, 0, 0.15);\n",
              "      filter: drop-shadow(0px 1px 2px rgba(0, 0, 0, 0.3));\n",
              "      fill: #FFFFFF;\n",
              "    }\n",
              "  </style>\n",
              "\n",
              "      <script>\n",
              "        const buttonEl =\n",
              "          document.querySelector('#df-d486d663-d688-4df3-8b6f-dd92d3d5edae button.colab-df-convert');\n",
              "        buttonEl.style.display =\n",
              "          google.colab.kernel.accessAllowed ? 'block' : 'none';\n",
              "\n",
              "        async function convertToInteractive(key) {\n",
              "          const element = document.querySelector('#df-d486d663-d688-4df3-8b6f-dd92d3d5edae');\n",
              "          const dataTable =\n",
              "            await google.colab.kernel.invokeFunction('convertToInteractive',\n",
              "                                                     [key], {});\n",
              "          if (!dataTable) return;\n",
              "\n",
              "          const docLinkHtml = 'Like what you see? Visit the ' +\n",
              "            '<a target=\"_blank\" href=https://colab.research.google.com/notebooks/data_table.ipynb>data table notebook</a>'\n",
              "            + ' to learn more about interactive tables.';\n",
              "          element.innerHTML = '';\n",
              "          dataTable['output_type'] = 'display_data';\n",
              "          await google.colab.output.renderOutput(dataTable, element);\n",
              "          const docLink = document.createElement('div');\n",
              "          docLink.innerHTML = docLinkHtml;\n",
              "          element.appendChild(docLink);\n",
              "        }\n",
              "      </script>\n",
              "    </div>\n",
              "  </div>\n",
              "  "
            ],
            "text/plain": [
              "                        classic_female  classic_male  romance_female  \\\n",
              "classic_female                     833           525             546   \n",
              "classic_male                       757           731             310   \n",
              "romance_female                     879           173           34259   \n",
              "romance_male                       174            83            3028   \n",
              "science_fiction_female             399           168            2070   \n",
              "science_fiction_male               659           479            2471   \n",
              "\n",
              "                        romance_male  science_fiction_female  \\\n",
              "classic_female                    22                     188   \n",
              "classic_male                      14                      74   \n",
              "romance_female                  3012                    2143   \n",
              "romance_male                     406                     261   \n",
              "science_fiction_female           112                    3154   \n",
              "science_fiction_male             113                    3434   \n",
              "\n",
              "                        science_fiction_male  \n",
              "classic_female                           204  \n",
              "classic_male                             289  \n",
              "romance_female                          1541  \n",
              "romance_male                             266  \n",
              "science_fiction_female                  2665  \n",
              "science_fiction_male                    9122  "
            ]
          },
          "metadata": {},
          "output_type": "display_data"
        }
      ],
      "source": [
        "# Initialize confusion matrix\n",
        "c_matrix = defaultdict(Counter)\n",
        "id2label={0:'classic_female', 1:'classic_male', 2:'romance_female', 3:'romance_male', 4:'science_fiction_female', 5:'science_fiction_male'}\n",
        "\n",
        "# Fill confusion matrix\n",
        "for t, p in zip(labels, predictions):\n",
        "    c_matrix[t][p] += 1\n",
        "\n",
        "# Display confusion matrix\n",
        "df_confu_nb = pd.DataFrame.from_dict(c_matrix, orient='index', columns=categories).reindex(index=categories)\n",
        "display(df_confu_nb)\n",
        "\n",
        "# Store results as latex file\n",
        "df_confu_nb.to_latex(buf = filePath+'confu_nb', bold_rows = True,\n",
        "                     caption='Confusion Matrix NB classifier, unbalanced dataset')"
      ]
    },
    {
      "cell_type": "code",
      "execution_count": null,
      "metadata": {
        "id": "jOTRYZb_Sga5"
      },
      "outputs": [],
      "source": [
        "# Function to calculate how often the classifier correctly predicted the gender, irrespective of book genre\n",
        "def correct_gender_pred(df_confu, test_dataframe):\n",
        "\n",
        "    #Get number of correct female and male predictions\n",
        "    sum_female_correct = df_confu.iloc[[0,2,4],[0,2,4]].values.sum()\n",
        "    sum_male_correct = df_confu.iloc[[1,3,5],[1,3,5]].values.sum()\n",
        "    length_dataset = len(test_dataframe)\n",
        "\n",
        "    # Get percentage of correctly predicted gender labels\n",
        "    percent_corr_pred = round(100*((sum_female_correct + sum_male_correct)/length_dataset),2)\n",
        "\n",
        "    # Get percentage of labels that contain \"female\"\n",
        "    percent_female = round(100*(len(test_dataframe[test_dataframe.true_label.str.contains('female')])\n",
        "                                /len(test_dataframe)), 2)\n",
        "\n",
        "    # Compare test set to predictions\n",
        "    print('The percentage of women in the dataset is: {}%.'.format(percent_female))\n",
        "    print('The percentage of correctly classified gender independent of category is: {}%.'.format(percent_corr_pred))\n",
        "    print('This gives a difference of {} percentage points.'.format(abs(round(percent_corr_pred-percent_female,2))))\n",
        "\n",
        "    return percent_corr_pred\n"
      ]
    },
    {
      "cell_type": "code",
      "execution_count": null,
      "metadata": {
        "colab": {
          "base_uri": "https://localhost:8080/"
        },
        "id": "845KD0m2Z4nL",
        "outputId": "8b243e15-8771-45a1-b19c-d8e55c4d7e9f"
      },
      "outputs": [
        {
          "name": "stdout",
          "output_type": "stream",
          "text": [
            "The percentage of women in the dataset is: 70.0%.\n",
            "The percentage of correctly classified gender independent of category is: 74.07%.\n",
            "This gives a difference of 4.07 percentage points.\n"
          ]
        }
      ],
      "source": [
        "corr_gender_nb = correct_gender_pred(df_confu_nb, test_data)"
      ]
    },
    {
      "cell_type": "markdown",
      "metadata": {
        "id": "69ZQUCugSS7q"
      },
      "source": [
        "# LSTM classifier\n",
        "\n",
        "This section implements the LSTM classifier. This includes:\n",
        "- Setting up the architecture\n",
        "- Doing hyperparameter tuning\n",
        "- Train and evaluate on test set"
      ]
    },
    {
      "cell_type": "markdown",
      "metadata": {
        "id": "tBd1Ov2FD1GJ"
      },
      "source": [
        "## Setting up LSTM architecture"
      ]
    },
    {
      "cell_type": "code",
      "execution_count": null,
      "metadata": {
        "id": "LNDXVdq_16v3"
      },
      "outputs": [],
      "source": [
        "# Define dataset class\n",
        "class LSTMDataset(Dataset):\n",
        "    def __init__(self, data, w2id):\n",
        "\n",
        "        # Encode reviews\n",
        "        self.reviews = list(data.cleaned_text.apply(lambda x: [w2id[w] if w in w2id else 1 for w in x]))\n",
        "\n",
        "        # Store labels\n",
        "        self.labels = list(data.label_id)\n",
        "\n",
        "    def __len__(self):\n",
        "        return len(self.labels)\n",
        "\n",
        "    def __getitem__(self, idx):\n",
        "        review = self.reviews[idx]\n",
        "        label = self.labels[idx]\n",
        "        return review, label"
      ]
    },
    {
      "cell_type": "code",
      "execution_count": null,
      "metadata": {
        "id": "cbOxyL_w1-jo"
      },
      "outputs": [],
      "source": [
        "# Define collate function\n",
        "def lstm_collate(batch):\n",
        "\n",
        "    # Store batch size\n",
        "    batch_size = len(batch)\n",
        "\n",
        "    # Separate reviews and labels\n",
        "    reviews = [r for r, _ in batch]\n",
        "    labels = torch.tensor([l for _, l in batch]).long() # .long means that the dtype is now int64\n",
        "\n",
        "    # Store length of longest review in batch\n",
        "    max_len = max(len(r) for r in reviews)\n",
        "\n",
        "    # Create padded review tensors\n",
        "    reviews_pad = torch.zeros((batch_size, max_len)).long()\n",
        "    for i, r in enumerate(reviews):\n",
        "        reviews_pad[i, :len(r)] = torch.tensor(r)\n",
        "\n",
        "    return reviews_pad, labels"
      ]
    },
    {
      "cell_type": "code",
      "execution_count": null,
      "metadata": {
        "id": "gSsaqnM82HgD"
      },
      "outputs": [],
      "source": [
        "# Create dictionary for word look-up\n",
        "word_counter = Counter([w for r in train_data.cleaned_text for w in r])\n",
        "w2id = {w: i + 2 for i, w in enumerate(w for w, c in word_counter.most_common())}\n",
        "\n",
        "# Create dictionary for reverse word look-up\n",
        "id2w = {i: w for w, i in w2id.items()}"
      ]
    },
    {
      "cell_type": "code",
      "execution_count": null,
      "metadata": {
        "id": "lzz_Fl002nT0"
      },
      "outputs": [],
      "source": [
        "# Create datasets\n",
        "train_dataset = LSTMDataset(train_data, w2id)\n",
        "dev_dataset = LSTMDataset(dev_data, w2id)\n",
        "test_dataset = LSTMDataset(test_data, w2id)"
      ]
    },
    {
      "cell_type": "code",
      "execution_count": null,
      "metadata": {
        "id": "syT4ikGS2uu2"
      },
      "outputs": [],
      "source": [
        "# Create matrix of pretrained embeddings\n",
        "fasttext_emb = torch.tensor(np.array([fasttext_vecs[id2w[i]] for i in range(2, len(id2w) + 2)])).float()\n",
        "fasttext_emb = torch.cat((torch.zeros((1, 300)), fasttext_emb.mean(axis=0, keepdim=True), fasttext_emb), axis=0)"
      ]
    },
    {
      "cell_type": "markdown",
      "metadata": {
        "id": "UB7FbBuH_DJC"
      },
      "source": [
        "## Hyperparameter tuning LSTM"
      ]
    },
    {
      "cell_type": "code",
      "execution_count": null,
      "metadata": {
        "id": "L7zLbLsQuRMH"
      },
      "outputs": [],
      "source": [
        "macro_f1_dict_lstm = dict()\n",
        "\n",
        "b_sizes = [16, 32, 64, 128]\n",
        "l_rate = [0.01, 0.0015, 0.05, 0.1, 0.15]\n",
        "d_rate = [0.1, 0.2]\n",
        "\n",
        "\n",
        "for ba in b_sizes:\n",
        "  for l in l_rate:\n",
        "    for d in d_rate:\n",
        "\n",
        "      # Define LSTM classifier\n",
        "      class LSTMClassifier(nn.Module):\n",
        "\n",
        "          def __init__(self, pretrained_emb, hidden_dim, output_dim):\n",
        "\n",
        "              # Define network layers\n",
        "              super(LSTMClassifier, self).__init__()\n",
        "              self.embedding = nn.Embedding.from_pretrained(pretrained_emb, padding_idx=0)\n",
        "              self.lstm = nn.LSTM(pretrained_emb.shape[1], hidden_dim, batch_first=True)\n",
        "              self.linear = nn.Linear(hidden_dim, output_dim)\n",
        "\n",
        "              # Define dropout\n",
        "              self.dropout = nn.Dropout(d)\n",
        "\n",
        "          def forward(self, reviews):\n",
        "\n",
        "              # Define flow of tensors through network\n",
        "              emb = self.embedding(reviews)\n",
        "              output, (hidden, cell) = self.lstm(self.dropout(emb))\n",
        "              return self.linear(self.dropout(output[:, -1, :]))\n",
        "\n",
        "\n",
        "      # Create data loaders\n",
        "      batch_size = ba\n",
        "\n",
        "      train_loader = DataLoader(train_dataset, batch_size=batch_size, collate_fn=lstm_collate, shuffle=True)\n",
        "      dev_loader = DataLoader(dev_dataset, batch_size=batch_size, collate_fn=lstm_collate)\n",
        "      test_loader = DataLoader(test_dataset, batch_size=batch_size, collate_fn=lstm_collate)\n",
        "\n",
        "      # Initialize model\n",
        "      model = LSTMClassifier(fasttext_emb, hidden_dim = 200, output_dim = 6)\n",
        "\n",
        "      # Define optimizer and training objective\n",
        "      optimizer = optim.Adam(model.parameters(), lr=l)\n",
        "      criterion = nn.CrossEntropyLoss()\n",
        "\n",
        "      # Define device and move model to CUDA if available\n",
        "      device = torch.device('cuda' if torch.cuda.is_available() else 'cpu')\n",
        "      model = model.to(device)\n",
        "\n",
        "      # Train model\n",
        "      for epoch in range(1, 10):\n",
        "\n",
        "          model.train()\n",
        "\n",
        "          for i, b in enumerate(train_loader):\n",
        "\n",
        "              # Perform forward pass\n",
        "              optimizer.zero_grad()\n",
        "              reviews, lbls = [t.to(device) for t in b]\n",
        "              output = model(reviews)\n",
        "              loss = criterion(output, lbls)\n",
        "\n",
        "              # Perform backpropagation and update weights\n",
        "              loss.backward()\n",
        "              optimizer.step()\n",
        "\n",
        "          # Evaluate model on development data\n",
        "          if epoch % 1 == 0:\n",
        "            model.eval()\n",
        "\n",
        "            y_true = list()\n",
        "            y_pred = list()\n",
        "\n",
        "            with torch.no_grad():\n",
        "                for b in dev_loader:\n",
        "                    reviews, lbls = [t.to(device) for t in b]\n",
        "                    output = model(reviews)\n",
        "                    max_output = output.argmax(dim=1)\n",
        "                    y_true.extend(lbls.tolist())\n",
        "                    y_pred.extend(max_output.tolist())\n",
        "\n",
        "\n",
        "            # Calculate and store macro F1 on test set\n",
        "            macro_f1_dict_lstm[str(ba)+'_'+str(l)+'_'+str(d)+'_'+str(epoch)] = f1_score(y_true, y_pred, average=\"macro\")"
      ]
    },
    {
      "cell_type": "code",
      "execution_count": null,
      "metadata": {
        "colab": {
          "base_uri": "https://localhost:8080/"
        },
        "id": "uLEJJq8t7mtt",
        "outputId": "44a6821c-abdb-4135-c60b-9fdc5539d33e"
      },
      "outputs": [
        {
          "name": "stdout",
          "output_type": "stream",
          "text": [
            "The parameters 16_0.0015_0.2_5 produce the HIGHEST macro F1 on the dev set\n"
          ]
        }
      ],
      "source": [
        "best_param_lstm = max(macro_f1_dict_lstm, key=macro_f1_dict_lstm.get)\n",
        "print(f\"The parameters {best_param_lstm} produce the HIGHEST macro F1 on the dev set\")"
      ]
    },
    {
      "cell_type": "markdown",
      "metadata": {
        "id": "5i-I6gIQ_sJT"
      },
      "source": [
        "## LSTM with optimal hyperparameter"
      ]
    },
    {
      "cell_type": "code",
      "execution_count": null,
      "metadata": {
        "id": "8O8ippGd_Dde"
      },
      "outputs": [],
      "source": [
        "# Define LSTM classifier\n",
        "class LSTMClassifier(nn.Module):\n",
        "\n",
        "    def __init__(self, pretrained_emb, hidden_dim, output_dim):\n",
        "\n",
        "        # Define network layers\n",
        "        super(LSTMClassifier, self).__init__()\n",
        "        self.embedding = nn.Embedding.from_pretrained(pretrained_emb, padding_idx=0)\n",
        "        self.lstm = nn.LSTM(pretrained_emb.shape[1], hidden_dim, batch_first=True)\n",
        "        self.linear = nn.Linear(hidden_dim, output_dim)\n",
        "\n",
        "        # Define dropout\n",
        "        self.dropout = nn.Dropout(0.2)\n",
        "\n",
        "    def forward(self, reviews):\n",
        "\n",
        "        # Define flow of tensors through network\n",
        "        emb = self.embedding(reviews)\n",
        "        output, (hidden, cell) = self.lstm(self.dropout(emb))\n",
        "        return self.linear(self.dropout(output[:, -1, :]))"
      ]
    },
    {
      "cell_type": "code",
      "execution_count": null,
      "metadata": {
        "id": "a4n1Rgev_bVb"
      },
      "outputs": [],
      "source": [
        "# Create data loaders\n",
        "batch_size = 16\n",
        "\n",
        "train_loader = DataLoader(train_dataset, batch_size=batch_size, collate_fn=lstm_collate, shuffle=True)\n",
        "dev_loader = DataLoader(dev_dataset, batch_size=batch_size, collate_fn=lstm_collate)\n",
        "test_loader = DataLoader(test_dataset, batch_size=batch_size, collate_fn=lstm_collate)"
      ]
    },
    {
      "cell_type": "code",
      "execution_count": null,
      "metadata": {
        "id": "WXzifwli2x2a"
      },
      "outputs": [],
      "source": [
        "# Initialize model\n",
        "model = LSTMClassifier(fasttext_emb, hidden_dim = 200, output_dim = 6)"
      ]
    },
    {
      "cell_type": "code",
      "execution_count": null,
      "metadata": {
        "id": "-DvG-FZi209n"
      },
      "outputs": [],
      "source": [
        "# Define optimizer and training objective\n",
        "optimizer = optim.Adam(model.parameters(), lr=0.0015)\n",
        "criterion = nn.CrossEntropyLoss()"
      ]
    },
    {
      "cell_type": "code",
      "execution_count": null,
      "metadata": {
        "id": "WvuEOWMZ24WN"
      },
      "outputs": [],
      "source": [
        "# Define device and move model to CUDA if available\n",
        "device = torch.device('cuda' if torch.cuda.is_available() else 'cpu')\n",
        "model = model.to(device)"
      ]
    },
    {
      "cell_type": "code",
      "execution_count": null,
      "metadata": {
        "colab": {
          "base_uri": "https://localhost:8080/",
          "height": 347,
          "referenced_widgets": [
            "5e417586b900477180903916c717cea5",
            "88c0e3dec95a4735a7707d917a8d03bd",
            "99b1ffabd9e545ff8348ec1b9a6fa6e2",
            "9827e4d1a0474028bd0d20a48318e294",
            "bce442fbc6ed4e778384b66cddbb12ff",
            "cdbc4ea115954ca180399b3298958bf3",
            "e50efb8eef9a4c8db7fb9d6727a20940",
            "905535fa3e964f2cab1a30189cf821e8",
            "9c901af65d404cd69c12c049160b3034",
            "c9cd4a6e5cf64e7f9ff6d7145729558b",
            "96f0fe1fc9214651924cc8b7f167b1aa",
            "0bf40995e61d4c5fa704ae43993f4eec",
            "ae16b146df01468ab60acb64acd0ba3c",
            "f81db5253eff47898f26ec248e718320",
            "f7bb26a4b6174cb0aa704b4b8e10ae54",
            "6ec2accfbe80413a8e7b8aed5fd0dcf8",
            "a6a867268e3b449b9724c327f8b19f78",
            "5ac92417016b488e838f3cfc5ffb083c",
            "c91247b43dfb44e49fc098e82be64085",
            "cc10f0bc88674375aa3db7d5c9b75de7",
            "86af5f957099484c86c312f977a3eec8",
            "daac09f117984a219315d2cb723ff2dd",
            "481693181ae445e5a0c0abb6cb6394a5",
            "8a49b2d387344b2dbf5b02b3756bfebf",
            "542d54476950416faea678fe96b364ea",
            "f7589978e8a949e0962da2ce01548a1a",
            "77539aacf85e496fafdb3751ab83502e",
            "55b68c39e10f4050ac2a2f37db7c6af4",
            "8a6405d75d974a50bd3c71a2a5d8227b",
            "e13c6324c07b48ceb8276833ebed7fa2",
            "f312232693ef462c90d6bda146d2fdee",
            "09fc017c9f5d4488bbb0e05789be8445",
            "1e7ffead92304e03a45b4a8d0e0bdf6f",
            "56e15949f4a84d7889574d62bf41cb88",
            "631c5181d713479d8616c50d18cf7e52",
            "355bd767ec4f4449a5cb3eb00e49dab3",
            "5732b7057a6d47eb89bf375ac9f7ec3d",
            "bea62bf57f7e4b3984ce3831d5952170",
            "37bf0a83a4964d80917fe4ffc40d3c24",
            "d30f0073fc5a49b6baa0bc1b5fc199a6",
            "9c972cddc3e04cd0aa97735f8f59b8c1",
            "b5566b6acb8a4037b0bce045cee99e62",
            "0b4a6374a3c743a78cf6f317e5efeb99",
            "bce77a1c632c49338b148cb8349ce4f8",
            "a481e06f37e14509b01cd78ace842fca",
            "a3aec3eed57e4b678c4704df40fe6090",
            "96c483d8608d4d1182e0f6adedd8ae02",
            "bd6ff3f453d94c229910009457d6fb93",
            "8b9a57aa32cd42fc98fcc939e9bec687",
            "15a9f60c1f114975b4e2f997f83c3fe6",
            "a8bd0cc8c80c438b9362b8d9434da070",
            "bccdcbb0e1cc4975ab612d6bb5448939",
            "0bb5117031404f2c92d6782d6f97e49c",
            "6938e32dda614e40a40990a6561697b0",
            "41a83535565a47409300cf0d26901afa"
          ]
        },
        "id": "XFX34bkDln_Y",
        "outputId": "25e54e07-12c2-41f3-8c62-90b3e5642423"
      },
      "outputs": [
        {
          "data": {
            "application/vnd.jupyter.widget-view+json": {
              "model_id": "5e417586b900477180903916c717cea5",
              "version_major": 2,
              "version_minor": 0
            },
            "text/plain": [
              "  0%|          | 0/38578 [00:00<?, ?it/s]"
            ]
          },
          "metadata": {},
          "output_type": "display_data"
        },
        {
          "name": "stdout",
          "output_type": "stream",
          "text": [
            "Development accuracy after 1 epoch(s): 0.76\n",
            "Macro F1 score after 1 epoch(s): 0.33\n"
          ]
        },
        {
          "data": {
            "application/vnd.jupyter.widget-view+json": {
              "model_id": "0bf40995e61d4c5fa704ae43993f4eec",
              "version_major": 2,
              "version_minor": 0
            },
            "text/plain": [
              "  0%|          | 0/38578 [00:00<?, ?it/s]"
            ]
          },
          "metadata": {},
          "output_type": "display_data"
        },
        {
          "name": "stdout",
          "output_type": "stream",
          "text": [
            "Development accuracy after 2 epoch(s): 0.76\n",
            "Macro F1 score after 2 epoch(s): 0.37\n"
          ]
        },
        {
          "data": {
            "application/vnd.jupyter.widget-view+json": {
              "model_id": "481693181ae445e5a0c0abb6cb6394a5",
              "version_major": 2,
              "version_minor": 0
            },
            "text/plain": [
              "  0%|          | 0/38578 [00:00<?, ?it/s]"
            ]
          },
          "metadata": {},
          "output_type": "display_data"
        },
        {
          "name": "stdout",
          "output_type": "stream",
          "text": [
            "Development accuracy after 3 epoch(s): 0.77\n",
            "Macro F1 score after 3 epoch(s): 0.41\n"
          ]
        },
        {
          "data": {
            "application/vnd.jupyter.widget-view+json": {
              "model_id": "56e15949f4a84d7889574d62bf41cb88",
              "version_major": 2,
              "version_minor": 0
            },
            "text/plain": [
              "  0%|          | 0/38578 [00:00<?, ?it/s]"
            ]
          },
          "metadata": {},
          "output_type": "display_data"
        },
        {
          "name": "stdout",
          "output_type": "stream",
          "text": [
            "Development accuracy after 4 epoch(s): 0.77\n",
            "Macro F1 score after 4 epoch(s): 0.40\n"
          ]
        },
        {
          "data": {
            "application/vnd.jupyter.widget-view+json": {
              "model_id": "a481e06f37e14509b01cd78ace842fca",
              "version_major": 2,
              "version_minor": 0
            },
            "text/plain": [
              "  0%|          | 0/38578 [00:00<?, ?it/s]"
            ]
          },
          "metadata": {},
          "output_type": "display_data"
        },
        {
          "name": "stdout",
          "output_type": "stream",
          "text": [
            "Development accuracy after 5 epoch(s): 0.77\n",
            "Macro F1 score after 5 epoch(s): 0.40\n"
          ]
        }
      ],
      "source": [
        "# Train model\n",
        "for epoch in range(1, 6):\n",
        "\n",
        "    model.train()\n",
        "\n",
        "    for i, b in enumerate(tqdm(train_loader)):\n",
        "\n",
        "        # Perform forward pass\n",
        "        optimizer.zero_grad()\n",
        "        reviews, lbls = [t.to(device) for t in b]\n",
        "        output = model(reviews)\n",
        "        loss = criterion(output, lbls)\n",
        "\n",
        "        # Perform backpropagation and update weights\n",
        "        loss.backward()\n",
        "        optimizer.step()\n",
        "\n",
        "    # Evaluate model on development data\n",
        "    # Evaluate model every fifth epoch\n",
        "    if epoch % 1 == 0:\n",
        "      model.eval()\n",
        "\n",
        "      y_true = list()\n",
        "      y_pred = list()\n",
        "\n",
        "      with torch.no_grad():\n",
        "          for b in dev_loader: #change back to dev_loader!!!\n",
        "              reviews, lbls = [t.to(device) for t in b]\n",
        "              output = model(reviews)\n",
        "              max_output = output.argmax(dim=1)\n",
        "              y_true.extend(lbls.tolist())\n",
        "              y_pred.extend(max_output.tolist())\n",
        "\n",
        "      print('Development accuracy after {} epoch(s): {:.2f}'.format(epoch, accuracy_score(y_true, y_pred)))\n",
        "      print('Macro F1 score after {} epoch(s): {:.2f}'.format(epoch, f1_score(y_true, y_pred, average=\"macro\")))"
      ]
    },
    {
      "cell_type": "code",
      "execution_count": null,
      "metadata": {
        "colab": {
          "base_uri": "https://localhost:8080/"
        },
        "id": "U49GtGTjln_c",
        "outputId": "c0a0d361-55fa-41ea-a265-632d68109a57"
      },
      "outputs": [
        {
          "name": "stdout",
          "output_type": "stream",
          "text": [
            "Test accuracy: 0.73\n"
          ]
        }
      ],
      "source": [
        "# Evaluate model on test data\n",
        "model.eval()\n",
        "\n",
        "y_true = list()\n",
        "y_pred = list()\n",
        "\n",
        "with torch.no_grad():\n",
        "    for b in test_loader:\n",
        "        reviews, lbls = [t.to(device) for t in b]\n",
        "        output = model(reviews)\n",
        "        max_output = output.argmax(dim=1)\n",
        "        y_true.extend(lbls.tolist())\n",
        "        y_pred.extend(max_output.tolist())\n",
        "\n",
        "print('Test accuracy: {:.2f}'.format(accuracy_score(y_true, y_pred)))"
      ]
    },
    {
      "cell_type": "code",
      "execution_count": null,
      "metadata": {
        "colab": {
          "base_uri": "https://localhost:8080/"
        },
        "id": "Wm5XeVRsgF_V",
        "outputId": "99b8d8e8-212b-4e1b-c2e1-0d51b5155f4d"
      },
      "outputs": [
        {
          "name": "stdout",
          "output_type": "stream",
          "text": [
            "              precision    recall  f1-score   support\n",
            "\n",
            "           0     0.3520    0.2632    0.3012      2318\n",
            "           1     0.4083    0.3940    0.4010      2175\n",
            "           2     0.7893    0.9594    0.8661     42007\n",
            "           3     0.6667    0.0005    0.0009      4218\n",
            "           4     0.5573    0.1095    0.1830      8568\n",
            "           5     0.6389    0.7452    0.6880     16278\n",
            "\n",
            "    accuracy                         0.7257     75564\n",
            "   macro avg     0.5688    0.4120    0.4067     75564\n",
            "weighted avg     0.6994    0.7257    0.6713     75564\n",
            "\n"
          ]
        }
      ],
      "source": [
        "# Get classification report\n",
        "report_lstm = classification_report(y_true, y_pred, digits = 4, output_dict=True)\n",
        "df_report_lstm = pd.DataFrame(report_lstm).transpose()\n",
        "df_report_lstm.to_latex(buf = filePath+'lstm_report', header = ['Precision', 'Recall', 'F1-score', 'Support'],\n",
        "                      bold_rows = False, float_format=\"%.4f\",\n",
        "                      caption='Classification Report LSTM classifier, unbalanced dataset', label='report_lstm')\n",
        "\n",
        "print(classification_report(y_true, y_pred, digits = 4))"
      ]
    },
    {
      "cell_type": "code",
      "execution_count": null,
      "metadata": {
        "colab": {
          "base_uri": "https://localhost:8080/",
          "height": 235
        },
        "id": "N06LcSKIutXa",
        "outputId": "c2d7041b-b29c-4c10-c54a-701e994c1aac"
      },
      "outputs": [
        {
          "data": {
            "text/html": [
              "\n",
              "  <div id=\"df-a5f3f0a2-819d-4892-b97a-98ff7d7438f2\">\n",
              "    <div class=\"colab-df-container\">\n",
              "      <div>\n",
              "<style scoped>\n",
              "    .dataframe tbody tr th:only-of-type {\n",
              "        vertical-align: middle;\n",
              "    }\n",
              "\n",
              "    .dataframe tbody tr th {\n",
              "        vertical-align: top;\n",
              "    }\n",
              "\n",
              "    .dataframe thead th {\n",
              "        text-align: right;\n",
              "    }\n",
              "</style>\n",
              "<table border=\"1\" class=\"dataframe\">\n",
              "  <thead>\n",
              "    <tr style=\"text-align: right;\">\n",
              "      <th></th>\n",
              "      <th>classic_female</th>\n",
              "      <th>classic_male</th>\n",
              "      <th>romance_female</th>\n",
              "      <th>romance_male</th>\n",
              "      <th>science_fiction_female</th>\n",
              "      <th>science_fiction_male</th>\n",
              "    </tr>\n",
              "  </thead>\n",
              "  <tbody>\n",
              "    <tr>\n",
              "      <th>classic_female</th>\n",
              "      <td>610</td>\n",
              "      <td>570</td>\n",
              "      <td>785</td>\n",
              "      <td>0.0</td>\n",
              "      <td>18</td>\n",
              "      <td>335</td>\n",
              "    </tr>\n",
              "    <tr>\n",
              "      <th>classic_male</th>\n",
              "      <td>438</td>\n",
              "      <td>857</td>\n",
              "      <td>450</td>\n",
              "      <td>1.0</td>\n",
              "      <td>2</td>\n",
              "      <td>427</td>\n",
              "    </tr>\n",
              "    <tr>\n",
              "      <th>romance_female</th>\n",
              "      <td>157</td>\n",
              "      <td>47</td>\n",
              "      <td>40302</td>\n",
              "      <td>0.0</td>\n",
              "      <td>131</td>\n",
              "      <td>1370</td>\n",
              "    </tr>\n",
              "    <tr>\n",
              "      <th>romance_male</th>\n",
              "      <td>58</td>\n",
              "      <td>32</td>\n",
              "      <td>3876</td>\n",
              "      <td>2.0</td>\n",
              "      <td>20</td>\n",
              "      <td>230</td>\n",
              "    </tr>\n",
              "    <tr>\n",
              "      <th>science_fiction_female</th>\n",
              "      <td>198</td>\n",
              "      <td>165</td>\n",
              "      <td>2774</td>\n",
              "      <td>0.0</td>\n",
              "      <td>938</td>\n",
              "      <td>4493</td>\n",
              "    </tr>\n",
              "    <tr>\n",
              "      <th>science_fiction_male</th>\n",
              "      <td>272</td>\n",
              "      <td>428</td>\n",
              "      <td>2873</td>\n",
              "      <td>0.0</td>\n",
              "      <td>574</td>\n",
              "      <td>12131</td>\n",
              "    </tr>\n",
              "  </tbody>\n",
              "</table>\n",
              "</div>\n",
              "      <button class=\"colab-df-convert\" onclick=\"convertToInteractive('df-a5f3f0a2-819d-4892-b97a-98ff7d7438f2')\"\n",
              "              title=\"Convert this dataframe to an interactive table.\"\n",
              "              style=\"display:none;\">\n",
              "        \n",
              "  <svg xmlns=\"http://www.w3.org/2000/svg\" height=\"24px\"viewBox=\"0 0 24 24\"\n",
              "       width=\"24px\">\n",
              "    <path d=\"M0 0h24v24H0V0z\" fill=\"none\"/>\n",
              "    <path d=\"M18.56 5.44l.94 2.06.94-2.06 2.06-.94-2.06-.94-.94-2.06-.94 2.06-2.06.94zm-11 1L8.5 8.5l.94-2.06 2.06-.94-2.06-.94L8.5 2.5l-.94 2.06-2.06.94zm10 10l.94 2.06.94-2.06 2.06-.94-2.06-.94-.94-2.06-.94 2.06-2.06.94z\"/><path d=\"M17.41 7.96l-1.37-1.37c-.4-.4-.92-.59-1.43-.59-.52 0-1.04.2-1.43.59L10.3 9.45l-7.72 7.72c-.78.78-.78 2.05 0 2.83L4 21.41c.39.39.9.59 1.41.59.51 0 1.02-.2 1.41-.59l7.78-7.78 2.81-2.81c.8-.78.8-2.07 0-2.86zM5.41 20L4 18.59l7.72-7.72 1.47 1.35L5.41 20z\"/>\n",
              "  </svg>\n",
              "      </button>\n",
              "      \n",
              "  <style>\n",
              "    .colab-df-container {\n",
              "      display:flex;\n",
              "      flex-wrap:wrap;\n",
              "      gap: 12px;\n",
              "    }\n",
              "\n",
              "    .colab-df-convert {\n",
              "      background-color: #E8F0FE;\n",
              "      border: none;\n",
              "      border-radius: 50%;\n",
              "      cursor: pointer;\n",
              "      display: none;\n",
              "      fill: #1967D2;\n",
              "      height: 32px;\n",
              "      padding: 0 0 0 0;\n",
              "      width: 32px;\n",
              "    }\n",
              "\n",
              "    .colab-df-convert:hover {\n",
              "      background-color: #E2EBFA;\n",
              "      box-shadow: 0px 1px 2px rgba(60, 64, 67, 0.3), 0px 1px 3px 1px rgba(60, 64, 67, 0.15);\n",
              "      fill: #174EA6;\n",
              "    }\n",
              "\n",
              "    [theme=dark] .colab-df-convert {\n",
              "      background-color: #3B4455;\n",
              "      fill: #D2E3FC;\n",
              "    }\n",
              "\n",
              "    [theme=dark] .colab-df-convert:hover {\n",
              "      background-color: #434B5C;\n",
              "      box-shadow: 0px 1px 3px 1px rgba(0, 0, 0, 0.15);\n",
              "      filter: drop-shadow(0px 1px 2px rgba(0, 0, 0, 0.3));\n",
              "      fill: #FFFFFF;\n",
              "    }\n",
              "  </style>\n",
              "\n",
              "      <script>\n",
              "        const buttonEl =\n",
              "          document.querySelector('#df-a5f3f0a2-819d-4892-b97a-98ff7d7438f2 button.colab-df-convert');\n",
              "        buttonEl.style.display =\n",
              "          google.colab.kernel.accessAllowed ? 'block' : 'none';\n",
              "\n",
              "        async function convertToInteractive(key) {\n",
              "          const element = document.querySelector('#df-a5f3f0a2-819d-4892-b97a-98ff7d7438f2');\n",
              "          const dataTable =\n",
              "            await google.colab.kernel.invokeFunction('convertToInteractive',\n",
              "                                                     [key], {});\n",
              "          if (!dataTable) return;\n",
              "\n",
              "          const docLinkHtml = 'Like what you see? Visit the ' +\n",
              "            '<a target=\"_blank\" href=https://colab.research.google.com/notebooks/data_table.ipynb>data table notebook</a>'\n",
              "            + ' to learn more about interactive tables.';\n",
              "          element.innerHTML = '';\n",
              "          dataTable['output_type'] = 'display_data';\n",
              "          await google.colab.output.renderOutput(dataTable, element);\n",
              "          const docLink = document.createElement('div');\n",
              "          docLink.innerHTML = docLinkHtml;\n",
              "          element.appendChild(docLink);\n",
              "        }\n",
              "      </script>\n",
              "    </div>\n",
              "  </div>\n",
              "  "
            ],
            "text/plain": [
              "                        classic_female  classic_male  romance_female  \\\n",
              "classic_female                     610           570             785   \n",
              "classic_male                       438           857             450   \n",
              "romance_female                     157            47           40302   \n",
              "romance_male                        58            32            3876   \n",
              "science_fiction_female             198           165            2774   \n",
              "science_fiction_male               272           428            2873   \n",
              "\n",
              "                        romance_male  science_fiction_female  \\\n",
              "classic_female                   0.0                      18   \n",
              "classic_male                     1.0                       2   \n",
              "romance_female                   0.0                     131   \n",
              "romance_male                     2.0                      20   \n",
              "science_fiction_female           0.0                     938   \n",
              "science_fiction_male             0.0                     574   \n",
              "\n",
              "                        science_fiction_male  \n",
              "classic_female                           335  \n",
              "classic_male                             427  \n",
              "romance_female                          1370  \n",
              "romance_male                             230  \n",
              "science_fiction_female                  4493  \n",
              "science_fiction_male                   12131  "
            ]
          },
          "metadata": {},
          "output_type": "display_data"
        }
      ],
      "source": [
        "# Initialize confusion matrix\n",
        "c_matrix = defaultdict(Counter)\n",
        "id2label={0:'classic_female', 1:'classic_male', 2:'romance_female', 3:'romance_male',\n",
        "          4:'science_fiction_female', 5:'science_fiction_male'}\n",
        "\n",
        "# Fill confusion matrix\n",
        "for t, p in zip(y_true, y_pred):\n",
        "    c_matrix[id2label[t]][id2label[p]] += 1\n",
        "\n",
        "# Display confusion matrix\n",
        "df_confu_lstm = pd.DataFrame.from_dict(c_matrix, orient='index',\n",
        "                                       columns=id2label.values()).reindex(index=id2label.values())\n",
        "df_confu_lstm.fillna(0, inplace=True) # NaN values occur if there was no prediction for a specific label\n",
        "display(df_confu_lstm)\n",
        "\n",
        "# Store results as latex file\n",
        "df_confu_lstm.to_latex(buf = filePath+'confu_lstm', bold_rows = True,\n",
        "                       caption='Confusion Matrix LSTM classifier, unbalanced dataset')\n"
      ]
    },
    {
      "cell_type": "code",
      "execution_count": null,
      "metadata": {
        "colab": {
          "base_uri": "https://localhost:8080/"
        },
        "id": "GbWw4mXGAdmk",
        "outputId": "46ad7730-accc-4643-d2e2-34193aa5d05a"
      },
      "outputs": [
        {
          "name": "stdout",
          "output_type": "stream",
          "text": [
            "The percentage of women in the dataset is: 70.0%.\n",
            "The percentage of correctly classified gender independent of category is: 79.43%.\n",
            "This gives a difference of 9.43 percentage points.\n"
          ]
        }
      ],
      "source": [
        "# Accuracy of correctly predicting gender irrespective of book genre\n",
        "corr_gender_lstm = correct_gender_pred(df_confu_lstm, test_data)"
      ]
    },
    {
      "cell_type": "markdown",
      "metadata": {
        "id": "h8QR0R9oxbES"
      },
      "source": [
        "# Models with balanced datasets\n",
        "This section implements the second data structure setup, i.e. obtaining three gender-specific balanced datasets and evaluate NB on them. Steps inlcude:\n",
        "- Up- and downsampling\n",
        "- Train-test split for the separate datasets\n",
        "- Adjust model architecture of NB to two label classification task\n",
        "- Training and evaluating NB classifiers on the separate datasets"
      ]
    },
    {
      "cell_type": "markdown",
      "metadata": {
        "id": "2e8rNLRfD1GM"
      },
      "source": [
        "## Balancing and splitting the dataset"
      ]
    },
    {
      "cell_type": "code",
      "execution_count": null,
      "metadata": {
        "colab": {
          "base_uri": "https://localhost:8080/"
        },
        "id": "g8TMqct8xqbQ",
        "outputId": "3f710e42-1251-42dc-e4a7-4a260411da35"
      },
      "outputs": [
        {
          "name": "stdout",
          "output_type": "stream",
          "text": [
            "Shortest dataset:  classic_male\n",
            "Longest dataset:  romance_female\n",
            "Length of one downsampled dataset: 22218\n",
            "Length of one upsampled dataset: 440179\n"
          ]
        }
      ],
      "source": [
        "# Up- and Downsampling\n",
        "\n",
        "# Splitting dataset by label\n",
        "df_classic_female= df_reviews_sentences[df_reviews_sentences['true_label']=='classic_female']\n",
        "df_classic_male= df_reviews_sentences[df_reviews_sentences['true_label']=='classic_male']\n",
        "df_romance_female= df_reviews_sentences[df_reviews_sentences['true_label']=='romance_female']\n",
        "df_romance_male = df_reviews_sentences[df_reviews_sentences['true_label']=='romance_male']\n",
        "df_science_female = df_reviews_sentences[df_reviews_sentences['true_label']=='science_fiction_female']\n",
        "df_science_male = df_reviews_sentences[df_reviews_sentences['true_label']=='science_fiction_male']\n",
        "\n",
        "dict_len_dataset = {'classic_female': len(df_classic_female), 'classic_male':len(df_classic_male),\n",
        "                    'romance_female':len(df_romance_female), 'romance_male': len(df_romance_male),\n",
        "                    'science_fiction_female': len(df_science_female), 'science_fiction_male': len(df_science_male)}\n",
        "\n",
        "length_shortest_df = dict_len_dataset[min(dict_len_dataset, key=dict_len_dataset.get)]\n",
        "length_longest_df = dict_len_dataset[max(dict_len_dataset, key=dict_len_dataset.get)]\n",
        "print('Shortest dataset: ', min(dict_len_dataset, key=dict_len_dataset.get))\n",
        "print('Longest dataset: ', max(dict_len_dataset, key=dict_len_dataset.get))\n",
        "\n",
        "# Upsampling\n",
        "df_cl_f_up = resample(df_classic_female,random_state=42,n_samples= length_longest_df ,replace=True)\n",
        "df_cl_m_up = resample(df_classic_male,random_state=42,n_samples= length_longest_df ,replace=True)\n",
        "df_r_f_up = resample(df_romance_female,random_state=42,n_samples= length_longest_df ,replace=True)\n",
        "df_r_m_up = resample(df_romance_male,random_state=42,n_samples= length_longest_df ,replace=True)\n",
        "df_s_f_up = resample(df_science_female,random_state=42,n_samples= length_longest_df ,replace=True)\n",
        "df_s_m_up = resample(df_science_male,random_state=42,n_samples= length_longest_df ,replace=True)\n",
        "\n",
        "# Downsampling\n",
        "df_cl_f_down = resample(df_classic_female,random_state=42,n_samples= length_shortest_df ,replace=True)\n",
        "df_cl_m_down = resample(df_classic_male,random_state=42,n_samples= length_shortest_df ,replace=True)\n",
        "df_r_f_down = resample(df_romance_female,random_state=42,n_samples= length_shortest_df ,replace=True)\n",
        "df_r_m_down = resample(df_romance_male,random_state=42,n_samples= length_shortest_df ,replace=True)\n",
        "df_s_f_down = resample(df_science_female,random_state=42,n_samples= length_shortest_df ,replace=True)\n",
        "df_s_m_down = resample(df_science_male,random_state=42,n_samples= length_shortest_df ,replace=True)\n",
        "\n",
        "\n",
        "print('Length of one downsampled dataset: {}'.format(len(df_cl_f_down)))\n",
        "print('Length of one upsampled dataset: {}'.format(len(df_cl_f_up)))"
      ]
    },
    {
      "cell_type": "code",
      "execution_count": null,
      "metadata": {
        "colab": {
          "base_uri": "https://localhost:8080/"
        },
        "id": "p25pYgTX4v-u",
        "outputId": "90f0acc7-df6d-454b-b7df-ed6d02c082bd"
      },
      "outputs": [
        {
          "name": "stdout",
          "output_type": "stream",
          "text": [
            "44436 44436 44436\n",
            "880358 880358 880358\n"
          ]
        }
      ],
      "source": [
        "# Generating separate genre-specific datasets for NB balanced\n",
        "\n",
        "# Downsampled\n",
        "df_classic = pd.concat([df_cl_m_down, df_cl_f_down])\n",
        "df_romance = pd.concat([df_r_f_down, df_r_m_down])\n",
        "df_science = pd.concat([df_s_f_down, df_s_m_down])\n",
        "\n",
        "print(len(df_classic), len(df_romance), len(df_science))\n",
        "\n",
        "# Upsampled\n",
        "df_classic_up = pd.concat([df_cl_m_up, df_cl_f_up])\n",
        "df_romance_up = pd.concat([df_r_f_up, df_r_m_up])\n",
        "df_science_up = pd.concat([df_s_f_up, df_s_m_up])\n",
        "\n",
        "print(len(df_classic_up), len(df_romance_up), len(df_science_up))"
      ]
    },
    {
      "cell_type": "code",
      "execution_count": null,
      "metadata": {
        "id": "aQZtEe1oWDKD"
      },
      "outputs": [],
      "source": [
        "# Split data into training, development, and test sets for two label dataset\n",
        "\n",
        "# Upsampled\n",
        "train_classic_up, dev_test_classic_up = train_test_split(df_classic_up, test_size=0.2,\n",
        "                                                         stratify=df_classic_up['true_label'], random_state=0)\n",
        "dev_classic_up, test_classic_up = train_test_split(dev_test_classic_up, test_size=0.5,\n",
        "                                                   stratify=dev_test_classic_up['true_label'], random_state=0)\n",
        "\n",
        "train_romance_up, dev_test_romance_up = train_test_split(df_romance_up, test_size=0.2,\n",
        "                                                         stratify=df_romance_up['true_label'], random_state=0)\n",
        "dev_romance_up, test_romance_up = train_test_split(dev_test_romance_up, test_size=0.5,\n",
        "                                                   stratify=dev_test_romance_up['true_label'], random_state=0)\n",
        "\n",
        "train_science_up, dev_test_science_up = train_test_split(df_science_up, test_size=0.2,\n",
        "                                                         stratify=df_science_up['true_label'], random_state=0)\n",
        "dev_science_up, test_science_up = train_test_split(dev_test_science_up, test_size=0.5,\n",
        "                                                   stratify=dev_test_science_up['true_label'], random_state=0)\n",
        "\n",
        "# Downsampled\n",
        "train_classic, dev_test_classic = train_test_split(df_classic, test_size=0.2,\n",
        "                                                   stratify=df_classic['true_label'], random_state=0)\n",
        "dev_classic, test_classic = train_test_split(dev_test_classic, test_size=0.5,\n",
        "                                             stratify=dev_test_classic['true_label'], random_state=0)\n",
        "\n",
        "train_romance, dev_test_romance = train_test_split(df_romance, test_size=0.2,\n",
        "                                                   stratify=df_romance['true_label'], random_state=0)\n",
        "dev_romance, test_romance = train_test_split(dev_test_romance, test_size=0.5,\n",
        "                                             stratify=dev_test_romance['true_label'], random_state=0)\n",
        "\n",
        "train_science, dev_test_science = train_test_split(df_science, test_size=0.2,\n",
        "                                                   stratify=df_science['true_label'], random_state=0)\n",
        "dev_science, test_science = train_test_split(dev_test_science, test_size=0.5,\n",
        "                                             stratify=dev_test_science['true_label'], random_state=0)"
      ]
    },
    {
      "cell_type": "code",
      "execution_count": null,
      "metadata": {
        "colab": {
          "base_uri": "https://localhost:8080/"
        },
        "id": "Fiwc3SGF8kD3",
        "outputId": "dde48193-d467-49fb-8776-b5cb01d1ff2a"
      },
      "outputs": [
        {
          "name": "stdout",
          "output_type": "stream",
          "text": [
            "704286 704286 704286\n"
          ]
        }
      ],
      "source": [
        "print(len(train_classic_up), len(train_romance_up), len(train_science_up))"
      ]
    },
    {
      "cell_type": "code",
      "execution_count": null,
      "metadata": {
        "colab": {
          "base_uri": "https://localhost:8080/"
        },
        "id": "x9dEI_4NtO7w",
        "outputId": "5f4b227e-dde1-4044-9b9c-4aefb9a18158"
      },
      "outputs": [
        {
          "name": "stdout",
          "output_type": "stream",
          "text": [
            "88036 88036 88036\n"
          ]
        }
      ],
      "source": [
        "print(len(test_classic_up), len(test_romance_up), len(test_science_up))"
      ]
    },
    {
      "cell_type": "code",
      "execution_count": null,
      "metadata": {
        "colab": {
          "base_uri": "https://localhost:8080/"
        },
        "id": "HBV-SJK9tgJF",
        "outputId": "7eeae702-636e-42b6-cd55-5cc57e8c14a7"
      },
      "outputs": [
        {
          "name": "stdout",
          "output_type": "stream",
          "text": [
            "88036 88036 88036\n"
          ]
        }
      ],
      "source": [
        "print(len(dev_classic_up), len(dev_romance_up), len(dev_science_up))"
      ]
    },
    {
      "cell_type": "code",
      "execution_count": null,
      "metadata": {
        "colab": {
          "base_uri": "https://localhost:8080/"
        },
        "id": "Dz1LIoestD5G",
        "outputId": "d4f8fc96-0c04-42af-9611-9e7e4f4b5b54"
      },
      "outputs": [
        {
          "name": "stdout",
          "output_type": "stream",
          "text": [
            "35548 35548 35548\n"
          ]
        }
      ],
      "source": [
        "print(len(train_classic), len(train_romance), len(train_science))"
      ]
    },
    {
      "cell_type": "markdown",
      "metadata": {
        "id": "HUbxDiyG6lgO"
      },
      "source": [
        "## Adapting NB architecture to two-label datasets\n"
      ]
    },
    {
      "cell_type": "code",
      "execution_count": null,
      "metadata": {
        "id": "puSIRg6S63wx"
      },
      "outputs": [],
      "source": [
        "def get_nb_predictions_bi(cat_red, test_data, probabilities, prob_class):\n",
        "\n",
        "    # Initialize lists for storing ground truth labels and predictions\n",
        "    labels = list()\n",
        "    predictions = list()\n",
        "\n",
        "    # Loop over categories\n",
        "    for c_i in cat_red:\n",
        "\n",
        "        # Loop over test reviews\n",
        "        for rev in test_data[test_data.true_label==c_i].without_stops:\n",
        "\n",
        "            # Store ground truth\n",
        "            labels.append(c_i)\n",
        "\n",
        "            # For each review, calculate scores for each of the categories\n",
        "            scores = {cat_red[0]: 0, cat_red[1]: 0}\n",
        "            for word in rev:\n",
        "                if word in probabilities[c_i]:\n",
        "                    scores[cat_red[0]] += np.log(probabilities[cat_red[0]][word])\n",
        "                    scores[cat_red[1]] += np.log(probabilities[cat_red[1]][word])\n",
        "\n",
        "            # Class imbalance\n",
        "            scores[cat_red[0]] += scores[cat_red[0]] + np.log(prob_class[cat_red[0]])\n",
        "            scores[cat_red[1]] += scores[cat_red[1]] + np.log(prob_class[cat_red[1]])\n",
        "\n",
        "            # Use highest score for prediction\n",
        "            predictions.append(max(scores.items(), key=operator.itemgetter(1))[0])\n",
        "\n",
        "    return labels, predictions"
      ]
    },
    {
      "cell_type": "code",
      "execution_count": null,
      "metadata": {
        "id": "q1ffKKZ87Flh"
      },
      "outputs": [],
      "source": [
        "# Define function to obtain vocabulary and  mutual info for a specific training dataset\n",
        "\n",
        "def vocab_mutual_info_bi(train_df, cat_red):\n",
        "\n",
        "    vocab_unigrams = defaultdict(Counter)\n",
        "\n",
        "    # Create vocabulary\n",
        "    for i,j in zip(train_df.without_stops, train_df.true_label):\n",
        "        vocab_unigrams[j].update(i)\n",
        "\n",
        "    # get list of unique unigrams\n",
        "    set_list = list()\n",
        "\n",
        "    for cat in cat_red:\n",
        "        all_keys = set(vocab_unigrams[cat])\n",
        "        set_list.append(all_keys)\n",
        "\n",
        "    unique_words_unigrams = set().union(*set_list)\n",
        "\n",
        "\n",
        "    # Mutual information\n",
        "\n",
        "    # Create dictionary which counts the number of reviews a word appears in\n",
        "\n",
        "    n_reviews = defaultdict(Counter)\n",
        "\n",
        "    for i,j in zip(train_df.without_stops, train_df.true_label):\n",
        "        n_reviews[j].update(set(i))\n",
        "\n",
        "    n_total = dict() # number of reviews per category\n",
        "\n",
        "    for cat in cat_red:\n",
        "        n_total[cat]= len(train_df[train_df.true_label == cat])\n",
        "\n",
        "\n",
        "    def mutual_info(word, n_reviews, n_total):\n",
        "\n",
        "        # Create a matrix: for each class (row), how many tweets did it appear in (col1) and not appear in (col2)\n",
        "        count_matrix = np.array([[n_reviews[cat_red[0]][word], n_total[cat_red[0]] - n_reviews[cat_red[0]][word]],\n",
        "                                 [n_reviews[cat_red[1]][word], n_total[cat_red[1]] - n_reviews[cat_red[1]][word]]])\n",
        "\n",
        "        # Store the sum of that matrix --> total number of tweets in the training set\n",
        "        N = count_matrix.sum()\n",
        "\n",
        "        # Initialise the value we will return\n",
        "        out = 0\n",
        "\n",
        "        # Iterate through columns and rows\n",
        "        for col in range(2):\n",
        "            for row in range(2):\n",
        "\n",
        "                if count_matrix[row, col]!= 0:\n",
        "                    out += count_matrix[row, col] * np.log2((N*count_matrix[row, col]) / (count_matrix[row, :].sum() * count_matrix[:, col].sum()))\n",
        "\n",
        "                # Mutual information set to zero if word not in class\n",
        "                else:\n",
        "                    out =0\n",
        "\n",
        "        return (1/N) * out\n",
        "\n",
        "    mutual_info_values = sorted([(mutual_info(w, n_reviews, n_total), w) for w in unique_words_unigrams], reverse=True)\n",
        "\n",
        "    # Class probabilities (not necessary)\n",
        "    prob_class = dict()\n",
        "    for cat in cat_red:\n",
        "        prob_class[cat] = len(train_df[train_df.true_label==cat])/len(train_df)\n",
        "\n",
        "    return mutual_info_values, vocab_unigrams, prob_class, unique_words_unigrams"
      ]
    },
    {
      "cell_type": "code",
      "execution_count": null,
      "metadata": {
        "id": "KmxBuX5O7cEi"
      },
      "outputs": [],
      "source": [
        "# Define function for hyperparamter tuning\n",
        "\n",
        "top_n_parameter = [1000, 2000, 5000, 10000, 20000, 25000, 50000]\n",
        "\n",
        "alpha_parameter = [0.0000000001]+[x * 0.05 for x in range(1, 21)]\n",
        "\n",
        "def hyperparameter_tuning_bi_nb(unique_words_unigrams, dev_data, vocab, cat_red, mutual_info_values, prob_class):\n",
        "\n",
        "    macro_f1_dict = dict()\n",
        "\n",
        "    for n in top_n_parameter:\n",
        "        for a in alpha_parameter:\n",
        "\n",
        "            # Train\n",
        "            probs = naive_bayes(unique_words_unigrams, vocab, cat_red, a, n, mutual_info_values)\n",
        "\n",
        "            # Get predictions on dev set\n",
        "            labels, predictions = get_nb_predictions_bi(cat_red, dev_data, probs, prob_class)\n",
        "\n",
        "            # Calculate and store macro F1 on test set\n",
        "            macro_f1_dict[str(n)+'_'+str(a)] = f1_score(labels, predictions, average=\"macro\")\n",
        "\n",
        "    best_param, worst_param = max(macro_f1_dict, key=macro_f1_dict.get), min(macro_f1_dict, key=macro_f1_dict.get)\n",
        "    best_f1, worst_f1 = max(macro_f1_dict.values()), min(macro_f1_dict.values())\n",
        "\n",
        "    print(f\"\\nSmoothing parameter {best_param} produces the HIGHEST macro F1 on the dev set: {best_f1}\")\n",
        "    print(f\"Smoothing parameter {worst_param} produces the LOWEST macro F1 on the dev set: {worst_f1}\")\n",
        "    print(f\"The difference between the highest and lowest macro F1 is {best_f1-worst_f1}.\")\n",
        "    return best_param"
      ]
    },
    {
      "cell_type": "code",
      "execution_count": null,
      "metadata": {
        "id": "tdfXtS3d-STA"
      },
      "outputs": [],
      "source": [
        "# Define function to evaluate NB on test set\n",
        "def eval_nb_bi(best_n, best_a, unique_words_unigrams, vocab_unigrams, cat_red, mutual_info_values,test_data, prob_class):\n",
        "\n",
        "    # Hyperparameter\n",
        "    top_n = best_n\n",
        "    smoothing_alpha = best_a\n",
        "\n",
        "    # Train\n",
        "    probs = naive_bayes(unique_words_unigrams, vocab_unigrams, cat_red, smoothing_alpha, top_n,  mutual_info_values)\n",
        "\n",
        "    # Get predictions on test set\n",
        "    labels, predictions = get_nb_predictions_bi(cat_red, test_data, probs, prob_class)\n",
        "\n",
        "    return labels,predictions"
      ]
    },
    {
      "cell_type": "code",
      "execution_count": null,
      "metadata": {
        "id": "SxNQ9XchAwti"
      },
      "outputs": [],
      "source": [
        "# Define function to obtain confusion matrix\n",
        "def confu_matrix(cat_red, y_true, y_pred):\n",
        "    # Initialize confusion matrix\n",
        "    c_matrix = defaultdict(Counter)\n",
        "\n",
        "    # Fill confusion matrix\n",
        "    for t, p in zip(y_true, y_pred):\n",
        "        c_matrix[t][p] += 1\n",
        "\n",
        "    # Create confusion matrix dataframe\n",
        "    confu_df = pd.DataFrame.from_dict(c_matrix, orient='index', columns=cat_red).reindex(index=cat_red)\n",
        "\n",
        "    return confu_df"
      ]
    },
    {
      "cell_type": "markdown",
      "metadata": {
        "id": "K3R4p_b9eUkD"
      },
      "source": [
        "## Train and evaluate NB on upsampled dataset"
      ]
    },
    {
      "cell_type": "code",
      "execution_count": null,
      "metadata": {
        "colab": {
          "base_uri": "https://localhost:8080/"
        },
        "id": "rnLq2DJzeZCM",
        "outputId": "e74d4280-2d0c-4280-a5eb-66cd15be7715"
      },
      "outputs": [
        {
          "name": "stdout",
          "output_type": "stream",
          "text": [
            "\n",
            "Smoothing parameter 20000_1e-10 produces the HIGHEST macro F1 on the dev set: 0.6812041500359263\n",
            "Smoothing parameter 1000_1e-10 produces the LOWEST macro F1 on the dev set: 0.6308675868549272\n",
            "The difference between the highest and lowest macro F1 is 0.050336563180999105.\n",
            "Best hyperparameter classic reviews: 20000_1e-10\n",
            "\n",
            "Smoothing parameter 20000_1e-10 produces the HIGHEST macro F1 on the dev set: 0.6071881531110748\n",
            "Smoothing parameter 1000_1e-10 produces the LOWEST macro F1 on the dev set: 0.5784660123164005\n",
            "The difference between the highest and lowest macro F1 is 0.028722140794674278.\n",
            "Best hyperparameter romance reviews: 20000_1e-10\n",
            "\n",
            "Smoothing parameter 20000_1e-10 produces the HIGHEST macro F1 on the dev set: 0.6596978438238084\n",
            "Smoothing parameter 1000_1e-10 produces the LOWEST macro F1 on the dev set: 0.6459051621921943\n",
            "The difference between the highest and lowest macro F1 is 0.013792681631614068.\n",
            "Best hyperparameter science fiction reviews: 20000_1e-10\n"
          ]
        }
      ],
      "source": [
        "# Get vocabulary, MI for each genre and perform hyperparameter tuning\n",
        "\n",
        "# classic books\n",
        "cat_red = ['classic_female', 'classic_male']\n",
        "mutual_info_class, unigrams_class, prob_class_class, unique_class = vocab_mutual_info_bi(train_classic_up, cat_red)\n",
        "hyperpara_class = hyperparameter_tuning_bi_nb(unique_class,dev_classic_up, unigrams_class,\n",
        "                                              cat_red, mutual_info_class, prob_class_class)\n",
        "print('Best hyperparameter classic reviews: {}'.format(hyperpara_class))\n",
        "\n",
        "# romance books\n",
        "cat_red = ['romance_female', 'romance_male']\n",
        "mutual_info_romance, unigrams_romance, prob_class_romance, unique_romance = vocab_mutual_info_bi(train_romance_up, cat_red)\n",
        "hyperpara_romance = hyperparameter_tuning_bi_nb(unique_romance, dev_romance_up, unigrams_romance,\n",
        "                                                cat_red, mutual_info_romance, prob_class_romance)\n",
        "print('Best hyperparameter romance reviews: {}'.format(hyperpara_romance))\n",
        "\n",
        "# science fiction books\n",
        "cat_red = ['science_fiction_female', 'science_fiction_male']\n",
        "mutual_info_science, unigrams_science, prob_class_science, unique_science = vocab_mutual_info_bi(train_science_up, cat_red)\n",
        "hyperpara_science = hyperparameter_tuning_bi_nb(unique_science, dev_science_up, unigrams_science,\n",
        "                                                cat_red, mutual_info_science, prob_class_science)\n",
        "print('Best hyperparameter science fiction reviews: {}'.format(hyperpara_science))"
      ]
    },
    {
      "cell_type": "code",
      "execution_count": null,
      "metadata": {
        "colab": {
          "base_uri": "https://localhost:8080/",
          "height": 911
        },
        "id": "2E93m2rlLvmW",
        "outputId": "894caf6e-05b8-4dde-e3d4-6ebaa40baebf"
      },
      "outputs": [
        {
          "name": "stdout",
          "output_type": "stream",
          "text": [
            "CLASSIFICATION RESULTS FOR CLASSIC REVIEWS DATASET: \n",
            "                precision    recall  f1-score   support\n",
            "\n",
            "classic_female     0.6440    0.8563    0.7351     44018\n",
            "  classic_male     0.7857    0.5267    0.6306     44018\n",
            "\n",
            "      accuracy                         0.6915     88036\n",
            "     macro avg     0.7148    0.6915    0.6829     88036\n",
            "  weighted avg     0.7148    0.6915    0.6829     88036\n",
            "\n",
            "\n",
            "Confusion matrix:\n"
          ]
        },
        {
          "data": {
            "text/html": [
              "\n",
              "  <div id=\"df-887ab69b-09a0-429e-bc07-5c712463dea7\">\n",
              "    <div class=\"colab-df-container\">\n",
              "      <div>\n",
              "<style scoped>\n",
              "    .dataframe tbody tr th:only-of-type {\n",
              "        vertical-align: middle;\n",
              "    }\n",
              "\n",
              "    .dataframe tbody tr th {\n",
              "        vertical-align: top;\n",
              "    }\n",
              "\n",
              "    .dataframe thead th {\n",
              "        text-align: right;\n",
              "    }\n",
              "</style>\n",
              "<table border=\"1\" class=\"dataframe\">\n",
              "  <thead>\n",
              "    <tr style=\"text-align: right;\">\n",
              "      <th></th>\n",
              "      <th>classic_female</th>\n",
              "      <th>classic_male</th>\n",
              "    </tr>\n",
              "  </thead>\n",
              "  <tbody>\n",
              "    <tr>\n",
              "      <th>classic_female</th>\n",
              "      <td>37693</td>\n",
              "      <td>6325</td>\n",
              "    </tr>\n",
              "    <tr>\n",
              "      <th>classic_male</th>\n",
              "      <td>20835</td>\n",
              "      <td>23183</td>\n",
              "    </tr>\n",
              "  </tbody>\n",
              "</table>\n",
              "</div>\n",
              "      <button class=\"colab-df-convert\" onclick=\"convertToInteractive('df-887ab69b-09a0-429e-bc07-5c712463dea7')\"\n",
              "              title=\"Convert this dataframe to an interactive table.\"\n",
              "              style=\"display:none;\">\n",
              "        \n",
              "  <svg xmlns=\"http://www.w3.org/2000/svg\" height=\"24px\"viewBox=\"0 0 24 24\"\n",
              "       width=\"24px\">\n",
              "    <path d=\"M0 0h24v24H0V0z\" fill=\"none\"/>\n",
              "    <path d=\"M18.56 5.44l.94 2.06.94-2.06 2.06-.94-2.06-.94-.94-2.06-.94 2.06-2.06.94zm-11 1L8.5 8.5l.94-2.06 2.06-.94-2.06-.94L8.5 2.5l-.94 2.06-2.06.94zm10 10l.94 2.06.94-2.06 2.06-.94-2.06-.94-.94-2.06-.94 2.06-2.06.94z\"/><path d=\"M17.41 7.96l-1.37-1.37c-.4-.4-.92-.59-1.43-.59-.52 0-1.04.2-1.43.59L10.3 9.45l-7.72 7.72c-.78.78-.78 2.05 0 2.83L4 21.41c.39.39.9.59 1.41.59.51 0 1.02-.2 1.41-.59l7.78-7.78 2.81-2.81c.8-.78.8-2.07 0-2.86zM5.41 20L4 18.59l7.72-7.72 1.47 1.35L5.41 20z\"/>\n",
              "  </svg>\n",
              "      </button>\n",
              "      \n",
              "  <style>\n",
              "    .colab-df-container {\n",
              "      display:flex;\n",
              "      flex-wrap:wrap;\n",
              "      gap: 12px;\n",
              "    }\n",
              "\n",
              "    .colab-df-convert {\n",
              "      background-color: #E8F0FE;\n",
              "      border: none;\n",
              "      border-radius: 50%;\n",
              "      cursor: pointer;\n",
              "      display: none;\n",
              "      fill: #1967D2;\n",
              "      height: 32px;\n",
              "      padding: 0 0 0 0;\n",
              "      width: 32px;\n",
              "    }\n",
              "\n",
              "    .colab-df-convert:hover {\n",
              "      background-color: #E2EBFA;\n",
              "      box-shadow: 0px 1px 2px rgba(60, 64, 67, 0.3), 0px 1px 3px 1px rgba(60, 64, 67, 0.15);\n",
              "      fill: #174EA6;\n",
              "    }\n",
              "\n",
              "    [theme=dark] .colab-df-convert {\n",
              "      background-color: #3B4455;\n",
              "      fill: #D2E3FC;\n",
              "    }\n",
              "\n",
              "    [theme=dark] .colab-df-convert:hover {\n",
              "      background-color: #434B5C;\n",
              "      box-shadow: 0px 1px 3px 1px rgba(0, 0, 0, 0.15);\n",
              "      filter: drop-shadow(0px 1px 2px rgba(0, 0, 0, 0.3));\n",
              "      fill: #FFFFFF;\n",
              "    }\n",
              "  </style>\n",
              "\n",
              "      <script>\n",
              "        const buttonEl =\n",
              "          document.querySelector('#df-887ab69b-09a0-429e-bc07-5c712463dea7 button.colab-df-convert');\n",
              "        buttonEl.style.display =\n",
              "          google.colab.kernel.accessAllowed ? 'block' : 'none';\n",
              "\n",
              "        async function convertToInteractive(key) {\n",
              "          const element = document.querySelector('#df-887ab69b-09a0-429e-bc07-5c712463dea7');\n",
              "          const dataTable =\n",
              "            await google.colab.kernel.invokeFunction('convertToInteractive',\n",
              "                                                     [key], {});\n",
              "          if (!dataTable) return;\n",
              "\n",
              "          const docLinkHtml = 'Like what you see? Visit the ' +\n",
              "            '<a target=\"_blank\" href=https://colab.research.google.com/notebooks/data_table.ipynb>data table notebook</a>'\n",
              "            + ' to learn more about interactive tables.';\n",
              "          element.innerHTML = '';\n",
              "          dataTable['output_type'] = 'display_data';\n",
              "          await google.colab.output.renderOutput(dataTable, element);\n",
              "          const docLink = document.createElement('div');\n",
              "          docLink.innerHTML = docLinkHtml;\n",
              "          element.appendChild(docLink);\n",
              "        }\n",
              "      </script>\n",
              "    </div>\n",
              "  </div>\n",
              "  "
            ],
            "text/plain": [
              "                classic_female  classic_male\n",
              "classic_female           37693          6325\n",
              "classic_male             20835         23183"
            ]
          },
          "metadata": {},
          "output_type": "display_data"
        },
        {
          "name": "stdout",
          "output_type": "stream",
          "text": [
            "CLASSIFICATION RESULTS FOR ROMANCE REVIEWS DATASET: \n",
            "                precision    recall  f1-score   support\n",
            "\n",
            "romance_female     0.6044    0.6221    0.6131     44018\n",
            "  romance_male     0.6107    0.5928    0.6016     44018\n",
            "\n",
            "      accuracy                         0.6075     88036\n",
            "     macro avg     0.6076    0.6075    0.6074     88036\n",
            "  weighted avg     0.6076    0.6075    0.6074     88036\n",
            "\n",
            "\n",
            "Confusion matrix:\n"
          ]
        },
        {
          "data": {
            "text/html": [
              "\n",
              "  <div id=\"df-8146e33f-d566-4096-8b93-1a3ea50872ad\">\n",
              "    <div class=\"colab-df-container\">\n",
              "      <div>\n",
              "<style scoped>\n",
              "    .dataframe tbody tr th:only-of-type {\n",
              "        vertical-align: middle;\n",
              "    }\n",
              "\n",
              "    .dataframe tbody tr th {\n",
              "        vertical-align: top;\n",
              "    }\n",
              "\n",
              "    .dataframe thead th {\n",
              "        text-align: right;\n",
              "    }\n",
              "</style>\n",
              "<table border=\"1\" class=\"dataframe\">\n",
              "  <thead>\n",
              "    <tr style=\"text-align: right;\">\n",
              "      <th></th>\n",
              "      <th>romance_female</th>\n",
              "      <th>romance_male</th>\n",
              "    </tr>\n",
              "  </thead>\n",
              "  <tbody>\n",
              "    <tr>\n",
              "      <th>romance_female</th>\n",
              "      <td>27385</td>\n",
              "      <td>16633</td>\n",
              "    </tr>\n",
              "    <tr>\n",
              "      <th>romance_male</th>\n",
              "      <td>17924</td>\n",
              "      <td>26094</td>\n",
              "    </tr>\n",
              "  </tbody>\n",
              "</table>\n",
              "</div>\n",
              "      <button class=\"colab-df-convert\" onclick=\"convertToInteractive('df-8146e33f-d566-4096-8b93-1a3ea50872ad')\"\n",
              "              title=\"Convert this dataframe to an interactive table.\"\n",
              "              style=\"display:none;\">\n",
              "        \n",
              "  <svg xmlns=\"http://www.w3.org/2000/svg\" height=\"24px\"viewBox=\"0 0 24 24\"\n",
              "       width=\"24px\">\n",
              "    <path d=\"M0 0h24v24H0V0z\" fill=\"none\"/>\n",
              "    <path d=\"M18.56 5.44l.94 2.06.94-2.06 2.06-.94-2.06-.94-.94-2.06-.94 2.06-2.06.94zm-11 1L8.5 8.5l.94-2.06 2.06-.94-2.06-.94L8.5 2.5l-.94 2.06-2.06.94zm10 10l.94 2.06.94-2.06 2.06-.94-2.06-.94-.94-2.06-.94 2.06-2.06.94z\"/><path d=\"M17.41 7.96l-1.37-1.37c-.4-.4-.92-.59-1.43-.59-.52 0-1.04.2-1.43.59L10.3 9.45l-7.72 7.72c-.78.78-.78 2.05 0 2.83L4 21.41c.39.39.9.59 1.41.59.51 0 1.02-.2 1.41-.59l7.78-7.78 2.81-2.81c.8-.78.8-2.07 0-2.86zM5.41 20L4 18.59l7.72-7.72 1.47 1.35L5.41 20z\"/>\n",
              "  </svg>\n",
              "      </button>\n",
              "      \n",
              "  <style>\n",
              "    .colab-df-container {\n",
              "      display:flex;\n",
              "      flex-wrap:wrap;\n",
              "      gap: 12px;\n",
              "    }\n",
              "\n",
              "    .colab-df-convert {\n",
              "      background-color: #E8F0FE;\n",
              "      border: none;\n",
              "      border-radius: 50%;\n",
              "      cursor: pointer;\n",
              "      display: none;\n",
              "      fill: #1967D2;\n",
              "      height: 32px;\n",
              "      padding: 0 0 0 0;\n",
              "      width: 32px;\n",
              "    }\n",
              "\n",
              "    .colab-df-convert:hover {\n",
              "      background-color: #E2EBFA;\n",
              "      box-shadow: 0px 1px 2px rgba(60, 64, 67, 0.3), 0px 1px 3px 1px rgba(60, 64, 67, 0.15);\n",
              "      fill: #174EA6;\n",
              "    }\n",
              "\n",
              "    [theme=dark] .colab-df-convert {\n",
              "      background-color: #3B4455;\n",
              "      fill: #D2E3FC;\n",
              "    }\n",
              "\n",
              "    [theme=dark] .colab-df-convert:hover {\n",
              "      background-color: #434B5C;\n",
              "      box-shadow: 0px 1px 3px 1px rgba(0, 0, 0, 0.15);\n",
              "      filter: drop-shadow(0px 1px 2px rgba(0, 0, 0, 0.3));\n",
              "      fill: #FFFFFF;\n",
              "    }\n",
              "  </style>\n",
              "\n",
              "      <script>\n",
              "        const buttonEl =\n",
              "          document.querySelector('#df-8146e33f-d566-4096-8b93-1a3ea50872ad button.colab-df-convert');\n",
              "        buttonEl.style.display =\n",
              "          google.colab.kernel.accessAllowed ? 'block' : 'none';\n",
              "\n",
              "        async function convertToInteractive(key) {\n",
              "          const element = document.querySelector('#df-8146e33f-d566-4096-8b93-1a3ea50872ad');\n",
              "          const dataTable =\n",
              "            await google.colab.kernel.invokeFunction('convertToInteractive',\n",
              "                                                     [key], {});\n",
              "          if (!dataTable) return;\n",
              "\n",
              "          const docLinkHtml = 'Like what you see? Visit the ' +\n",
              "            '<a target=\"_blank\" href=https://colab.research.google.com/notebooks/data_table.ipynb>data table notebook</a>'\n",
              "            + ' to learn more about interactive tables.';\n",
              "          element.innerHTML = '';\n",
              "          dataTable['output_type'] = 'display_data';\n",
              "          await google.colab.output.renderOutput(dataTable, element);\n",
              "          const docLink = document.createElement('div');\n",
              "          docLink.innerHTML = docLinkHtml;\n",
              "          element.appendChild(docLink);\n",
              "        }\n",
              "      </script>\n",
              "    </div>\n",
              "  </div>\n",
              "  "
            ],
            "text/plain": [
              "                romance_female  romance_male\n",
              "romance_female           27385         16633\n",
              "romance_male             17924         26094"
            ]
          },
          "metadata": {},
          "output_type": "display_data"
        },
        {
          "name": "stdout",
          "output_type": "stream",
          "text": [
            "CLASSIFICATION RESULTS FOR SCIENCE FICTION REVIEWS DATASET: \n",
            "                        precision    recall  f1-score   support\n",
            "\n",
            "science_fiction_female     0.6349    0.7707    0.6963     44018\n",
            "  science_fiction_male     0.7083    0.5569    0.6235     44018\n",
            "\n",
            "              accuracy                         0.6638     88036\n",
            "             macro avg     0.6716    0.6638    0.6599     88036\n",
            "          weighted avg     0.6716    0.6638    0.6599     88036\n",
            "\n",
            "\n",
            "Confusion matrix:\n"
          ]
        },
        {
          "data": {
            "text/html": [
              "\n",
              "  <div id=\"df-0615bbab-7e56-40bc-927f-833d232c395e\">\n",
              "    <div class=\"colab-df-container\">\n",
              "      <div>\n",
              "<style scoped>\n",
              "    .dataframe tbody tr th:only-of-type {\n",
              "        vertical-align: middle;\n",
              "    }\n",
              "\n",
              "    .dataframe tbody tr th {\n",
              "        vertical-align: top;\n",
              "    }\n",
              "\n",
              "    .dataframe thead th {\n",
              "        text-align: right;\n",
              "    }\n",
              "</style>\n",
              "<table border=\"1\" class=\"dataframe\">\n",
              "  <thead>\n",
              "    <tr style=\"text-align: right;\">\n",
              "      <th></th>\n",
              "      <th>science_fiction_female</th>\n",
              "      <th>science_fiction_male</th>\n",
              "    </tr>\n",
              "  </thead>\n",
              "  <tbody>\n",
              "    <tr>\n",
              "      <th>science_fiction_female</th>\n",
              "      <td>33924</td>\n",
              "      <td>10094</td>\n",
              "    </tr>\n",
              "    <tr>\n",
              "      <th>science_fiction_male</th>\n",
              "      <td>19505</td>\n",
              "      <td>24513</td>\n",
              "    </tr>\n",
              "  </tbody>\n",
              "</table>\n",
              "</div>\n",
              "      <button class=\"colab-df-convert\" onclick=\"convertToInteractive('df-0615bbab-7e56-40bc-927f-833d232c395e')\"\n",
              "              title=\"Convert this dataframe to an interactive table.\"\n",
              "              style=\"display:none;\">\n",
              "        \n",
              "  <svg xmlns=\"http://www.w3.org/2000/svg\" height=\"24px\"viewBox=\"0 0 24 24\"\n",
              "       width=\"24px\">\n",
              "    <path d=\"M0 0h24v24H0V0z\" fill=\"none\"/>\n",
              "    <path d=\"M18.56 5.44l.94 2.06.94-2.06 2.06-.94-2.06-.94-.94-2.06-.94 2.06-2.06.94zm-11 1L8.5 8.5l.94-2.06 2.06-.94-2.06-.94L8.5 2.5l-.94 2.06-2.06.94zm10 10l.94 2.06.94-2.06 2.06-.94-2.06-.94-.94-2.06-.94 2.06-2.06.94z\"/><path d=\"M17.41 7.96l-1.37-1.37c-.4-.4-.92-.59-1.43-.59-.52 0-1.04.2-1.43.59L10.3 9.45l-7.72 7.72c-.78.78-.78 2.05 0 2.83L4 21.41c.39.39.9.59 1.41.59.51 0 1.02-.2 1.41-.59l7.78-7.78 2.81-2.81c.8-.78.8-2.07 0-2.86zM5.41 20L4 18.59l7.72-7.72 1.47 1.35L5.41 20z\"/>\n",
              "  </svg>\n",
              "      </button>\n",
              "      \n",
              "  <style>\n",
              "    .colab-df-container {\n",
              "      display:flex;\n",
              "      flex-wrap:wrap;\n",
              "      gap: 12px;\n",
              "    }\n",
              "\n",
              "    .colab-df-convert {\n",
              "      background-color: #E8F0FE;\n",
              "      border: none;\n",
              "      border-radius: 50%;\n",
              "      cursor: pointer;\n",
              "      display: none;\n",
              "      fill: #1967D2;\n",
              "      height: 32px;\n",
              "      padding: 0 0 0 0;\n",
              "      width: 32px;\n",
              "    }\n",
              "\n",
              "    .colab-df-convert:hover {\n",
              "      background-color: #E2EBFA;\n",
              "      box-shadow: 0px 1px 2px rgba(60, 64, 67, 0.3), 0px 1px 3px 1px rgba(60, 64, 67, 0.15);\n",
              "      fill: #174EA6;\n",
              "    }\n",
              "\n",
              "    [theme=dark] .colab-df-convert {\n",
              "      background-color: #3B4455;\n",
              "      fill: #D2E3FC;\n",
              "    }\n",
              "\n",
              "    [theme=dark] .colab-df-convert:hover {\n",
              "      background-color: #434B5C;\n",
              "      box-shadow: 0px 1px 3px 1px rgba(0, 0, 0, 0.15);\n",
              "      filter: drop-shadow(0px 1px 2px rgba(0, 0, 0, 0.3));\n",
              "      fill: #FFFFFF;\n",
              "    }\n",
              "  </style>\n",
              "\n",
              "      <script>\n",
              "        const buttonEl =\n",
              "          document.querySelector('#df-0615bbab-7e56-40bc-927f-833d232c395e button.colab-df-convert');\n",
              "        buttonEl.style.display =\n",
              "          google.colab.kernel.accessAllowed ? 'block' : 'none';\n",
              "\n",
              "        async function convertToInteractive(key) {\n",
              "          const element = document.querySelector('#df-0615bbab-7e56-40bc-927f-833d232c395e');\n",
              "          const dataTable =\n",
              "            await google.colab.kernel.invokeFunction('convertToInteractive',\n",
              "                                                     [key], {});\n",
              "          if (!dataTable) return;\n",
              "\n",
              "          const docLinkHtml = 'Like what you see? Visit the ' +\n",
              "            '<a target=\"_blank\" href=https://colab.research.google.com/notebooks/data_table.ipynb>data table notebook</a>'\n",
              "            + ' to learn more about interactive tables.';\n",
              "          element.innerHTML = '';\n",
              "          dataTable['output_type'] = 'display_data';\n",
              "          await google.colab.output.renderOutput(dataTable, element);\n",
              "          const docLink = document.createElement('div');\n",
              "          docLink.innerHTML = docLinkHtml;\n",
              "          element.appendChild(docLink);\n",
              "        }\n",
              "      </script>\n",
              "    </div>\n",
              "  </div>\n",
              "  "
            ],
            "text/plain": [
              "                        science_fiction_female  science_fiction_male\n",
              "science_fiction_female                   33924                 10094\n",
              "science_fiction_male                     19505                 24513"
            ]
          },
          "metadata": {},
          "output_type": "display_data"
        }
      ],
      "source": [
        "# Get predictions and evaluations on test set\n",
        "\n",
        "# classic books\n",
        "n = 20000\n",
        "a = 0.0000000001\n",
        "labels_c, pred_c = eval_nb_bi(n, a, unique_class, unigrams_class, ['classic_female', 'classic_male'],\n",
        "                              mutual_info_class, test_classic_up, prob_class_class)\n",
        "\n",
        "confu_c = confu_matrix(['classic_female', 'classic_male'], labels_c, pred_c)\n",
        "confu_c.to_latex(buf = filePath+'confu_c_up', bold_rows = True,\n",
        "                 caption='Confusion Matrix NB classifier, balanced classic dataset (up)', label='confu_nb_c_up')\n",
        "\n",
        "print('CLASSIFICATION RESULTS FOR CLASSIC REVIEWS DATASET: ')\n",
        "print(classification_report(labels_c, pred_c, digits = 4))\n",
        "report_nb_c = classification_report(labels_c, pred_c, digits = 4, output_dict=True)\n",
        "df_report_nb_c = pd.DataFrame(report_nb_c).transpose()\n",
        "df_report_nb_c.to_latex(buf = filePath+'nb_report_c_up', header = ['Precision', 'Recall', 'F1-score', 'Support'],\n",
        "                      bold_rows = False, float_format=\"%.4f\",\n",
        "                      caption='Classification Report NB classifier, balanced classic dataset (up)',\n",
        "                        label='report_nb_c_up')\n",
        "print('\\nConfusion matrix:')\n",
        "display(confu_c)\n",
        "\n",
        "# romance books\n",
        "n = 20000\n",
        "a = 0.0000000001\n",
        "labels_r, pred_r = eval_nb_bi(n, a, unique_romance, unigrams_romance, ['romance_female', 'romance_male'],\n",
        "                              mutual_info_romance, test_romance_up, prob_class_romance)\n",
        "\n",
        "confu_r = confu_matrix(['romance_female', 'romance_male'], labels_r, pred_r)\n",
        "confu_r.to_latex(buf = filePath+'confu_r_up', bold_rows = True,\n",
        "                 caption='Confusion Matrix NB classifier, balanced romance dataset (up)', label='confu_nb_r_up')\n",
        "\n",
        "print('CLASSIFICATION RESULTS FOR ROMANCE REVIEWS DATASET: ')\n",
        "print(classification_report(labels_r, pred_r, digits = 4))\n",
        "report_nb_r = classification_report(labels_r, pred_r, digits = 4, output_dict=True)\n",
        "df_report_nb_r = pd.DataFrame(report_nb_r).transpose()\n",
        "df_report_nb_r.to_latex(buf = filePath+'nb_report_r_up', header = ['Precision', 'Recall', 'F1-score', 'Support'],\n",
        "                      bold_rows = False, float_format=\"%.4f\",\n",
        "                      caption='Classification Report NB classifier, balanced romance dataset (up)',\n",
        "                        label='report_nb_r_up')\n",
        "print('\\nConfusion matrix:')\n",
        "display(confu_r)\n",
        "\n",
        "# science fiction books\n",
        "n = 20000\n",
        "a = 0.0000000001\n",
        "labels_s, pred_s = eval_nb_bi(n, a, unique_science, unigrams_science,\n",
        "                              ['science_fiction_female', 'science_fiction_male'], mutual_info_science,\n",
        "                              test_science_up, prob_class_science)\n",
        "\n",
        "confu_s = confu_matrix(['science_fiction_female', 'science_fiction_male'], labels_s, pred_s)\n",
        "confu_s.to_latex(buf = filePath+'confu_s_up', bold_rows = True,\n",
        "                 caption='Confusion Matrix NB classifier, balanced science dataset (up)', label='confu_nb_s_up')\n",
        "\n",
        "print('CLASSIFICATION RESULTS FOR SCIENCE FICTION REVIEWS DATASET: ')\n",
        "print(classification_report(labels_s, pred_s, digits = 4))\n",
        "report_nb_s = classification_report(labels_s, pred_s, digits = 4, output_dict=True)\n",
        "df_report_nb_s = pd.DataFrame(report_nb_s).transpose()\n",
        "df_report_nb_s.to_latex(buf = filePath+'nb_report_s_up', header = ['Precision', 'Recall', 'F1-score', 'Support'],\n",
        "                      bold_rows = False, float_format=\"%.4f\",\n",
        "                      caption='Classification Report NB classifier, balanced science dataset (up)',\n",
        "                        label='report_nb_s_up')\n",
        "print('\\nConfusion matrix:')\n",
        "display(confu_s)"
      ]
    },
    {
      "cell_type": "markdown",
      "metadata": {
        "id": "pnZ6nRbw9EqX"
      },
      "source": [
        "## Train and evaluate NB on downsampled dataset"
      ]
    },
    {
      "cell_type": "code",
      "execution_count": null,
      "metadata": {
        "colab": {
          "base_uri": "https://localhost:8080/"
        },
        "id": "sQ6FV7Vj88ic",
        "outputId": "573d6573-ec55-4a29-9121-ea510c7509ef"
      },
      "outputs": [
        {
          "name": "stdout",
          "output_type": "stream",
          "text": [
            "\n",
            "Smoothing parameter 20000_1e-10 produces the HIGHEST macro F1 on the dev set: 0.6738546131702535\n",
            "Smoothing parameter 1000_1e-10 produces the LOWEST macro F1 on the dev set: 0.6273841949596113\n",
            "The difference between the highest and lowest macro F1 is 0.04647041821064224.\n",
            "Best hyperparameter classic reviews: 20000_1e-10\n",
            "\n",
            "Smoothing parameter 20000_0.30000000000000004 produces the HIGHEST macro F1 on the dev set: 0.5865220927250757\n",
            "Smoothing parameter 2000_1e-10 produces the LOWEST macro F1 on the dev set: 0.5717257736610499\n",
            "The difference between the highest and lowest macro F1 is 0.014796319064025787.\n",
            "Best hyperparameter romance reviews: 20000_0.30000000000000004\n",
            "\n",
            "Smoothing parameter 5000_0.9500000000000001 produces the HIGHEST macro F1 on the dev set: 0.6545698560505684\n",
            "Smoothing parameter 10000_1e-10 produces the LOWEST macro F1 on the dev set: 0.6427074129438116\n",
            "The difference between the highest and lowest macro F1 is 0.01186244310675677.\n",
            "Best hyperparameter science fiction reviews: 5000_0.9500000000000001\n"
          ]
        }
      ],
      "source": [
        "# Get vocabulary, MI for each genre and perform hyperparameter tuning\n",
        "\n",
        "# classic books\n",
        "cat_red = ['classic_female', 'classic_male']\n",
        "mutual_info_class, unigrams_class, prob_class_class, unique_class = vocab_mutual_info_bi(train_classic, cat_red)\n",
        "hyperpara_class = hyperparameter_tuning_bi_nb(unique_class,dev_classic,\n",
        "                                              unigrams_class, cat_red, mutual_info_class, prob_class_class)\n",
        "print('Best hyperparameter classic reviews: {}'.format(hyperpara_class))\n",
        "\n",
        "# romance books\n",
        "cat_red = ['romance_female', 'romance_male']\n",
        "mutual_info_romance, unigrams_romance, prob_class_romance, unique_romance = vocab_mutual_info_bi(train_romance, cat_red)\n",
        "hyperpara_romance = hyperparameter_tuning_bi_nb(unique_romance, dev_romance,\n",
        "                                                unigrams_romance, cat_red, mutual_info_romance, prob_class_romance)\n",
        "print('Best hyperparameter romance reviews: {}'.format(hyperpara_romance))\n",
        "\n",
        "# science fiction books\n",
        "cat_red = ['science_fiction_female', 'science_fiction_male']\n",
        "mutual_info_science, unigrams_science, prob_class_science, unique_science = vocab_mutual_info_bi(train_science, cat_red)\n",
        "hyperpara_science = hyperparameter_tuning_bi_nb(unique_science, dev_science,\n",
        "                                                unigrams_science, cat_red, mutual_info_science, prob_class_science)\n",
        "print('Best hyperparameter science fiction reviews: {}'.format(hyperpara_science))"
      ]
    },
    {
      "cell_type": "code",
      "execution_count": null,
      "metadata": {
        "colab": {
          "base_uri": "https://localhost:8080/",
          "height": 911
        },
        "id": "nEemiQCU88if",
        "outputId": "801cfe2c-4fd0-4b7c-ed1c-b698385bf465"
      },
      "outputs": [
        {
          "name": "stdout",
          "output_type": "stream",
          "text": [
            "CLASSIFICATION RESULTS FOR CLASSIC REVIEWS DATASET: \n",
            "                precision    recall  f1-score   support\n",
            "\n",
            "classic_female     0.6422    0.8263    0.7227      2222\n",
            "  classic_male     0.7565    0.5396    0.6299      2222\n",
            "\n",
            "      accuracy                         0.6829      4444\n",
            "     macro avg     0.6993    0.6829    0.6763      4444\n",
            "  weighted avg     0.6993    0.6829    0.6763      4444\n",
            "\n",
            "\n",
            "Confusion matrix:\n"
          ]
        },
        {
          "data": {
            "text/html": [
              "\n",
              "  <div id=\"df-23ac1c93-4ecb-4b59-8c9b-057f07c48859\">\n",
              "    <div class=\"colab-df-container\">\n",
              "      <div>\n",
              "<style scoped>\n",
              "    .dataframe tbody tr th:only-of-type {\n",
              "        vertical-align: middle;\n",
              "    }\n",
              "\n",
              "    .dataframe tbody tr th {\n",
              "        vertical-align: top;\n",
              "    }\n",
              "\n",
              "    .dataframe thead th {\n",
              "        text-align: right;\n",
              "    }\n",
              "</style>\n",
              "<table border=\"1\" class=\"dataframe\">\n",
              "  <thead>\n",
              "    <tr style=\"text-align: right;\">\n",
              "      <th></th>\n",
              "      <th>classic_female</th>\n",
              "      <th>classic_male</th>\n",
              "    </tr>\n",
              "  </thead>\n",
              "  <tbody>\n",
              "    <tr>\n",
              "      <th>classic_female</th>\n",
              "      <td>1836</td>\n",
              "      <td>386</td>\n",
              "    </tr>\n",
              "    <tr>\n",
              "      <th>classic_male</th>\n",
              "      <td>1023</td>\n",
              "      <td>1199</td>\n",
              "    </tr>\n",
              "  </tbody>\n",
              "</table>\n",
              "</div>\n",
              "      <button class=\"colab-df-convert\" onclick=\"convertToInteractive('df-23ac1c93-4ecb-4b59-8c9b-057f07c48859')\"\n",
              "              title=\"Convert this dataframe to an interactive table.\"\n",
              "              style=\"display:none;\">\n",
              "        \n",
              "  <svg xmlns=\"http://www.w3.org/2000/svg\" height=\"24px\"viewBox=\"0 0 24 24\"\n",
              "       width=\"24px\">\n",
              "    <path d=\"M0 0h24v24H0V0z\" fill=\"none\"/>\n",
              "    <path d=\"M18.56 5.44l.94 2.06.94-2.06 2.06-.94-2.06-.94-.94-2.06-.94 2.06-2.06.94zm-11 1L8.5 8.5l.94-2.06 2.06-.94-2.06-.94L8.5 2.5l-.94 2.06-2.06.94zm10 10l.94 2.06.94-2.06 2.06-.94-2.06-.94-.94-2.06-.94 2.06-2.06.94z\"/><path d=\"M17.41 7.96l-1.37-1.37c-.4-.4-.92-.59-1.43-.59-.52 0-1.04.2-1.43.59L10.3 9.45l-7.72 7.72c-.78.78-.78 2.05 0 2.83L4 21.41c.39.39.9.59 1.41.59.51 0 1.02-.2 1.41-.59l7.78-7.78 2.81-2.81c.8-.78.8-2.07 0-2.86zM5.41 20L4 18.59l7.72-7.72 1.47 1.35L5.41 20z\"/>\n",
              "  </svg>\n",
              "      </button>\n",
              "      \n",
              "  <style>\n",
              "    .colab-df-container {\n",
              "      display:flex;\n",
              "      flex-wrap:wrap;\n",
              "      gap: 12px;\n",
              "    }\n",
              "\n",
              "    .colab-df-convert {\n",
              "      background-color: #E8F0FE;\n",
              "      border: none;\n",
              "      border-radius: 50%;\n",
              "      cursor: pointer;\n",
              "      display: none;\n",
              "      fill: #1967D2;\n",
              "      height: 32px;\n",
              "      padding: 0 0 0 0;\n",
              "      width: 32px;\n",
              "    }\n",
              "\n",
              "    .colab-df-convert:hover {\n",
              "      background-color: #E2EBFA;\n",
              "      box-shadow: 0px 1px 2px rgba(60, 64, 67, 0.3), 0px 1px 3px 1px rgba(60, 64, 67, 0.15);\n",
              "      fill: #174EA6;\n",
              "    }\n",
              "\n",
              "    [theme=dark] .colab-df-convert {\n",
              "      background-color: #3B4455;\n",
              "      fill: #D2E3FC;\n",
              "    }\n",
              "\n",
              "    [theme=dark] .colab-df-convert:hover {\n",
              "      background-color: #434B5C;\n",
              "      box-shadow: 0px 1px 3px 1px rgba(0, 0, 0, 0.15);\n",
              "      filter: drop-shadow(0px 1px 2px rgba(0, 0, 0, 0.3));\n",
              "      fill: #FFFFFF;\n",
              "    }\n",
              "  </style>\n",
              "\n",
              "      <script>\n",
              "        const buttonEl =\n",
              "          document.querySelector('#df-23ac1c93-4ecb-4b59-8c9b-057f07c48859 button.colab-df-convert');\n",
              "        buttonEl.style.display =\n",
              "          google.colab.kernel.accessAllowed ? 'block' : 'none';\n",
              "\n",
              "        async function convertToInteractive(key) {\n",
              "          const element = document.querySelector('#df-23ac1c93-4ecb-4b59-8c9b-057f07c48859');\n",
              "          const dataTable =\n",
              "            await google.colab.kernel.invokeFunction('convertToInteractive',\n",
              "                                                     [key], {});\n",
              "          if (!dataTable) return;\n",
              "\n",
              "          const docLinkHtml = 'Like what you see? Visit the ' +\n",
              "            '<a target=\"_blank\" href=https://colab.research.google.com/notebooks/data_table.ipynb>data table notebook</a>'\n",
              "            + ' to learn more about interactive tables.';\n",
              "          element.innerHTML = '';\n",
              "          dataTable['output_type'] = 'display_data';\n",
              "          await google.colab.output.renderOutput(dataTable, element);\n",
              "          const docLink = document.createElement('div');\n",
              "          docLink.innerHTML = docLinkHtml;\n",
              "          element.appendChild(docLink);\n",
              "        }\n",
              "      </script>\n",
              "    </div>\n",
              "  </div>\n",
              "  "
            ],
            "text/plain": [
              "                classic_female  classic_male\n",
              "classic_female            1836           386\n",
              "classic_male              1023          1199"
            ]
          },
          "metadata": {},
          "output_type": "display_data"
        },
        {
          "name": "stdout",
          "output_type": "stream",
          "text": [
            "CLASSIFICATION RESULTS FOR ROMANCE REVIEWS DATASET: \n",
            "                precision    recall  f1-score   support\n",
            "\n",
            "romance_female     0.5891    0.6098    0.5993      2222\n",
            "  romance_male     0.5956    0.5747    0.5850      2222\n",
            "\n",
            "      accuracy                         0.5923      4444\n",
            "     macro avg     0.5924    0.5923    0.5921      4444\n",
            "  weighted avg     0.5924    0.5923    0.5921      4444\n",
            "\n",
            "\n",
            "Confusion matrix:\n"
          ]
        },
        {
          "data": {
            "text/html": [
              "\n",
              "  <div id=\"df-eb34b49c-f8ab-4a98-9f82-21ff2b367599\">\n",
              "    <div class=\"colab-df-container\">\n",
              "      <div>\n",
              "<style scoped>\n",
              "    .dataframe tbody tr th:only-of-type {\n",
              "        vertical-align: middle;\n",
              "    }\n",
              "\n",
              "    .dataframe tbody tr th {\n",
              "        vertical-align: top;\n",
              "    }\n",
              "\n",
              "    .dataframe thead th {\n",
              "        text-align: right;\n",
              "    }\n",
              "</style>\n",
              "<table border=\"1\" class=\"dataframe\">\n",
              "  <thead>\n",
              "    <tr style=\"text-align: right;\">\n",
              "      <th></th>\n",
              "      <th>romance_female</th>\n",
              "      <th>romance_male</th>\n",
              "    </tr>\n",
              "  </thead>\n",
              "  <tbody>\n",
              "    <tr>\n",
              "      <th>romance_female</th>\n",
              "      <td>1355</td>\n",
              "      <td>867</td>\n",
              "    </tr>\n",
              "    <tr>\n",
              "      <th>romance_male</th>\n",
              "      <td>945</td>\n",
              "      <td>1277</td>\n",
              "    </tr>\n",
              "  </tbody>\n",
              "</table>\n",
              "</div>\n",
              "      <button class=\"colab-df-convert\" onclick=\"convertToInteractive('df-eb34b49c-f8ab-4a98-9f82-21ff2b367599')\"\n",
              "              title=\"Convert this dataframe to an interactive table.\"\n",
              "              style=\"display:none;\">\n",
              "        \n",
              "  <svg xmlns=\"http://www.w3.org/2000/svg\" height=\"24px\"viewBox=\"0 0 24 24\"\n",
              "       width=\"24px\">\n",
              "    <path d=\"M0 0h24v24H0V0z\" fill=\"none\"/>\n",
              "    <path d=\"M18.56 5.44l.94 2.06.94-2.06 2.06-.94-2.06-.94-.94-2.06-.94 2.06-2.06.94zm-11 1L8.5 8.5l.94-2.06 2.06-.94-2.06-.94L8.5 2.5l-.94 2.06-2.06.94zm10 10l.94 2.06.94-2.06 2.06-.94-2.06-.94-.94-2.06-.94 2.06-2.06.94z\"/><path d=\"M17.41 7.96l-1.37-1.37c-.4-.4-.92-.59-1.43-.59-.52 0-1.04.2-1.43.59L10.3 9.45l-7.72 7.72c-.78.78-.78 2.05 0 2.83L4 21.41c.39.39.9.59 1.41.59.51 0 1.02-.2 1.41-.59l7.78-7.78 2.81-2.81c.8-.78.8-2.07 0-2.86zM5.41 20L4 18.59l7.72-7.72 1.47 1.35L5.41 20z\"/>\n",
              "  </svg>\n",
              "      </button>\n",
              "      \n",
              "  <style>\n",
              "    .colab-df-container {\n",
              "      display:flex;\n",
              "      flex-wrap:wrap;\n",
              "      gap: 12px;\n",
              "    }\n",
              "\n",
              "    .colab-df-convert {\n",
              "      background-color: #E8F0FE;\n",
              "      border: none;\n",
              "      border-radius: 50%;\n",
              "      cursor: pointer;\n",
              "      display: none;\n",
              "      fill: #1967D2;\n",
              "      height: 32px;\n",
              "      padding: 0 0 0 0;\n",
              "      width: 32px;\n",
              "    }\n",
              "\n",
              "    .colab-df-convert:hover {\n",
              "      background-color: #E2EBFA;\n",
              "      box-shadow: 0px 1px 2px rgba(60, 64, 67, 0.3), 0px 1px 3px 1px rgba(60, 64, 67, 0.15);\n",
              "      fill: #174EA6;\n",
              "    }\n",
              "\n",
              "    [theme=dark] .colab-df-convert {\n",
              "      background-color: #3B4455;\n",
              "      fill: #D2E3FC;\n",
              "    }\n",
              "\n",
              "    [theme=dark] .colab-df-convert:hover {\n",
              "      background-color: #434B5C;\n",
              "      box-shadow: 0px 1px 3px 1px rgba(0, 0, 0, 0.15);\n",
              "      filter: drop-shadow(0px 1px 2px rgba(0, 0, 0, 0.3));\n",
              "      fill: #FFFFFF;\n",
              "    }\n",
              "  </style>\n",
              "\n",
              "      <script>\n",
              "        const buttonEl =\n",
              "          document.querySelector('#df-eb34b49c-f8ab-4a98-9f82-21ff2b367599 button.colab-df-convert');\n",
              "        buttonEl.style.display =\n",
              "          google.colab.kernel.accessAllowed ? 'block' : 'none';\n",
              "\n",
              "        async function convertToInteractive(key) {\n",
              "          const element = document.querySelector('#df-eb34b49c-f8ab-4a98-9f82-21ff2b367599');\n",
              "          const dataTable =\n",
              "            await google.colab.kernel.invokeFunction('convertToInteractive',\n",
              "                                                     [key], {});\n",
              "          if (!dataTable) return;\n",
              "\n",
              "          const docLinkHtml = 'Like what you see? Visit the ' +\n",
              "            '<a target=\"_blank\" href=https://colab.research.google.com/notebooks/data_table.ipynb>data table notebook</a>'\n",
              "            + ' to learn more about interactive tables.';\n",
              "          element.innerHTML = '';\n",
              "          dataTable['output_type'] = 'display_data';\n",
              "          await google.colab.output.renderOutput(dataTable, element);\n",
              "          const docLink = document.createElement('div');\n",
              "          docLink.innerHTML = docLinkHtml;\n",
              "          element.appendChild(docLink);\n",
              "        }\n",
              "      </script>\n",
              "    </div>\n",
              "  </div>\n",
              "  "
            ],
            "text/plain": [
              "                romance_female  romance_male\n",
              "romance_female            1355           867\n",
              "romance_male               945          1277"
            ]
          },
          "metadata": {},
          "output_type": "display_data"
        },
        {
          "name": "stdout",
          "output_type": "stream",
          "text": [
            "CLASSIFICATION RESULTS FOR SCIENCE FICTION REVIEWS DATASET: \n",
            "                        precision    recall  f1-score   support\n",
            "\n",
            "science_fiction_female     0.6326    0.7408    0.6824      2222\n",
            "  science_fiction_male     0.6873    0.5698    0.6230      2222\n",
            "\n",
            "              accuracy                         0.6553      4444\n",
            "             macro avg     0.6599    0.6553    0.6527      4444\n",
            "          weighted avg     0.6599    0.6553    0.6527      4444\n",
            "\n",
            "\n",
            "Confusion matrix:\n"
          ]
        },
        {
          "data": {
            "text/html": [
              "\n",
              "  <div id=\"df-1ecb8369-f058-4fb2-8fe6-c2bb67d88464\">\n",
              "    <div class=\"colab-df-container\">\n",
              "      <div>\n",
              "<style scoped>\n",
              "    .dataframe tbody tr th:only-of-type {\n",
              "        vertical-align: middle;\n",
              "    }\n",
              "\n",
              "    .dataframe tbody tr th {\n",
              "        vertical-align: top;\n",
              "    }\n",
              "\n",
              "    .dataframe thead th {\n",
              "        text-align: right;\n",
              "    }\n",
              "</style>\n",
              "<table border=\"1\" class=\"dataframe\">\n",
              "  <thead>\n",
              "    <tr style=\"text-align: right;\">\n",
              "      <th></th>\n",
              "      <th>science_fiction_female</th>\n",
              "      <th>science_fiction_male</th>\n",
              "    </tr>\n",
              "  </thead>\n",
              "  <tbody>\n",
              "    <tr>\n",
              "      <th>science_fiction_female</th>\n",
              "      <td>1646</td>\n",
              "      <td>576</td>\n",
              "    </tr>\n",
              "    <tr>\n",
              "      <th>science_fiction_male</th>\n",
              "      <td>956</td>\n",
              "      <td>1266</td>\n",
              "    </tr>\n",
              "  </tbody>\n",
              "</table>\n",
              "</div>\n",
              "      <button class=\"colab-df-convert\" onclick=\"convertToInteractive('df-1ecb8369-f058-4fb2-8fe6-c2bb67d88464')\"\n",
              "              title=\"Convert this dataframe to an interactive table.\"\n",
              "              style=\"display:none;\">\n",
              "        \n",
              "  <svg xmlns=\"http://www.w3.org/2000/svg\" height=\"24px\"viewBox=\"0 0 24 24\"\n",
              "       width=\"24px\">\n",
              "    <path d=\"M0 0h24v24H0V0z\" fill=\"none\"/>\n",
              "    <path d=\"M18.56 5.44l.94 2.06.94-2.06 2.06-.94-2.06-.94-.94-2.06-.94 2.06-2.06.94zm-11 1L8.5 8.5l.94-2.06 2.06-.94-2.06-.94L8.5 2.5l-.94 2.06-2.06.94zm10 10l.94 2.06.94-2.06 2.06-.94-2.06-.94-.94-2.06-.94 2.06-2.06.94z\"/><path d=\"M17.41 7.96l-1.37-1.37c-.4-.4-.92-.59-1.43-.59-.52 0-1.04.2-1.43.59L10.3 9.45l-7.72 7.72c-.78.78-.78 2.05 0 2.83L4 21.41c.39.39.9.59 1.41.59.51 0 1.02-.2 1.41-.59l7.78-7.78 2.81-2.81c.8-.78.8-2.07 0-2.86zM5.41 20L4 18.59l7.72-7.72 1.47 1.35L5.41 20z\"/>\n",
              "  </svg>\n",
              "      </button>\n",
              "      \n",
              "  <style>\n",
              "    .colab-df-container {\n",
              "      display:flex;\n",
              "      flex-wrap:wrap;\n",
              "      gap: 12px;\n",
              "    }\n",
              "\n",
              "    .colab-df-convert {\n",
              "      background-color: #E8F0FE;\n",
              "      border: none;\n",
              "      border-radius: 50%;\n",
              "      cursor: pointer;\n",
              "      display: none;\n",
              "      fill: #1967D2;\n",
              "      height: 32px;\n",
              "      padding: 0 0 0 0;\n",
              "      width: 32px;\n",
              "    }\n",
              "\n",
              "    .colab-df-convert:hover {\n",
              "      background-color: #E2EBFA;\n",
              "      box-shadow: 0px 1px 2px rgba(60, 64, 67, 0.3), 0px 1px 3px 1px rgba(60, 64, 67, 0.15);\n",
              "      fill: #174EA6;\n",
              "    }\n",
              "\n",
              "    [theme=dark] .colab-df-convert {\n",
              "      background-color: #3B4455;\n",
              "      fill: #D2E3FC;\n",
              "    }\n",
              "\n",
              "    [theme=dark] .colab-df-convert:hover {\n",
              "      background-color: #434B5C;\n",
              "      box-shadow: 0px 1px 3px 1px rgba(0, 0, 0, 0.15);\n",
              "      filter: drop-shadow(0px 1px 2px rgba(0, 0, 0, 0.3));\n",
              "      fill: #FFFFFF;\n",
              "    }\n",
              "  </style>\n",
              "\n",
              "      <script>\n",
              "        const buttonEl =\n",
              "          document.querySelector('#df-1ecb8369-f058-4fb2-8fe6-c2bb67d88464 button.colab-df-convert');\n",
              "        buttonEl.style.display =\n",
              "          google.colab.kernel.accessAllowed ? 'block' : 'none';\n",
              "\n",
              "        async function convertToInteractive(key) {\n",
              "          const element = document.querySelector('#df-1ecb8369-f058-4fb2-8fe6-c2bb67d88464');\n",
              "          const dataTable =\n",
              "            await google.colab.kernel.invokeFunction('convertToInteractive',\n",
              "                                                     [key], {});\n",
              "          if (!dataTable) return;\n",
              "\n",
              "          const docLinkHtml = 'Like what you see? Visit the ' +\n",
              "            '<a target=\"_blank\" href=https://colab.research.google.com/notebooks/data_table.ipynb>data table notebook</a>'\n",
              "            + ' to learn more about interactive tables.';\n",
              "          element.innerHTML = '';\n",
              "          dataTable['output_type'] = 'display_data';\n",
              "          await google.colab.output.renderOutput(dataTable, element);\n",
              "          const docLink = document.createElement('div');\n",
              "          docLink.innerHTML = docLinkHtml;\n",
              "          element.appendChild(docLink);\n",
              "        }\n",
              "      </script>\n",
              "    </div>\n",
              "  </div>\n",
              "  "
            ],
            "text/plain": [
              "                        science_fiction_female  science_fiction_male\n",
              "science_fiction_female                    1646                   576\n",
              "science_fiction_male                       956                  1266"
            ]
          },
          "metadata": {},
          "output_type": "display_data"
        }
      ],
      "source": [
        "# Get predictions on test set\n",
        "\n",
        "# classic books\n",
        "n = 20000\n",
        "a = 0.0000000001\n",
        "labels_c, pred_c = eval_nb_bi(n, a, unique_class, unigrams_class, ['classic_female', 'classic_male'],\n",
        "                              mutual_info_class, test_classic, prob_class_class)\n",
        "\n",
        "confu_c = confu_matrix(['classic_female', 'classic_male'], labels_c, pred_c)\n",
        "confu_c.to_latex(buf = filePath+'confu_c_down', bold_rows = True,\n",
        "                 caption='Confusion Matrix NB classifier, balanced classic dataset')\n",
        "\n",
        "print('CLASSIFICATION RESULTS FOR CLASSIC REVIEWS DATASET: ')\n",
        "print(classification_report(labels_c, pred_c, digits = 4))\n",
        "report_nb_c = classification_report(labels_c, pred_c, digits = 4, output_dict=True)\n",
        "df_report_nb_c = pd.DataFrame(report_nb_c).transpose()\n",
        "df_report_nb_c.to_latex(buf = filePath+'nb_report_c', header = ['Precision', 'Recall', 'F1-score', 'Support'],\n",
        "                      bold_rows = False, float_format=\"%.4f\",\n",
        "                      caption='Classification Report NB classifier, balanced classic dataset', label='report_nb_c')\n",
        "print('\\nConfusion matrix:')\n",
        "display(confu_c)\n",
        "\n",
        "# romance books\n",
        "n = 20000\n",
        "a = 0.3\n",
        "labels_r, pred_r = eval_nb_bi(n, a, unique_romance, unigrams_romance, ['romance_female', 'romance_male'],\n",
        "                              mutual_info_romance, test_romance, prob_class_romance)\n",
        "confu_r = confu_matrix(['romance_female', 'romance_male'], labels_r, pred_r)\n",
        "confu_r.to_latex(buf = filePath+'confu_r_down', bold_rows = True,\n",
        "                 caption='Confusion Matrix NB classifier, balanced romance dataset')\n",
        "\n",
        "print('CLASSIFICATION RESULTS FOR ROMANCE REVIEWS DATASET: ')\n",
        "print(classification_report(labels_r, pred_r, digits = 4))\n",
        "report_nb_r = classification_report(labels_r, pred_r, digits = 4, output_dict=True)\n",
        "df_report_nb_r = pd.DataFrame(report_nb_r).transpose()\n",
        "df_report_nb_r.to_latex(buf = filePath+'nb_report_r', header = ['Precision', 'Recall', 'F1-score', 'Support'],\n",
        "                      bold_rows = False, float_format=\"%.4f\",\n",
        "                      caption='Classification Report NB classifier, balanced romance dataset', label='report_nb_r')\n",
        "print('\\nConfusion matrix:')\n",
        "display(confu_r)\n",
        "\n",
        "# science fiction books\n",
        "n = 5000\n",
        "a = 0.95\n",
        "labels_s, pred_s = eval_nb_bi(n, a, unique_science, unigrams_science,\n",
        "                              ['science_fiction_female', 'science_fiction_male'], mutual_info_science,\n",
        "                              test_science, prob_class_science)\n",
        "\n",
        "confu_s = confu_matrix(['science_fiction_female', 'science_fiction_male'], labels_s, pred_s)\n",
        "confu_s.to_latex(buf = filePath+'confu_s_down', bold_rows = True,\n",
        "                 caption='Confusion Matrix NB classifier, balanced science dataset')\n",
        "\n",
        "print('CLASSIFICATION RESULTS FOR SCIENCE FICTION REVIEWS DATASET: ')\n",
        "print(classification_report(labels_s, pred_s, digits = 4))\n",
        "report_nb_s = classification_report(labels_s, pred_s, digits = 4, output_dict=True)\n",
        "df_report_nb_s = pd.DataFrame(report_nb_s).transpose()\n",
        "df_report_nb_s.to_latex(buf = filePath+'nb_report_s', header = ['Precision', 'Recall', 'F1-score', 'Support'],\n",
        "                      bold_rows = False, float_format=\"%.4f\",\n",
        "                      caption='Classification Report NB classifier, balanced science dataset', label='report_nb_s')\n",
        "print('\\nConfusion matrix:')\n",
        "display(confu_s)"
      ]
    }
  ],
  "metadata": {
    "accelerator": "GPU",
    "colab": {
      "machine_shape": "hm",
      "provenance": []
    },
    "kernelspec": {
      "display_name": "Python 3",
      "language": "python",
      "name": "python3"
    },
    "language_info": {
      "codemirror_mode": {
        "name": "ipython",
        "version": 3
      },
      "file_extension": ".py",
      "mimetype": "text/x-python",
      "name": "python",
      "nbconvert_exporter": "python",
      "pygments_lexer": "ipython3",
      "version": "3.8.8"
    },
    "widgets": {
      "application/vnd.jupyter.widget-state+json": {
        "09fc017c9f5d4488bbb0e05789be8445": {
          "model_module": "@jupyter-widgets/base",
          "model_module_version": "1.2.0",
          "model_name": "LayoutModel",
          "state": {
            "_model_module": "@jupyter-widgets/base",
            "_model_module_version": "1.2.0",
            "_model_name": "LayoutModel",
            "_view_count": null,
            "_view_module": "@jupyter-widgets/base",
            "_view_module_version": "1.2.0",
            "_view_name": "LayoutView",
            "align_content": null,
            "align_items": null,
            "align_self": null,
            "border": null,
            "bottom": null,
            "display": null,
            "flex": null,
            "flex_flow": null,
            "grid_area": null,
            "grid_auto_columns": null,
            "grid_auto_flow": null,
            "grid_auto_rows": null,
            "grid_column": null,
            "grid_gap": null,
            "grid_row": null,
            "grid_template_areas": null,
            "grid_template_columns": null,
            "grid_template_rows": null,
            "height": null,
            "justify_content": null,
            "justify_items": null,
            "left": null,
            "margin": null,
            "max_height": null,
            "max_width": null,
            "min_height": null,
            "min_width": null,
            "object_fit": null,
            "object_position": null,
            "order": null,
            "overflow": null,
            "overflow_x": null,
            "overflow_y": null,
            "padding": null,
            "right": null,
            "top": null,
            "visibility": null,
            "width": null
          }
        },
        "0b4a6374a3c743a78cf6f317e5efeb99": {
          "model_module": "@jupyter-widgets/base",
          "model_module_version": "1.2.0",
          "model_name": "LayoutModel",
          "state": {
            "_model_module": "@jupyter-widgets/base",
            "_model_module_version": "1.2.0",
            "_model_name": "LayoutModel",
            "_view_count": null,
            "_view_module": "@jupyter-widgets/base",
            "_view_module_version": "1.2.0",
            "_view_name": "LayoutView",
            "align_content": null,
            "align_items": null,
            "align_self": null,
            "border": null,
            "bottom": null,
            "display": null,
            "flex": null,
            "flex_flow": null,
            "grid_area": null,
            "grid_auto_columns": null,
            "grid_auto_flow": null,
            "grid_auto_rows": null,
            "grid_column": null,
            "grid_gap": null,
            "grid_row": null,
            "grid_template_areas": null,
            "grid_template_columns": null,
            "grid_template_rows": null,
            "height": null,
            "justify_content": null,
            "justify_items": null,
            "left": null,
            "margin": null,
            "max_height": null,
            "max_width": null,
            "min_height": null,
            "min_width": null,
            "object_fit": null,
            "object_position": null,
            "order": null,
            "overflow": null,
            "overflow_x": null,
            "overflow_y": null,
            "padding": null,
            "right": null,
            "top": null,
            "visibility": null,
            "width": null
          }
        },
        "0bb5117031404f2c92d6782d6f97e49c": {
          "model_module": "@jupyter-widgets/controls",
          "model_module_version": "1.5.0",
          "model_name": "ProgressStyleModel",
          "state": {
            "_model_module": "@jupyter-widgets/controls",
            "_model_module_version": "1.5.0",
            "_model_name": "ProgressStyleModel",
            "_view_count": null,
            "_view_module": "@jupyter-widgets/base",
            "_view_module_version": "1.2.0",
            "_view_name": "StyleView",
            "bar_color": null,
            "description_width": ""
          }
        },
        "0bf40995e61d4c5fa704ae43993f4eec": {
          "model_module": "@jupyter-widgets/controls",
          "model_module_version": "1.5.0",
          "model_name": "HBoxModel",
          "state": {
            "_dom_classes": [],
            "_model_module": "@jupyter-widgets/controls",
            "_model_module_version": "1.5.0",
            "_model_name": "HBoxModel",
            "_view_count": null,
            "_view_module": "@jupyter-widgets/controls",
            "_view_module_version": "1.5.0",
            "_view_name": "HBoxView",
            "box_style": "",
            "children": [
              "IPY_MODEL_ae16b146df01468ab60acb64acd0ba3c",
              "IPY_MODEL_f81db5253eff47898f26ec248e718320",
              "IPY_MODEL_f7bb26a4b6174cb0aa704b4b8e10ae54"
            ],
            "layout": "IPY_MODEL_6ec2accfbe80413a8e7b8aed5fd0dcf8"
          }
        },
        "15a9f60c1f114975b4e2f997f83c3fe6": {
          "model_module": "@jupyter-widgets/base",
          "model_module_version": "1.2.0",
          "model_name": "LayoutModel",
          "state": {
            "_model_module": "@jupyter-widgets/base",
            "_model_module_version": "1.2.0",
            "_model_name": "LayoutModel",
            "_view_count": null,
            "_view_module": "@jupyter-widgets/base",
            "_view_module_version": "1.2.0",
            "_view_name": "LayoutView",
            "align_content": null,
            "align_items": null,
            "align_self": null,
            "border": null,
            "bottom": null,
            "display": null,
            "flex": null,
            "flex_flow": null,
            "grid_area": null,
            "grid_auto_columns": null,
            "grid_auto_flow": null,
            "grid_auto_rows": null,
            "grid_column": null,
            "grid_gap": null,
            "grid_row": null,
            "grid_template_areas": null,
            "grid_template_columns": null,
            "grid_template_rows": null,
            "height": null,
            "justify_content": null,
            "justify_items": null,
            "left": null,
            "margin": null,
            "max_height": null,
            "max_width": null,
            "min_height": null,
            "min_width": null,
            "object_fit": null,
            "object_position": null,
            "order": null,
            "overflow": null,
            "overflow_x": null,
            "overflow_y": null,
            "padding": null,
            "right": null,
            "top": null,
            "visibility": null,
            "width": null
          }
        },
        "1e7ffead92304e03a45b4a8d0e0bdf6f": {
          "model_module": "@jupyter-widgets/controls",
          "model_module_version": "1.5.0",
          "model_name": "DescriptionStyleModel",
          "state": {
            "_model_module": "@jupyter-widgets/controls",
            "_model_module_version": "1.5.0",
            "_model_name": "DescriptionStyleModel",
            "_view_count": null,
            "_view_module": "@jupyter-widgets/base",
            "_view_module_version": "1.2.0",
            "_view_name": "StyleView",
            "description_width": ""
          }
        },
        "355bd767ec4f4449a5cb3eb00e49dab3": {
          "model_module": "@jupyter-widgets/controls",
          "model_module_version": "1.5.0",
          "model_name": "FloatProgressModel",
          "state": {
            "_dom_classes": [],
            "_model_module": "@jupyter-widgets/controls",
            "_model_module_version": "1.5.0",
            "_model_name": "FloatProgressModel",
            "_view_count": null,
            "_view_module": "@jupyter-widgets/controls",
            "_view_module_version": "1.5.0",
            "_view_name": "ProgressView",
            "bar_style": "success",
            "description": "",
            "description_tooltip": null,
            "layout": "IPY_MODEL_9c972cddc3e04cd0aa97735f8f59b8c1",
            "max": 38578,
            "min": 0,
            "orientation": "horizontal",
            "style": "IPY_MODEL_b5566b6acb8a4037b0bce045cee99e62",
            "value": 38578
          }
        },
        "37bf0a83a4964d80917fe4ffc40d3c24": {
          "model_module": "@jupyter-widgets/base",
          "model_module_version": "1.2.0",
          "model_name": "LayoutModel",
          "state": {
            "_model_module": "@jupyter-widgets/base",
            "_model_module_version": "1.2.0",
            "_model_name": "LayoutModel",
            "_view_count": null,
            "_view_module": "@jupyter-widgets/base",
            "_view_module_version": "1.2.0",
            "_view_name": "LayoutView",
            "align_content": null,
            "align_items": null,
            "align_self": null,
            "border": null,
            "bottom": null,
            "display": null,
            "flex": null,
            "flex_flow": null,
            "grid_area": null,
            "grid_auto_columns": null,
            "grid_auto_flow": null,
            "grid_auto_rows": null,
            "grid_column": null,
            "grid_gap": null,
            "grid_row": null,
            "grid_template_areas": null,
            "grid_template_columns": null,
            "grid_template_rows": null,
            "height": null,
            "justify_content": null,
            "justify_items": null,
            "left": null,
            "margin": null,
            "max_height": null,
            "max_width": null,
            "min_height": null,
            "min_width": null,
            "object_fit": null,
            "object_position": null,
            "order": null,
            "overflow": null,
            "overflow_x": null,
            "overflow_y": null,
            "padding": null,
            "right": null,
            "top": null,
            "visibility": null,
            "width": null
          }
        },
        "41a83535565a47409300cf0d26901afa": {
          "model_module": "@jupyter-widgets/controls",
          "model_module_version": "1.5.0",
          "model_name": "DescriptionStyleModel",
          "state": {
            "_model_module": "@jupyter-widgets/controls",
            "_model_module_version": "1.5.0",
            "_model_name": "DescriptionStyleModel",
            "_view_count": null,
            "_view_module": "@jupyter-widgets/base",
            "_view_module_version": "1.2.0",
            "_view_name": "StyleView",
            "description_width": ""
          }
        },
        "481693181ae445e5a0c0abb6cb6394a5": {
          "model_module": "@jupyter-widgets/controls",
          "model_module_version": "1.5.0",
          "model_name": "HBoxModel",
          "state": {
            "_dom_classes": [],
            "_model_module": "@jupyter-widgets/controls",
            "_model_module_version": "1.5.0",
            "_model_name": "HBoxModel",
            "_view_count": null,
            "_view_module": "@jupyter-widgets/controls",
            "_view_module_version": "1.5.0",
            "_view_name": "HBoxView",
            "box_style": "",
            "children": [
              "IPY_MODEL_8a49b2d387344b2dbf5b02b3756bfebf",
              "IPY_MODEL_542d54476950416faea678fe96b364ea",
              "IPY_MODEL_f7589978e8a949e0962da2ce01548a1a"
            ],
            "layout": "IPY_MODEL_77539aacf85e496fafdb3751ab83502e"
          }
        },
        "542d54476950416faea678fe96b364ea": {
          "model_module": "@jupyter-widgets/controls",
          "model_module_version": "1.5.0",
          "model_name": "FloatProgressModel",
          "state": {
            "_dom_classes": [],
            "_model_module": "@jupyter-widgets/controls",
            "_model_module_version": "1.5.0",
            "_model_name": "FloatProgressModel",
            "_view_count": null,
            "_view_module": "@jupyter-widgets/controls",
            "_view_module_version": "1.5.0",
            "_view_name": "ProgressView",
            "bar_style": "success",
            "description": "",
            "description_tooltip": null,
            "layout": "IPY_MODEL_e13c6324c07b48ceb8276833ebed7fa2",
            "max": 38578,
            "min": 0,
            "orientation": "horizontal",
            "style": "IPY_MODEL_f312232693ef462c90d6bda146d2fdee",
            "value": 38578
          }
        },
        "55b68c39e10f4050ac2a2f37db7c6af4": {
          "model_module": "@jupyter-widgets/base",
          "model_module_version": "1.2.0",
          "model_name": "LayoutModel",
          "state": {
            "_model_module": "@jupyter-widgets/base",
            "_model_module_version": "1.2.0",
            "_model_name": "LayoutModel",
            "_view_count": null,
            "_view_module": "@jupyter-widgets/base",
            "_view_module_version": "1.2.0",
            "_view_name": "LayoutView",
            "align_content": null,
            "align_items": null,
            "align_self": null,
            "border": null,
            "bottom": null,
            "display": null,
            "flex": null,
            "flex_flow": null,
            "grid_area": null,
            "grid_auto_columns": null,
            "grid_auto_flow": null,
            "grid_auto_rows": null,
            "grid_column": null,
            "grid_gap": null,
            "grid_row": null,
            "grid_template_areas": null,
            "grid_template_columns": null,
            "grid_template_rows": null,
            "height": null,
            "justify_content": null,
            "justify_items": null,
            "left": null,
            "margin": null,
            "max_height": null,
            "max_width": null,
            "min_height": null,
            "min_width": null,
            "object_fit": null,
            "object_position": null,
            "order": null,
            "overflow": null,
            "overflow_x": null,
            "overflow_y": null,
            "padding": null,
            "right": null,
            "top": null,
            "visibility": null,
            "width": null
          }
        },
        "56e15949f4a84d7889574d62bf41cb88": {
          "model_module": "@jupyter-widgets/controls",
          "model_module_version": "1.5.0",
          "model_name": "HBoxModel",
          "state": {
            "_dom_classes": [],
            "_model_module": "@jupyter-widgets/controls",
            "_model_module_version": "1.5.0",
            "_model_name": "HBoxModel",
            "_view_count": null,
            "_view_module": "@jupyter-widgets/controls",
            "_view_module_version": "1.5.0",
            "_view_name": "HBoxView",
            "box_style": "",
            "children": [
              "IPY_MODEL_631c5181d713479d8616c50d18cf7e52",
              "IPY_MODEL_355bd767ec4f4449a5cb3eb00e49dab3",
              "IPY_MODEL_5732b7057a6d47eb89bf375ac9f7ec3d"
            ],
            "layout": "IPY_MODEL_bea62bf57f7e4b3984ce3831d5952170"
          }
        },
        "5732b7057a6d47eb89bf375ac9f7ec3d": {
          "model_module": "@jupyter-widgets/controls",
          "model_module_version": "1.5.0",
          "model_name": "HTMLModel",
          "state": {
            "_dom_classes": [],
            "_model_module": "@jupyter-widgets/controls",
            "_model_module_version": "1.5.0",
            "_model_name": "HTMLModel",
            "_view_count": null,
            "_view_module": "@jupyter-widgets/controls",
            "_view_module_version": "1.5.0",
            "_view_name": "HTMLView",
            "description": "",
            "description_tooltip": null,
            "layout": "IPY_MODEL_0b4a6374a3c743a78cf6f317e5efeb99",
            "placeholder": "​",
            "style": "IPY_MODEL_bce77a1c632c49338b148cb8349ce4f8",
            "value": " 38578/38578 [17:04&lt;00:00, 34.65it/s]"
          }
        },
        "5ac92417016b488e838f3cfc5ffb083c": {
          "model_module": "@jupyter-widgets/controls",
          "model_module_version": "1.5.0",
          "model_name": "DescriptionStyleModel",
          "state": {
            "_model_module": "@jupyter-widgets/controls",
            "_model_module_version": "1.5.0",
            "_model_name": "DescriptionStyleModel",
            "_view_count": null,
            "_view_module": "@jupyter-widgets/base",
            "_view_module_version": "1.2.0",
            "_view_name": "StyleView",
            "description_width": ""
          }
        },
        "5e417586b900477180903916c717cea5": {
          "model_module": "@jupyter-widgets/controls",
          "model_module_version": "1.5.0",
          "model_name": "HBoxModel",
          "state": {
            "_dom_classes": [],
            "_model_module": "@jupyter-widgets/controls",
            "_model_module_version": "1.5.0",
            "_model_name": "HBoxModel",
            "_view_count": null,
            "_view_module": "@jupyter-widgets/controls",
            "_view_module_version": "1.5.0",
            "_view_name": "HBoxView",
            "box_style": "",
            "children": [
              "IPY_MODEL_88c0e3dec95a4735a7707d917a8d03bd",
              "IPY_MODEL_99b1ffabd9e545ff8348ec1b9a6fa6e2",
              "IPY_MODEL_9827e4d1a0474028bd0d20a48318e294"
            ],
            "layout": "IPY_MODEL_bce442fbc6ed4e778384b66cddbb12ff"
          }
        },
        "631c5181d713479d8616c50d18cf7e52": {
          "model_module": "@jupyter-widgets/controls",
          "model_module_version": "1.5.0",
          "model_name": "HTMLModel",
          "state": {
            "_dom_classes": [],
            "_model_module": "@jupyter-widgets/controls",
            "_model_module_version": "1.5.0",
            "_model_name": "HTMLModel",
            "_view_count": null,
            "_view_module": "@jupyter-widgets/controls",
            "_view_module_version": "1.5.0",
            "_view_name": "HTMLView",
            "description": "",
            "description_tooltip": null,
            "layout": "IPY_MODEL_37bf0a83a4964d80917fe4ffc40d3c24",
            "placeholder": "​",
            "style": "IPY_MODEL_d30f0073fc5a49b6baa0bc1b5fc199a6",
            "value": "100%"
          }
        },
        "6938e32dda614e40a40990a6561697b0": {
          "model_module": "@jupyter-widgets/base",
          "model_module_version": "1.2.0",
          "model_name": "LayoutModel",
          "state": {
            "_model_module": "@jupyter-widgets/base",
            "_model_module_version": "1.2.0",
            "_model_name": "LayoutModel",
            "_view_count": null,
            "_view_module": "@jupyter-widgets/base",
            "_view_module_version": "1.2.0",
            "_view_name": "LayoutView",
            "align_content": null,
            "align_items": null,
            "align_self": null,
            "border": null,
            "bottom": null,
            "display": null,
            "flex": null,
            "flex_flow": null,
            "grid_area": null,
            "grid_auto_columns": null,
            "grid_auto_flow": null,
            "grid_auto_rows": null,
            "grid_column": null,
            "grid_gap": null,
            "grid_row": null,
            "grid_template_areas": null,
            "grid_template_columns": null,
            "grid_template_rows": null,
            "height": null,
            "justify_content": null,
            "justify_items": null,
            "left": null,
            "margin": null,
            "max_height": null,
            "max_width": null,
            "min_height": null,
            "min_width": null,
            "object_fit": null,
            "object_position": null,
            "order": null,
            "overflow": null,
            "overflow_x": null,
            "overflow_y": null,
            "padding": null,
            "right": null,
            "top": null,
            "visibility": null,
            "width": null
          }
        },
        "6ec2accfbe80413a8e7b8aed5fd0dcf8": {
          "model_module": "@jupyter-widgets/base",
          "model_module_version": "1.2.0",
          "model_name": "LayoutModel",
          "state": {
            "_model_module": "@jupyter-widgets/base",
            "_model_module_version": "1.2.0",
            "_model_name": "LayoutModel",
            "_view_count": null,
            "_view_module": "@jupyter-widgets/base",
            "_view_module_version": "1.2.0",
            "_view_name": "LayoutView",
            "align_content": null,
            "align_items": null,
            "align_self": null,
            "border": null,
            "bottom": null,
            "display": null,
            "flex": null,
            "flex_flow": null,
            "grid_area": null,
            "grid_auto_columns": null,
            "grid_auto_flow": null,
            "grid_auto_rows": null,
            "grid_column": null,
            "grid_gap": null,
            "grid_row": null,
            "grid_template_areas": null,
            "grid_template_columns": null,
            "grid_template_rows": null,
            "height": null,
            "justify_content": null,
            "justify_items": null,
            "left": null,
            "margin": null,
            "max_height": null,
            "max_width": null,
            "min_height": null,
            "min_width": null,
            "object_fit": null,
            "object_position": null,
            "order": null,
            "overflow": null,
            "overflow_x": null,
            "overflow_y": null,
            "padding": null,
            "right": null,
            "top": null,
            "visibility": null,
            "width": null
          }
        },
        "77539aacf85e496fafdb3751ab83502e": {
          "model_module": "@jupyter-widgets/base",
          "model_module_version": "1.2.0",
          "model_name": "LayoutModel",
          "state": {
            "_model_module": "@jupyter-widgets/base",
            "_model_module_version": "1.2.0",
            "_model_name": "LayoutModel",
            "_view_count": null,
            "_view_module": "@jupyter-widgets/base",
            "_view_module_version": "1.2.0",
            "_view_name": "LayoutView",
            "align_content": null,
            "align_items": null,
            "align_self": null,
            "border": null,
            "bottom": null,
            "display": null,
            "flex": null,
            "flex_flow": null,
            "grid_area": null,
            "grid_auto_columns": null,
            "grid_auto_flow": null,
            "grid_auto_rows": null,
            "grid_column": null,
            "grid_gap": null,
            "grid_row": null,
            "grid_template_areas": null,
            "grid_template_columns": null,
            "grid_template_rows": null,
            "height": null,
            "justify_content": null,
            "justify_items": null,
            "left": null,
            "margin": null,
            "max_height": null,
            "max_width": null,
            "min_height": null,
            "min_width": null,
            "object_fit": null,
            "object_position": null,
            "order": null,
            "overflow": null,
            "overflow_x": null,
            "overflow_y": null,
            "padding": null,
            "right": null,
            "top": null,
            "visibility": null,
            "width": null
          }
        },
        "86af5f957099484c86c312f977a3eec8": {
          "model_module": "@jupyter-widgets/base",
          "model_module_version": "1.2.0",
          "model_name": "LayoutModel",
          "state": {
            "_model_module": "@jupyter-widgets/base",
            "_model_module_version": "1.2.0",
            "_model_name": "LayoutModel",
            "_view_count": null,
            "_view_module": "@jupyter-widgets/base",
            "_view_module_version": "1.2.0",
            "_view_name": "LayoutView",
            "align_content": null,
            "align_items": null,
            "align_self": null,
            "border": null,
            "bottom": null,
            "display": null,
            "flex": null,
            "flex_flow": null,
            "grid_area": null,
            "grid_auto_columns": null,
            "grid_auto_flow": null,
            "grid_auto_rows": null,
            "grid_column": null,
            "grid_gap": null,
            "grid_row": null,
            "grid_template_areas": null,
            "grid_template_columns": null,
            "grid_template_rows": null,
            "height": null,
            "justify_content": null,
            "justify_items": null,
            "left": null,
            "margin": null,
            "max_height": null,
            "max_width": null,
            "min_height": null,
            "min_width": null,
            "object_fit": null,
            "object_position": null,
            "order": null,
            "overflow": null,
            "overflow_x": null,
            "overflow_y": null,
            "padding": null,
            "right": null,
            "top": null,
            "visibility": null,
            "width": null
          }
        },
        "88c0e3dec95a4735a7707d917a8d03bd": {
          "model_module": "@jupyter-widgets/controls",
          "model_module_version": "1.5.0",
          "model_name": "HTMLModel",
          "state": {
            "_dom_classes": [],
            "_model_module": "@jupyter-widgets/controls",
            "_model_module_version": "1.5.0",
            "_model_name": "HTMLModel",
            "_view_count": null,
            "_view_module": "@jupyter-widgets/controls",
            "_view_module_version": "1.5.0",
            "_view_name": "HTMLView",
            "description": "",
            "description_tooltip": null,
            "layout": "IPY_MODEL_cdbc4ea115954ca180399b3298958bf3",
            "placeholder": "​",
            "style": "IPY_MODEL_e50efb8eef9a4c8db7fb9d6727a20940",
            "value": "100%"
          }
        },
        "8a49b2d387344b2dbf5b02b3756bfebf": {
          "model_module": "@jupyter-widgets/controls",
          "model_module_version": "1.5.0",
          "model_name": "HTMLModel",
          "state": {
            "_dom_classes": [],
            "_model_module": "@jupyter-widgets/controls",
            "_model_module_version": "1.5.0",
            "_model_name": "HTMLModel",
            "_view_count": null,
            "_view_module": "@jupyter-widgets/controls",
            "_view_module_version": "1.5.0",
            "_view_name": "HTMLView",
            "description": "",
            "description_tooltip": null,
            "layout": "IPY_MODEL_55b68c39e10f4050ac2a2f37db7c6af4",
            "placeholder": "​",
            "style": "IPY_MODEL_8a6405d75d974a50bd3c71a2a5d8227b",
            "value": "100%"
          }
        },
        "8a6405d75d974a50bd3c71a2a5d8227b": {
          "model_module": "@jupyter-widgets/controls",
          "model_module_version": "1.5.0",
          "model_name": "DescriptionStyleModel",
          "state": {
            "_model_module": "@jupyter-widgets/controls",
            "_model_module_version": "1.5.0",
            "_model_name": "DescriptionStyleModel",
            "_view_count": null,
            "_view_module": "@jupyter-widgets/base",
            "_view_module_version": "1.2.0",
            "_view_name": "StyleView",
            "description_width": ""
          }
        },
        "8b9a57aa32cd42fc98fcc939e9bec687": {
          "model_module": "@jupyter-widgets/base",
          "model_module_version": "1.2.0",
          "model_name": "LayoutModel",
          "state": {
            "_model_module": "@jupyter-widgets/base",
            "_model_module_version": "1.2.0",
            "_model_name": "LayoutModel",
            "_view_count": null,
            "_view_module": "@jupyter-widgets/base",
            "_view_module_version": "1.2.0",
            "_view_name": "LayoutView",
            "align_content": null,
            "align_items": null,
            "align_self": null,
            "border": null,
            "bottom": null,
            "display": null,
            "flex": null,
            "flex_flow": null,
            "grid_area": null,
            "grid_auto_columns": null,
            "grid_auto_flow": null,
            "grid_auto_rows": null,
            "grid_column": null,
            "grid_gap": null,
            "grid_row": null,
            "grid_template_areas": null,
            "grid_template_columns": null,
            "grid_template_rows": null,
            "height": null,
            "justify_content": null,
            "justify_items": null,
            "left": null,
            "margin": null,
            "max_height": null,
            "max_width": null,
            "min_height": null,
            "min_width": null,
            "object_fit": null,
            "object_position": null,
            "order": null,
            "overflow": null,
            "overflow_x": null,
            "overflow_y": null,
            "padding": null,
            "right": null,
            "top": null,
            "visibility": null,
            "width": null
          }
        },
        "905535fa3e964f2cab1a30189cf821e8": {
          "model_module": "@jupyter-widgets/base",
          "model_module_version": "1.2.0",
          "model_name": "LayoutModel",
          "state": {
            "_model_module": "@jupyter-widgets/base",
            "_model_module_version": "1.2.0",
            "_model_name": "LayoutModel",
            "_view_count": null,
            "_view_module": "@jupyter-widgets/base",
            "_view_module_version": "1.2.0",
            "_view_name": "LayoutView",
            "align_content": null,
            "align_items": null,
            "align_self": null,
            "border": null,
            "bottom": null,
            "display": null,
            "flex": null,
            "flex_flow": null,
            "grid_area": null,
            "grid_auto_columns": null,
            "grid_auto_flow": null,
            "grid_auto_rows": null,
            "grid_column": null,
            "grid_gap": null,
            "grid_row": null,
            "grid_template_areas": null,
            "grid_template_columns": null,
            "grid_template_rows": null,
            "height": null,
            "justify_content": null,
            "justify_items": null,
            "left": null,
            "margin": null,
            "max_height": null,
            "max_width": null,
            "min_height": null,
            "min_width": null,
            "object_fit": null,
            "object_position": null,
            "order": null,
            "overflow": null,
            "overflow_x": null,
            "overflow_y": null,
            "padding": null,
            "right": null,
            "top": null,
            "visibility": null,
            "width": null
          }
        },
        "96c483d8608d4d1182e0f6adedd8ae02": {
          "model_module": "@jupyter-widgets/controls",
          "model_module_version": "1.5.0",
          "model_name": "FloatProgressModel",
          "state": {
            "_dom_classes": [],
            "_model_module": "@jupyter-widgets/controls",
            "_model_module_version": "1.5.0",
            "_model_name": "FloatProgressModel",
            "_view_count": null,
            "_view_module": "@jupyter-widgets/controls",
            "_view_module_version": "1.5.0",
            "_view_name": "ProgressView",
            "bar_style": "success",
            "description": "",
            "description_tooltip": null,
            "layout": "IPY_MODEL_bccdcbb0e1cc4975ab612d6bb5448939",
            "max": 38578,
            "min": 0,
            "orientation": "horizontal",
            "style": "IPY_MODEL_0bb5117031404f2c92d6782d6f97e49c",
            "value": 38578
          }
        },
        "96f0fe1fc9214651924cc8b7f167b1aa": {
          "model_module": "@jupyter-widgets/controls",
          "model_module_version": "1.5.0",
          "model_name": "DescriptionStyleModel",
          "state": {
            "_model_module": "@jupyter-widgets/controls",
            "_model_module_version": "1.5.0",
            "_model_name": "DescriptionStyleModel",
            "_view_count": null,
            "_view_module": "@jupyter-widgets/base",
            "_view_module_version": "1.2.0",
            "_view_name": "StyleView",
            "description_width": ""
          }
        },
        "9827e4d1a0474028bd0d20a48318e294": {
          "model_module": "@jupyter-widgets/controls",
          "model_module_version": "1.5.0",
          "model_name": "HTMLModel",
          "state": {
            "_dom_classes": [],
            "_model_module": "@jupyter-widgets/controls",
            "_model_module_version": "1.5.0",
            "_model_name": "HTMLModel",
            "_view_count": null,
            "_view_module": "@jupyter-widgets/controls",
            "_view_module_version": "1.5.0",
            "_view_name": "HTMLView",
            "description": "",
            "description_tooltip": null,
            "layout": "IPY_MODEL_c9cd4a6e5cf64e7f9ff6d7145729558b",
            "placeholder": "​",
            "style": "IPY_MODEL_96f0fe1fc9214651924cc8b7f167b1aa",
            "value": " 38578/38578 [17:07&lt;00:00, 42.21it/s]"
          }
        },
        "99b1ffabd9e545ff8348ec1b9a6fa6e2": {
          "model_module": "@jupyter-widgets/controls",
          "model_module_version": "1.5.0",
          "model_name": "FloatProgressModel",
          "state": {
            "_dom_classes": [],
            "_model_module": "@jupyter-widgets/controls",
            "_model_module_version": "1.5.0",
            "_model_name": "FloatProgressModel",
            "_view_count": null,
            "_view_module": "@jupyter-widgets/controls",
            "_view_module_version": "1.5.0",
            "_view_name": "ProgressView",
            "bar_style": "success",
            "description": "",
            "description_tooltip": null,
            "layout": "IPY_MODEL_905535fa3e964f2cab1a30189cf821e8",
            "max": 38578,
            "min": 0,
            "orientation": "horizontal",
            "style": "IPY_MODEL_9c901af65d404cd69c12c049160b3034",
            "value": 38578
          }
        },
        "9c901af65d404cd69c12c049160b3034": {
          "model_module": "@jupyter-widgets/controls",
          "model_module_version": "1.5.0",
          "model_name": "ProgressStyleModel",
          "state": {
            "_model_module": "@jupyter-widgets/controls",
            "_model_module_version": "1.5.0",
            "_model_name": "ProgressStyleModel",
            "_view_count": null,
            "_view_module": "@jupyter-widgets/base",
            "_view_module_version": "1.2.0",
            "_view_name": "StyleView",
            "bar_color": null,
            "description_width": ""
          }
        },
        "9c972cddc3e04cd0aa97735f8f59b8c1": {
          "model_module": "@jupyter-widgets/base",
          "model_module_version": "1.2.0",
          "model_name": "LayoutModel",
          "state": {
            "_model_module": "@jupyter-widgets/base",
            "_model_module_version": "1.2.0",
            "_model_name": "LayoutModel",
            "_view_count": null,
            "_view_module": "@jupyter-widgets/base",
            "_view_module_version": "1.2.0",
            "_view_name": "LayoutView",
            "align_content": null,
            "align_items": null,
            "align_self": null,
            "border": null,
            "bottom": null,
            "display": null,
            "flex": null,
            "flex_flow": null,
            "grid_area": null,
            "grid_auto_columns": null,
            "grid_auto_flow": null,
            "grid_auto_rows": null,
            "grid_column": null,
            "grid_gap": null,
            "grid_row": null,
            "grid_template_areas": null,
            "grid_template_columns": null,
            "grid_template_rows": null,
            "height": null,
            "justify_content": null,
            "justify_items": null,
            "left": null,
            "margin": null,
            "max_height": null,
            "max_width": null,
            "min_height": null,
            "min_width": null,
            "object_fit": null,
            "object_position": null,
            "order": null,
            "overflow": null,
            "overflow_x": null,
            "overflow_y": null,
            "padding": null,
            "right": null,
            "top": null,
            "visibility": null,
            "width": null
          }
        },
        "a3aec3eed57e4b678c4704df40fe6090": {
          "model_module": "@jupyter-widgets/controls",
          "model_module_version": "1.5.0",
          "model_name": "HTMLModel",
          "state": {
            "_dom_classes": [],
            "_model_module": "@jupyter-widgets/controls",
            "_model_module_version": "1.5.0",
            "_model_name": "HTMLModel",
            "_view_count": null,
            "_view_module": "@jupyter-widgets/controls",
            "_view_module_version": "1.5.0",
            "_view_name": "HTMLView",
            "description": "",
            "description_tooltip": null,
            "layout": "IPY_MODEL_15a9f60c1f114975b4e2f997f83c3fe6",
            "placeholder": "​",
            "style": "IPY_MODEL_a8bd0cc8c80c438b9362b8d9434da070",
            "value": "100%"
          }
        },
        "a481e06f37e14509b01cd78ace842fca": {
          "model_module": "@jupyter-widgets/controls",
          "model_module_version": "1.5.0",
          "model_name": "HBoxModel",
          "state": {
            "_dom_classes": [],
            "_model_module": "@jupyter-widgets/controls",
            "_model_module_version": "1.5.0",
            "_model_name": "HBoxModel",
            "_view_count": null,
            "_view_module": "@jupyter-widgets/controls",
            "_view_module_version": "1.5.0",
            "_view_name": "HBoxView",
            "box_style": "",
            "children": [
              "IPY_MODEL_a3aec3eed57e4b678c4704df40fe6090",
              "IPY_MODEL_96c483d8608d4d1182e0f6adedd8ae02",
              "IPY_MODEL_bd6ff3f453d94c229910009457d6fb93"
            ],
            "layout": "IPY_MODEL_8b9a57aa32cd42fc98fcc939e9bec687"
          }
        },
        "a6a867268e3b449b9724c327f8b19f78": {
          "model_module": "@jupyter-widgets/base",
          "model_module_version": "1.2.0",
          "model_name": "LayoutModel",
          "state": {
            "_model_module": "@jupyter-widgets/base",
            "_model_module_version": "1.2.0",
            "_model_name": "LayoutModel",
            "_view_count": null,
            "_view_module": "@jupyter-widgets/base",
            "_view_module_version": "1.2.0",
            "_view_name": "LayoutView",
            "align_content": null,
            "align_items": null,
            "align_self": null,
            "border": null,
            "bottom": null,
            "display": null,
            "flex": null,
            "flex_flow": null,
            "grid_area": null,
            "grid_auto_columns": null,
            "grid_auto_flow": null,
            "grid_auto_rows": null,
            "grid_column": null,
            "grid_gap": null,
            "grid_row": null,
            "grid_template_areas": null,
            "grid_template_columns": null,
            "grid_template_rows": null,
            "height": null,
            "justify_content": null,
            "justify_items": null,
            "left": null,
            "margin": null,
            "max_height": null,
            "max_width": null,
            "min_height": null,
            "min_width": null,
            "object_fit": null,
            "object_position": null,
            "order": null,
            "overflow": null,
            "overflow_x": null,
            "overflow_y": null,
            "padding": null,
            "right": null,
            "top": null,
            "visibility": null,
            "width": null
          }
        },
        "a8bd0cc8c80c438b9362b8d9434da070": {
          "model_module": "@jupyter-widgets/controls",
          "model_module_version": "1.5.0",
          "model_name": "DescriptionStyleModel",
          "state": {
            "_model_module": "@jupyter-widgets/controls",
            "_model_module_version": "1.5.0",
            "_model_name": "DescriptionStyleModel",
            "_view_count": null,
            "_view_module": "@jupyter-widgets/base",
            "_view_module_version": "1.2.0",
            "_view_name": "StyleView",
            "description_width": ""
          }
        },
        "ae16b146df01468ab60acb64acd0ba3c": {
          "model_module": "@jupyter-widgets/controls",
          "model_module_version": "1.5.0",
          "model_name": "HTMLModel",
          "state": {
            "_dom_classes": [],
            "_model_module": "@jupyter-widgets/controls",
            "_model_module_version": "1.5.0",
            "_model_name": "HTMLModel",
            "_view_count": null,
            "_view_module": "@jupyter-widgets/controls",
            "_view_module_version": "1.5.0",
            "_view_name": "HTMLView",
            "description": "",
            "description_tooltip": null,
            "layout": "IPY_MODEL_a6a867268e3b449b9724c327f8b19f78",
            "placeholder": "​",
            "style": "IPY_MODEL_5ac92417016b488e838f3cfc5ffb083c",
            "value": "100%"
          }
        },
        "b5566b6acb8a4037b0bce045cee99e62": {
          "model_module": "@jupyter-widgets/controls",
          "model_module_version": "1.5.0",
          "model_name": "ProgressStyleModel",
          "state": {
            "_model_module": "@jupyter-widgets/controls",
            "_model_module_version": "1.5.0",
            "_model_name": "ProgressStyleModel",
            "_view_count": null,
            "_view_module": "@jupyter-widgets/base",
            "_view_module_version": "1.2.0",
            "_view_name": "StyleView",
            "bar_color": null,
            "description_width": ""
          }
        },
        "bccdcbb0e1cc4975ab612d6bb5448939": {
          "model_module": "@jupyter-widgets/base",
          "model_module_version": "1.2.0",
          "model_name": "LayoutModel",
          "state": {
            "_model_module": "@jupyter-widgets/base",
            "_model_module_version": "1.2.0",
            "_model_name": "LayoutModel",
            "_view_count": null,
            "_view_module": "@jupyter-widgets/base",
            "_view_module_version": "1.2.0",
            "_view_name": "LayoutView",
            "align_content": null,
            "align_items": null,
            "align_self": null,
            "border": null,
            "bottom": null,
            "display": null,
            "flex": null,
            "flex_flow": null,
            "grid_area": null,
            "grid_auto_columns": null,
            "grid_auto_flow": null,
            "grid_auto_rows": null,
            "grid_column": null,
            "grid_gap": null,
            "grid_row": null,
            "grid_template_areas": null,
            "grid_template_columns": null,
            "grid_template_rows": null,
            "height": null,
            "justify_content": null,
            "justify_items": null,
            "left": null,
            "margin": null,
            "max_height": null,
            "max_width": null,
            "min_height": null,
            "min_width": null,
            "object_fit": null,
            "object_position": null,
            "order": null,
            "overflow": null,
            "overflow_x": null,
            "overflow_y": null,
            "padding": null,
            "right": null,
            "top": null,
            "visibility": null,
            "width": null
          }
        },
        "bce442fbc6ed4e778384b66cddbb12ff": {
          "model_module": "@jupyter-widgets/base",
          "model_module_version": "1.2.0",
          "model_name": "LayoutModel",
          "state": {
            "_model_module": "@jupyter-widgets/base",
            "_model_module_version": "1.2.0",
            "_model_name": "LayoutModel",
            "_view_count": null,
            "_view_module": "@jupyter-widgets/base",
            "_view_module_version": "1.2.0",
            "_view_name": "LayoutView",
            "align_content": null,
            "align_items": null,
            "align_self": null,
            "border": null,
            "bottom": null,
            "display": null,
            "flex": null,
            "flex_flow": null,
            "grid_area": null,
            "grid_auto_columns": null,
            "grid_auto_flow": null,
            "grid_auto_rows": null,
            "grid_column": null,
            "grid_gap": null,
            "grid_row": null,
            "grid_template_areas": null,
            "grid_template_columns": null,
            "grid_template_rows": null,
            "height": null,
            "justify_content": null,
            "justify_items": null,
            "left": null,
            "margin": null,
            "max_height": null,
            "max_width": null,
            "min_height": null,
            "min_width": null,
            "object_fit": null,
            "object_position": null,
            "order": null,
            "overflow": null,
            "overflow_x": null,
            "overflow_y": null,
            "padding": null,
            "right": null,
            "top": null,
            "visibility": null,
            "width": null
          }
        },
        "bce77a1c632c49338b148cb8349ce4f8": {
          "model_module": "@jupyter-widgets/controls",
          "model_module_version": "1.5.0",
          "model_name": "DescriptionStyleModel",
          "state": {
            "_model_module": "@jupyter-widgets/controls",
            "_model_module_version": "1.5.0",
            "_model_name": "DescriptionStyleModel",
            "_view_count": null,
            "_view_module": "@jupyter-widgets/base",
            "_view_module_version": "1.2.0",
            "_view_name": "StyleView",
            "description_width": ""
          }
        },
        "bd6ff3f453d94c229910009457d6fb93": {
          "model_module": "@jupyter-widgets/controls",
          "model_module_version": "1.5.0",
          "model_name": "HTMLModel",
          "state": {
            "_dom_classes": [],
            "_model_module": "@jupyter-widgets/controls",
            "_model_module_version": "1.5.0",
            "_model_name": "HTMLModel",
            "_view_count": null,
            "_view_module": "@jupyter-widgets/controls",
            "_view_module_version": "1.5.0",
            "_view_name": "HTMLView",
            "description": "",
            "description_tooltip": null,
            "layout": "IPY_MODEL_6938e32dda614e40a40990a6561697b0",
            "placeholder": "​",
            "style": "IPY_MODEL_41a83535565a47409300cf0d26901afa",
            "value": " 38578/38578 [16:56&lt;00:00, 39.16it/s]"
          }
        },
        "bea62bf57f7e4b3984ce3831d5952170": {
          "model_module": "@jupyter-widgets/base",
          "model_module_version": "1.2.0",
          "model_name": "LayoutModel",
          "state": {
            "_model_module": "@jupyter-widgets/base",
            "_model_module_version": "1.2.0",
            "_model_name": "LayoutModel",
            "_view_count": null,
            "_view_module": "@jupyter-widgets/base",
            "_view_module_version": "1.2.0",
            "_view_name": "LayoutView",
            "align_content": null,
            "align_items": null,
            "align_self": null,
            "border": null,
            "bottom": null,
            "display": null,
            "flex": null,
            "flex_flow": null,
            "grid_area": null,
            "grid_auto_columns": null,
            "grid_auto_flow": null,
            "grid_auto_rows": null,
            "grid_column": null,
            "grid_gap": null,
            "grid_row": null,
            "grid_template_areas": null,
            "grid_template_columns": null,
            "grid_template_rows": null,
            "height": null,
            "justify_content": null,
            "justify_items": null,
            "left": null,
            "margin": null,
            "max_height": null,
            "max_width": null,
            "min_height": null,
            "min_width": null,
            "object_fit": null,
            "object_position": null,
            "order": null,
            "overflow": null,
            "overflow_x": null,
            "overflow_y": null,
            "padding": null,
            "right": null,
            "top": null,
            "visibility": null,
            "width": null
          }
        },
        "c91247b43dfb44e49fc098e82be64085": {
          "model_module": "@jupyter-widgets/base",
          "model_module_version": "1.2.0",
          "model_name": "LayoutModel",
          "state": {
            "_model_module": "@jupyter-widgets/base",
            "_model_module_version": "1.2.0",
            "_model_name": "LayoutModel",
            "_view_count": null,
            "_view_module": "@jupyter-widgets/base",
            "_view_module_version": "1.2.0",
            "_view_name": "LayoutView",
            "align_content": null,
            "align_items": null,
            "align_self": null,
            "border": null,
            "bottom": null,
            "display": null,
            "flex": null,
            "flex_flow": null,
            "grid_area": null,
            "grid_auto_columns": null,
            "grid_auto_flow": null,
            "grid_auto_rows": null,
            "grid_column": null,
            "grid_gap": null,
            "grid_row": null,
            "grid_template_areas": null,
            "grid_template_columns": null,
            "grid_template_rows": null,
            "height": null,
            "justify_content": null,
            "justify_items": null,
            "left": null,
            "margin": null,
            "max_height": null,
            "max_width": null,
            "min_height": null,
            "min_width": null,
            "object_fit": null,
            "object_position": null,
            "order": null,
            "overflow": null,
            "overflow_x": null,
            "overflow_y": null,
            "padding": null,
            "right": null,
            "top": null,
            "visibility": null,
            "width": null
          }
        },
        "c9cd4a6e5cf64e7f9ff6d7145729558b": {
          "model_module": "@jupyter-widgets/base",
          "model_module_version": "1.2.0",
          "model_name": "LayoutModel",
          "state": {
            "_model_module": "@jupyter-widgets/base",
            "_model_module_version": "1.2.0",
            "_model_name": "LayoutModel",
            "_view_count": null,
            "_view_module": "@jupyter-widgets/base",
            "_view_module_version": "1.2.0",
            "_view_name": "LayoutView",
            "align_content": null,
            "align_items": null,
            "align_self": null,
            "border": null,
            "bottom": null,
            "display": null,
            "flex": null,
            "flex_flow": null,
            "grid_area": null,
            "grid_auto_columns": null,
            "grid_auto_flow": null,
            "grid_auto_rows": null,
            "grid_column": null,
            "grid_gap": null,
            "grid_row": null,
            "grid_template_areas": null,
            "grid_template_columns": null,
            "grid_template_rows": null,
            "height": null,
            "justify_content": null,
            "justify_items": null,
            "left": null,
            "margin": null,
            "max_height": null,
            "max_width": null,
            "min_height": null,
            "min_width": null,
            "object_fit": null,
            "object_position": null,
            "order": null,
            "overflow": null,
            "overflow_x": null,
            "overflow_y": null,
            "padding": null,
            "right": null,
            "top": null,
            "visibility": null,
            "width": null
          }
        },
        "cc10f0bc88674375aa3db7d5c9b75de7": {
          "model_module": "@jupyter-widgets/controls",
          "model_module_version": "1.5.0",
          "model_name": "ProgressStyleModel",
          "state": {
            "_model_module": "@jupyter-widgets/controls",
            "_model_module_version": "1.5.0",
            "_model_name": "ProgressStyleModel",
            "_view_count": null,
            "_view_module": "@jupyter-widgets/base",
            "_view_module_version": "1.2.0",
            "_view_name": "StyleView",
            "bar_color": null,
            "description_width": ""
          }
        },
        "cdbc4ea115954ca180399b3298958bf3": {
          "model_module": "@jupyter-widgets/base",
          "model_module_version": "1.2.0",
          "model_name": "LayoutModel",
          "state": {
            "_model_module": "@jupyter-widgets/base",
            "_model_module_version": "1.2.0",
            "_model_name": "LayoutModel",
            "_view_count": null,
            "_view_module": "@jupyter-widgets/base",
            "_view_module_version": "1.2.0",
            "_view_name": "LayoutView",
            "align_content": null,
            "align_items": null,
            "align_self": null,
            "border": null,
            "bottom": null,
            "display": null,
            "flex": null,
            "flex_flow": null,
            "grid_area": null,
            "grid_auto_columns": null,
            "grid_auto_flow": null,
            "grid_auto_rows": null,
            "grid_column": null,
            "grid_gap": null,
            "grid_row": null,
            "grid_template_areas": null,
            "grid_template_columns": null,
            "grid_template_rows": null,
            "height": null,
            "justify_content": null,
            "justify_items": null,
            "left": null,
            "margin": null,
            "max_height": null,
            "max_width": null,
            "min_height": null,
            "min_width": null,
            "object_fit": null,
            "object_position": null,
            "order": null,
            "overflow": null,
            "overflow_x": null,
            "overflow_y": null,
            "padding": null,
            "right": null,
            "top": null,
            "visibility": null,
            "width": null
          }
        },
        "d30f0073fc5a49b6baa0bc1b5fc199a6": {
          "model_module": "@jupyter-widgets/controls",
          "model_module_version": "1.5.0",
          "model_name": "DescriptionStyleModel",
          "state": {
            "_model_module": "@jupyter-widgets/controls",
            "_model_module_version": "1.5.0",
            "_model_name": "DescriptionStyleModel",
            "_view_count": null,
            "_view_module": "@jupyter-widgets/base",
            "_view_module_version": "1.2.0",
            "_view_name": "StyleView",
            "description_width": ""
          }
        },
        "daac09f117984a219315d2cb723ff2dd": {
          "model_module": "@jupyter-widgets/controls",
          "model_module_version": "1.5.0",
          "model_name": "DescriptionStyleModel",
          "state": {
            "_model_module": "@jupyter-widgets/controls",
            "_model_module_version": "1.5.0",
            "_model_name": "DescriptionStyleModel",
            "_view_count": null,
            "_view_module": "@jupyter-widgets/base",
            "_view_module_version": "1.2.0",
            "_view_name": "StyleView",
            "description_width": ""
          }
        },
        "e13c6324c07b48ceb8276833ebed7fa2": {
          "model_module": "@jupyter-widgets/base",
          "model_module_version": "1.2.0",
          "model_name": "LayoutModel",
          "state": {
            "_model_module": "@jupyter-widgets/base",
            "_model_module_version": "1.2.0",
            "_model_name": "LayoutModel",
            "_view_count": null,
            "_view_module": "@jupyter-widgets/base",
            "_view_module_version": "1.2.0",
            "_view_name": "LayoutView",
            "align_content": null,
            "align_items": null,
            "align_self": null,
            "border": null,
            "bottom": null,
            "display": null,
            "flex": null,
            "flex_flow": null,
            "grid_area": null,
            "grid_auto_columns": null,
            "grid_auto_flow": null,
            "grid_auto_rows": null,
            "grid_column": null,
            "grid_gap": null,
            "grid_row": null,
            "grid_template_areas": null,
            "grid_template_columns": null,
            "grid_template_rows": null,
            "height": null,
            "justify_content": null,
            "justify_items": null,
            "left": null,
            "margin": null,
            "max_height": null,
            "max_width": null,
            "min_height": null,
            "min_width": null,
            "object_fit": null,
            "object_position": null,
            "order": null,
            "overflow": null,
            "overflow_x": null,
            "overflow_y": null,
            "padding": null,
            "right": null,
            "top": null,
            "visibility": null,
            "width": null
          }
        },
        "e50efb8eef9a4c8db7fb9d6727a20940": {
          "model_module": "@jupyter-widgets/controls",
          "model_module_version": "1.5.0",
          "model_name": "DescriptionStyleModel",
          "state": {
            "_model_module": "@jupyter-widgets/controls",
            "_model_module_version": "1.5.0",
            "_model_name": "DescriptionStyleModel",
            "_view_count": null,
            "_view_module": "@jupyter-widgets/base",
            "_view_module_version": "1.2.0",
            "_view_name": "StyleView",
            "description_width": ""
          }
        },
        "f312232693ef462c90d6bda146d2fdee": {
          "model_module": "@jupyter-widgets/controls",
          "model_module_version": "1.5.0",
          "model_name": "ProgressStyleModel",
          "state": {
            "_model_module": "@jupyter-widgets/controls",
            "_model_module_version": "1.5.0",
            "_model_name": "ProgressStyleModel",
            "_view_count": null,
            "_view_module": "@jupyter-widgets/base",
            "_view_module_version": "1.2.0",
            "_view_name": "StyleView",
            "bar_color": null,
            "description_width": ""
          }
        },
        "f7589978e8a949e0962da2ce01548a1a": {
          "model_module": "@jupyter-widgets/controls",
          "model_module_version": "1.5.0",
          "model_name": "HTMLModel",
          "state": {
            "_dom_classes": [],
            "_model_module": "@jupyter-widgets/controls",
            "_model_module_version": "1.5.0",
            "_model_name": "HTMLModel",
            "_view_count": null,
            "_view_module": "@jupyter-widgets/controls",
            "_view_module_version": "1.5.0",
            "_view_name": "HTMLView",
            "description": "",
            "description_tooltip": null,
            "layout": "IPY_MODEL_09fc017c9f5d4488bbb0e05789be8445",
            "placeholder": "​",
            "style": "IPY_MODEL_1e7ffead92304e03a45b4a8d0e0bdf6f",
            "value": " 38578/38578 [17:09&lt;00:00, 36.79it/s]"
          }
        },
        "f7bb26a4b6174cb0aa704b4b8e10ae54": {
          "model_module": "@jupyter-widgets/controls",
          "model_module_version": "1.5.0",
          "model_name": "HTMLModel",
          "state": {
            "_dom_classes": [],
            "_model_module": "@jupyter-widgets/controls",
            "_model_module_version": "1.5.0",
            "_model_name": "HTMLModel",
            "_view_count": null,
            "_view_module": "@jupyter-widgets/controls",
            "_view_module_version": "1.5.0",
            "_view_name": "HTMLView",
            "description": "",
            "description_tooltip": null,
            "layout": "IPY_MODEL_86af5f957099484c86c312f977a3eec8",
            "placeholder": "​",
            "style": "IPY_MODEL_daac09f117984a219315d2cb723ff2dd",
            "value": " 38578/38578 [17:06&lt;00:00, 34.66it/s]"
          }
        },
        "f81db5253eff47898f26ec248e718320": {
          "model_module": "@jupyter-widgets/controls",
          "model_module_version": "1.5.0",
          "model_name": "FloatProgressModel",
          "state": {
            "_dom_classes": [],
            "_model_module": "@jupyter-widgets/controls",
            "_model_module_version": "1.5.0",
            "_model_name": "FloatProgressModel",
            "_view_count": null,
            "_view_module": "@jupyter-widgets/controls",
            "_view_module_version": "1.5.0",
            "_view_name": "ProgressView",
            "bar_style": "success",
            "description": "",
            "description_tooltip": null,
            "layout": "IPY_MODEL_c91247b43dfb44e49fc098e82be64085",
            "max": 38578,
            "min": 0,
            "orientation": "horizontal",
            "style": "IPY_MODEL_cc10f0bc88674375aa3db7d5c9b75de7",
            "value": 38578
          }
        }
      }
    }
  },
  "nbformat": 4,
  "nbformat_minor": 0
}